{
  "nbformat": 4,
  "nbformat_minor": 0,
  "metadata": {
    "kernelspec": {
      "display_name": "Python 3",
      "language": "python",
      "name": "python3"
    },
    "language_info": {
      "codemirror_mode": {
        "name": "ipython",
        "version": 3
      },
      "file_extension": ".py",
      "mimetype": "text/x-python",
      "name": "python",
      "nbconvert_exporter": "python",
      "pygments_lexer": "ipython3",
      "version": "3.6.8"
    },
    "notify_time": "5",
    "toc": {
      "base_numbering": 1,
      "nav_menu": {},
      "number_sections": true,
      "sideBar": true,
      "skip_h1_title": false,
      "title_cell": "Table of Contents",
      "title_sidebar": "Contents",
      "toc_cell": false,
      "toc_position": {},
      "toc_section_display": true,
      "toc_window_display": false
    },
    "colab": {
      "name": "parameter_optimization.ipynb",
      "provenance": [],
      "include_colab_link": true
    },
    "widgets": {
      "application/vnd.jupyter.widget-state+json": {
        "00f7d62617ed43ecb7c5b5e5e9dee587": {
          "model_module": "@jupyter-widgets/controls",
          "model_name": "HBoxModel",
          "state": {
            "_view_name": "HBoxView",
            "_dom_classes": [],
            "_model_name": "HBoxModel",
            "_view_module": "@jupyter-widgets/controls",
            "_model_module_version": "1.5.0",
            "_view_count": null,
            "_view_module_version": "1.5.0",
            "box_style": "",
            "layout": "IPY_MODEL_35faf995c6124208a37274d1cee45c3e",
            "_model_module": "@jupyter-widgets/controls",
            "children": [
              "IPY_MODEL_34470db24f8941cabbc8e340d9257200",
              "IPY_MODEL_7e3b72a19d1d4d2cb403cc180766c94c"
            ]
          }
        },
        "35faf995c6124208a37274d1cee45c3e": {
          "model_module": "@jupyter-widgets/base",
          "model_name": "LayoutModel",
          "state": {
            "_view_name": "LayoutView",
            "grid_template_rows": null,
            "right": null,
            "justify_content": null,
            "_view_module": "@jupyter-widgets/base",
            "overflow": null,
            "_model_module_version": "1.2.0",
            "_view_count": null,
            "flex_flow": null,
            "width": null,
            "min_width": null,
            "border": null,
            "align_items": null,
            "bottom": null,
            "_model_module": "@jupyter-widgets/base",
            "top": null,
            "grid_column": null,
            "overflow_y": null,
            "overflow_x": null,
            "grid_auto_flow": null,
            "grid_area": null,
            "grid_template_columns": null,
            "flex": null,
            "_model_name": "LayoutModel",
            "justify_items": null,
            "grid_row": null,
            "max_height": null,
            "align_content": null,
            "visibility": null,
            "align_self": null,
            "height": null,
            "min_height": null,
            "padding": null,
            "grid_auto_rows": null,
            "grid_gap": null,
            "max_width": null,
            "order": null,
            "_view_module_version": "1.2.0",
            "grid_template_areas": null,
            "object_position": null,
            "object_fit": null,
            "grid_auto_columns": null,
            "margin": null,
            "display": null,
            "left": null
          }
        },
        "34470db24f8941cabbc8e340d9257200": {
          "model_module": "@jupyter-widgets/controls",
          "model_name": "FloatProgressModel",
          "state": {
            "_view_name": "ProgressView",
            "style": "IPY_MODEL_dcdecdb50323452eafe74de835d94527",
            "_dom_classes": [],
            "description": "100%",
            "_model_name": "FloatProgressModel",
            "bar_style": "success",
            "max": 2000,
            "_view_module": "@jupyter-widgets/controls",
            "_model_module_version": "1.5.0",
            "value": 2000,
            "_view_count": null,
            "_view_module_version": "1.5.0",
            "orientation": "horizontal",
            "min": 0,
            "description_tooltip": null,
            "_model_module": "@jupyter-widgets/controls",
            "layout": "IPY_MODEL_1ab4889cb2fa4c919b89f65d7135a8ab"
          }
        },
        "7e3b72a19d1d4d2cb403cc180766c94c": {
          "model_module": "@jupyter-widgets/controls",
          "model_name": "HTMLModel",
          "state": {
            "_view_name": "HTMLView",
            "style": "IPY_MODEL_fdcbd0597c0b442b8b7c7c461b3c665a",
            "_dom_classes": [],
            "description": "",
            "_model_name": "HTMLModel",
            "placeholder": "​",
            "_view_module": "@jupyter-widgets/controls",
            "_model_module_version": "1.5.0",
            "value": " 2000/2000 [00:05&lt;00:00, 371.34it/s]",
            "_view_count": null,
            "_view_module_version": "1.5.0",
            "description_tooltip": null,
            "_model_module": "@jupyter-widgets/controls",
            "layout": "IPY_MODEL_e9346371c3b84749994591fd1a82a37a"
          }
        },
        "dcdecdb50323452eafe74de835d94527": {
          "model_module": "@jupyter-widgets/controls",
          "model_name": "ProgressStyleModel",
          "state": {
            "_view_name": "StyleView",
            "_model_name": "ProgressStyleModel",
            "description_width": "initial",
            "_view_module": "@jupyter-widgets/base",
            "_model_module_version": "1.5.0",
            "_view_count": null,
            "_view_module_version": "1.2.0",
            "bar_color": null,
            "_model_module": "@jupyter-widgets/controls"
          }
        },
        "1ab4889cb2fa4c919b89f65d7135a8ab": {
          "model_module": "@jupyter-widgets/base",
          "model_name": "LayoutModel",
          "state": {
            "_view_name": "LayoutView",
            "grid_template_rows": null,
            "right": null,
            "justify_content": null,
            "_view_module": "@jupyter-widgets/base",
            "overflow": null,
            "_model_module_version": "1.2.0",
            "_view_count": null,
            "flex_flow": null,
            "width": null,
            "min_width": null,
            "border": null,
            "align_items": null,
            "bottom": null,
            "_model_module": "@jupyter-widgets/base",
            "top": null,
            "grid_column": null,
            "overflow_y": null,
            "overflow_x": null,
            "grid_auto_flow": null,
            "grid_area": null,
            "grid_template_columns": null,
            "flex": null,
            "_model_name": "LayoutModel",
            "justify_items": null,
            "grid_row": null,
            "max_height": null,
            "align_content": null,
            "visibility": null,
            "align_self": null,
            "height": null,
            "min_height": null,
            "padding": null,
            "grid_auto_rows": null,
            "grid_gap": null,
            "max_width": null,
            "order": null,
            "_view_module_version": "1.2.0",
            "grid_template_areas": null,
            "object_position": null,
            "object_fit": null,
            "grid_auto_columns": null,
            "margin": null,
            "display": null,
            "left": null
          }
        },
        "fdcbd0597c0b442b8b7c7c461b3c665a": {
          "model_module": "@jupyter-widgets/controls",
          "model_name": "DescriptionStyleModel",
          "state": {
            "_view_name": "StyleView",
            "_model_name": "DescriptionStyleModel",
            "description_width": "",
            "_view_module": "@jupyter-widgets/base",
            "_model_module_version": "1.5.0",
            "_view_count": null,
            "_view_module_version": "1.2.0",
            "_model_module": "@jupyter-widgets/controls"
          }
        },
        "e9346371c3b84749994591fd1a82a37a": {
          "model_module": "@jupyter-widgets/base",
          "model_name": "LayoutModel",
          "state": {
            "_view_name": "LayoutView",
            "grid_template_rows": null,
            "right": null,
            "justify_content": null,
            "_view_module": "@jupyter-widgets/base",
            "overflow": null,
            "_model_module_version": "1.2.0",
            "_view_count": null,
            "flex_flow": null,
            "width": null,
            "min_width": null,
            "border": null,
            "align_items": null,
            "bottom": null,
            "_model_module": "@jupyter-widgets/base",
            "top": null,
            "grid_column": null,
            "overflow_y": null,
            "overflow_x": null,
            "grid_auto_flow": null,
            "grid_area": null,
            "grid_template_columns": null,
            "flex": null,
            "_model_name": "LayoutModel",
            "justify_items": null,
            "grid_row": null,
            "max_height": null,
            "align_content": null,
            "visibility": null,
            "align_self": null,
            "height": null,
            "min_height": null,
            "padding": null,
            "grid_auto_rows": null,
            "grid_gap": null,
            "max_width": null,
            "order": null,
            "_view_module_version": "1.2.0",
            "grid_template_areas": null,
            "object_position": null,
            "object_fit": null,
            "grid_auto_columns": null,
            "margin": null,
            "display": null,
            "left": null
          }
        },
        "f794fdac628d42579a57ae52476d9d6e": {
          "model_module": "@jupyter-widgets/controls",
          "model_name": "HBoxModel",
          "state": {
            "_view_name": "HBoxView",
            "_dom_classes": [],
            "_model_name": "HBoxModel",
            "_view_module": "@jupyter-widgets/controls",
            "_model_module_version": "1.5.0",
            "_view_count": null,
            "_view_module_version": "1.5.0",
            "box_style": "",
            "layout": "IPY_MODEL_c7893b8d663144d5be19ce4cc98d5f1c",
            "_model_module": "@jupyter-widgets/controls",
            "children": [
              "IPY_MODEL_69de9bcfbf894a3f98eebbfaaff2b83c",
              "IPY_MODEL_d5598fc68ebd48a8b82dcd48aa8729fa"
            ]
          }
        },
        "c7893b8d663144d5be19ce4cc98d5f1c": {
          "model_module": "@jupyter-widgets/base",
          "model_name": "LayoutModel",
          "state": {
            "_view_name": "LayoutView",
            "grid_template_rows": null,
            "right": null,
            "justify_content": null,
            "_view_module": "@jupyter-widgets/base",
            "overflow": null,
            "_model_module_version": "1.2.0",
            "_view_count": null,
            "flex_flow": null,
            "width": null,
            "min_width": null,
            "border": null,
            "align_items": null,
            "bottom": null,
            "_model_module": "@jupyter-widgets/base",
            "top": null,
            "grid_column": null,
            "overflow_y": null,
            "overflow_x": null,
            "grid_auto_flow": null,
            "grid_area": null,
            "grid_template_columns": null,
            "flex": null,
            "_model_name": "LayoutModel",
            "justify_items": null,
            "grid_row": null,
            "max_height": null,
            "align_content": null,
            "visibility": null,
            "align_self": null,
            "height": null,
            "min_height": null,
            "padding": null,
            "grid_auto_rows": null,
            "grid_gap": null,
            "max_width": null,
            "order": null,
            "_view_module_version": "1.2.0",
            "grid_template_areas": null,
            "object_position": null,
            "object_fit": null,
            "grid_auto_columns": null,
            "margin": null,
            "display": null,
            "left": null
          }
        },
        "69de9bcfbf894a3f98eebbfaaff2b83c": {
          "model_module": "@jupyter-widgets/controls",
          "model_name": "FloatProgressModel",
          "state": {
            "_view_name": "ProgressView",
            "style": "IPY_MODEL_7aeb8238f51f4b33b4e05942a68e43c1",
            "_dom_classes": [],
            "description": "100%",
            "_model_name": "FloatProgressModel",
            "bar_style": "success",
            "max": 2000,
            "_view_module": "@jupyter-widgets/controls",
            "_model_module_version": "1.5.0",
            "value": 2000,
            "_view_count": null,
            "_view_module_version": "1.5.0",
            "orientation": "horizontal",
            "min": 0,
            "description_tooltip": null,
            "_model_module": "@jupyter-widgets/controls",
            "layout": "IPY_MODEL_2c61e39d050948be8868fe552695ed00"
          }
        },
        "d5598fc68ebd48a8b82dcd48aa8729fa": {
          "model_module": "@jupyter-widgets/controls",
          "model_name": "HTMLModel",
          "state": {
            "_view_name": "HTMLView",
            "style": "IPY_MODEL_3a180927a8fd488b8fe259f6c6404db0",
            "_dom_classes": [],
            "description": "",
            "_model_name": "HTMLModel",
            "placeholder": "​",
            "_view_module": "@jupyter-widgets/controls",
            "_model_module_version": "1.5.0",
            "value": " 2000/2000 [00:00&lt;00:00, 2758.91it/s]",
            "_view_count": null,
            "_view_module_version": "1.5.0",
            "description_tooltip": null,
            "_model_module": "@jupyter-widgets/controls",
            "layout": "IPY_MODEL_6659ffba606444a98d586526f056d3e2"
          }
        },
        "7aeb8238f51f4b33b4e05942a68e43c1": {
          "model_module": "@jupyter-widgets/controls",
          "model_name": "ProgressStyleModel",
          "state": {
            "_view_name": "StyleView",
            "_model_name": "ProgressStyleModel",
            "description_width": "initial",
            "_view_module": "@jupyter-widgets/base",
            "_model_module_version": "1.5.0",
            "_view_count": null,
            "_view_module_version": "1.2.0",
            "bar_color": null,
            "_model_module": "@jupyter-widgets/controls"
          }
        },
        "2c61e39d050948be8868fe552695ed00": {
          "model_module": "@jupyter-widgets/base",
          "model_name": "LayoutModel",
          "state": {
            "_view_name": "LayoutView",
            "grid_template_rows": null,
            "right": null,
            "justify_content": null,
            "_view_module": "@jupyter-widgets/base",
            "overflow": null,
            "_model_module_version": "1.2.0",
            "_view_count": null,
            "flex_flow": null,
            "width": null,
            "min_width": null,
            "border": null,
            "align_items": null,
            "bottom": null,
            "_model_module": "@jupyter-widgets/base",
            "top": null,
            "grid_column": null,
            "overflow_y": null,
            "overflow_x": null,
            "grid_auto_flow": null,
            "grid_area": null,
            "grid_template_columns": null,
            "flex": null,
            "_model_name": "LayoutModel",
            "justify_items": null,
            "grid_row": null,
            "max_height": null,
            "align_content": null,
            "visibility": null,
            "align_self": null,
            "height": null,
            "min_height": null,
            "padding": null,
            "grid_auto_rows": null,
            "grid_gap": null,
            "max_width": null,
            "order": null,
            "_view_module_version": "1.2.0",
            "grid_template_areas": null,
            "object_position": null,
            "object_fit": null,
            "grid_auto_columns": null,
            "margin": null,
            "display": null,
            "left": null
          }
        },
        "3a180927a8fd488b8fe259f6c6404db0": {
          "model_module": "@jupyter-widgets/controls",
          "model_name": "DescriptionStyleModel",
          "state": {
            "_view_name": "StyleView",
            "_model_name": "DescriptionStyleModel",
            "description_width": "",
            "_view_module": "@jupyter-widgets/base",
            "_model_module_version": "1.5.0",
            "_view_count": null,
            "_view_module_version": "1.2.0",
            "_model_module": "@jupyter-widgets/controls"
          }
        },
        "6659ffba606444a98d586526f056d3e2": {
          "model_module": "@jupyter-widgets/base",
          "model_name": "LayoutModel",
          "state": {
            "_view_name": "LayoutView",
            "grid_template_rows": null,
            "right": null,
            "justify_content": null,
            "_view_module": "@jupyter-widgets/base",
            "overflow": null,
            "_model_module_version": "1.2.0",
            "_view_count": null,
            "flex_flow": null,
            "width": null,
            "min_width": null,
            "border": null,
            "align_items": null,
            "bottom": null,
            "_model_module": "@jupyter-widgets/base",
            "top": null,
            "grid_column": null,
            "overflow_y": null,
            "overflow_x": null,
            "grid_auto_flow": null,
            "grid_area": null,
            "grid_template_columns": null,
            "flex": null,
            "_model_name": "LayoutModel",
            "justify_items": null,
            "grid_row": null,
            "max_height": null,
            "align_content": null,
            "visibility": null,
            "align_self": null,
            "height": null,
            "min_height": null,
            "padding": null,
            "grid_auto_rows": null,
            "grid_gap": null,
            "max_width": null,
            "order": null,
            "_view_module_version": "1.2.0",
            "grid_template_areas": null,
            "object_position": null,
            "object_fit": null,
            "grid_auto_columns": null,
            "margin": null,
            "display": null,
            "left": null
          }
        },
        "243f3d4274c141a2827112fc4cd31a8f": {
          "model_module": "@jupyter-widgets/controls",
          "model_name": "HBoxModel",
          "state": {
            "_view_name": "HBoxView",
            "_dom_classes": [],
            "_model_name": "HBoxModel",
            "_view_module": "@jupyter-widgets/controls",
            "_model_module_version": "1.5.0",
            "_view_count": null,
            "_view_module_version": "1.5.0",
            "box_style": "",
            "layout": "IPY_MODEL_cd1ea5e1154c4823a563c472a39c3349",
            "_model_module": "@jupyter-widgets/controls",
            "children": [
              "IPY_MODEL_7c381e8043624b6ab3a2411783b95fbd",
              "IPY_MODEL_c80d4f587f8e422ea632002faaebcd17"
            ]
          }
        },
        "cd1ea5e1154c4823a563c472a39c3349": {
          "model_module": "@jupyter-widgets/base",
          "model_name": "LayoutModel",
          "state": {
            "_view_name": "LayoutView",
            "grid_template_rows": null,
            "right": null,
            "justify_content": null,
            "_view_module": "@jupyter-widgets/base",
            "overflow": null,
            "_model_module_version": "1.2.0",
            "_view_count": null,
            "flex_flow": null,
            "width": null,
            "min_width": null,
            "border": null,
            "align_items": null,
            "bottom": null,
            "_model_module": "@jupyter-widgets/base",
            "top": null,
            "grid_column": null,
            "overflow_y": null,
            "overflow_x": null,
            "grid_auto_flow": null,
            "grid_area": null,
            "grid_template_columns": null,
            "flex": null,
            "_model_name": "LayoutModel",
            "justify_items": null,
            "grid_row": null,
            "max_height": null,
            "align_content": null,
            "visibility": null,
            "align_self": null,
            "height": null,
            "min_height": null,
            "padding": null,
            "grid_auto_rows": null,
            "grid_gap": null,
            "max_width": null,
            "order": null,
            "_view_module_version": "1.2.0",
            "grid_template_areas": null,
            "object_position": null,
            "object_fit": null,
            "grid_auto_columns": null,
            "margin": null,
            "display": null,
            "left": null
          }
        },
        "7c381e8043624b6ab3a2411783b95fbd": {
          "model_module": "@jupyter-widgets/controls",
          "model_name": "FloatProgressModel",
          "state": {
            "_view_name": "ProgressView",
            "style": "IPY_MODEL_c70570d4cb8944e1b9f6b9da61eb00ac",
            "_dom_classes": [],
            "description": "100%",
            "_model_name": "FloatProgressModel",
            "bar_style": "success",
            "max": 2000,
            "_view_module": "@jupyter-widgets/controls",
            "_model_module_version": "1.5.0",
            "value": 2000,
            "_view_count": null,
            "_view_module_version": "1.5.0",
            "orientation": "horizontal",
            "min": 0,
            "description_tooltip": null,
            "_model_module": "@jupyter-widgets/controls",
            "layout": "IPY_MODEL_0db55861e90a48c59261b3321f0626a1"
          }
        },
        "c80d4f587f8e422ea632002faaebcd17": {
          "model_module": "@jupyter-widgets/controls",
          "model_name": "HTMLModel",
          "state": {
            "_view_name": "HTMLView",
            "style": "IPY_MODEL_3604e974d0f24aa3b650761e07a8eecc",
            "_dom_classes": [],
            "description": "",
            "_model_name": "HTMLModel",
            "placeholder": "​",
            "_view_module": "@jupyter-widgets/controls",
            "_model_module_version": "1.5.0",
            "value": " 2000/2000 [00:00&lt;00:00, 4636.05it/s]",
            "_view_count": null,
            "_view_module_version": "1.5.0",
            "description_tooltip": null,
            "_model_module": "@jupyter-widgets/controls",
            "layout": "IPY_MODEL_cba38b70a699474eaff981cf33897125"
          }
        },
        "c70570d4cb8944e1b9f6b9da61eb00ac": {
          "model_module": "@jupyter-widgets/controls",
          "model_name": "ProgressStyleModel",
          "state": {
            "_view_name": "StyleView",
            "_model_name": "ProgressStyleModel",
            "description_width": "initial",
            "_view_module": "@jupyter-widgets/base",
            "_model_module_version": "1.5.0",
            "_view_count": null,
            "_view_module_version": "1.2.0",
            "bar_color": null,
            "_model_module": "@jupyter-widgets/controls"
          }
        },
        "0db55861e90a48c59261b3321f0626a1": {
          "model_module": "@jupyter-widgets/base",
          "model_name": "LayoutModel",
          "state": {
            "_view_name": "LayoutView",
            "grid_template_rows": null,
            "right": null,
            "justify_content": null,
            "_view_module": "@jupyter-widgets/base",
            "overflow": null,
            "_model_module_version": "1.2.0",
            "_view_count": null,
            "flex_flow": null,
            "width": null,
            "min_width": null,
            "border": null,
            "align_items": null,
            "bottom": null,
            "_model_module": "@jupyter-widgets/base",
            "top": null,
            "grid_column": null,
            "overflow_y": null,
            "overflow_x": null,
            "grid_auto_flow": null,
            "grid_area": null,
            "grid_template_columns": null,
            "flex": null,
            "_model_name": "LayoutModel",
            "justify_items": null,
            "grid_row": null,
            "max_height": null,
            "align_content": null,
            "visibility": null,
            "align_self": null,
            "height": null,
            "min_height": null,
            "padding": null,
            "grid_auto_rows": null,
            "grid_gap": null,
            "max_width": null,
            "order": null,
            "_view_module_version": "1.2.0",
            "grid_template_areas": null,
            "object_position": null,
            "object_fit": null,
            "grid_auto_columns": null,
            "margin": null,
            "display": null,
            "left": null
          }
        },
        "3604e974d0f24aa3b650761e07a8eecc": {
          "model_module": "@jupyter-widgets/controls",
          "model_name": "DescriptionStyleModel",
          "state": {
            "_view_name": "StyleView",
            "_model_name": "DescriptionStyleModel",
            "description_width": "",
            "_view_module": "@jupyter-widgets/base",
            "_model_module_version": "1.5.0",
            "_view_count": null,
            "_view_module_version": "1.2.0",
            "_model_module": "@jupyter-widgets/controls"
          }
        },
        "cba38b70a699474eaff981cf33897125": {
          "model_module": "@jupyter-widgets/base",
          "model_name": "LayoutModel",
          "state": {
            "_view_name": "LayoutView",
            "grid_template_rows": null,
            "right": null,
            "justify_content": null,
            "_view_module": "@jupyter-widgets/base",
            "overflow": null,
            "_model_module_version": "1.2.0",
            "_view_count": null,
            "flex_flow": null,
            "width": null,
            "min_width": null,
            "border": null,
            "align_items": null,
            "bottom": null,
            "_model_module": "@jupyter-widgets/base",
            "top": null,
            "grid_column": null,
            "overflow_y": null,
            "overflow_x": null,
            "grid_auto_flow": null,
            "grid_area": null,
            "grid_template_columns": null,
            "flex": null,
            "_model_name": "LayoutModel",
            "justify_items": null,
            "grid_row": null,
            "max_height": null,
            "align_content": null,
            "visibility": null,
            "align_self": null,
            "height": null,
            "min_height": null,
            "padding": null,
            "grid_auto_rows": null,
            "grid_gap": null,
            "max_width": null,
            "order": null,
            "_view_module_version": "1.2.0",
            "grid_template_areas": null,
            "object_position": null,
            "object_fit": null,
            "grid_auto_columns": null,
            "margin": null,
            "display": null,
            "left": null
          }
        },
        "ca5b9def4aa24d8685d3261ce3c7bcb6": {
          "model_module": "@jupyter-widgets/controls",
          "model_name": "HBoxModel",
          "state": {
            "_view_name": "HBoxView",
            "_dom_classes": [],
            "_model_name": "HBoxModel",
            "_view_module": "@jupyter-widgets/controls",
            "_model_module_version": "1.5.0",
            "_view_count": null,
            "_view_module_version": "1.5.0",
            "box_style": "",
            "layout": "IPY_MODEL_144a77de278b43b38eb34f42555e462d",
            "_model_module": "@jupyter-widgets/controls",
            "children": [
              "IPY_MODEL_f967ead45fd5427daf6096f4101f3cb8",
              "IPY_MODEL_b2c045a8cf5c4ad192ec9f8ca3936d3d"
            ]
          }
        },
        "144a77de278b43b38eb34f42555e462d": {
          "model_module": "@jupyter-widgets/base",
          "model_name": "LayoutModel",
          "state": {
            "_view_name": "LayoutView",
            "grid_template_rows": null,
            "right": null,
            "justify_content": null,
            "_view_module": "@jupyter-widgets/base",
            "overflow": null,
            "_model_module_version": "1.2.0",
            "_view_count": null,
            "flex_flow": null,
            "width": null,
            "min_width": null,
            "border": null,
            "align_items": null,
            "bottom": null,
            "_model_module": "@jupyter-widgets/base",
            "top": null,
            "grid_column": null,
            "overflow_y": null,
            "overflow_x": null,
            "grid_auto_flow": null,
            "grid_area": null,
            "grid_template_columns": null,
            "flex": null,
            "_model_name": "LayoutModel",
            "justify_items": null,
            "grid_row": null,
            "max_height": null,
            "align_content": null,
            "visibility": null,
            "align_self": null,
            "height": null,
            "min_height": null,
            "padding": null,
            "grid_auto_rows": null,
            "grid_gap": null,
            "max_width": null,
            "order": null,
            "_view_module_version": "1.2.0",
            "grid_template_areas": null,
            "object_position": null,
            "object_fit": null,
            "grid_auto_columns": null,
            "margin": null,
            "display": null,
            "left": null
          }
        },
        "f967ead45fd5427daf6096f4101f3cb8": {
          "model_module": "@jupyter-widgets/controls",
          "model_name": "FloatProgressModel",
          "state": {
            "_view_name": "ProgressView",
            "style": "IPY_MODEL_de71f17cfa42447da9120c005655ad51",
            "_dom_classes": [],
            "description": "100%",
            "_model_name": "FloatProgressModel",
            "bar_style": "success",
            "max": 2000,
            "_view_module": "@jupyter-widgets/controls",
            "_model_module_version": "1.5.0",
            "value": 2000,
            "_view_count": null,
            "_view_module_version": "1.5.0",
            "orientation": "horizontal",
            "min": 0,
            "description_tooltip": null,
            "_model_module": "@jupyter-widgets/controls",
            "layout": "IPY_MODEL_66327de70ae8401893a0f93b2ebf379c"
          }
        },
        "b2c045a8cf5c4ad192ec9f8ca3936d3d": {
          "model_module": "@jupyter-widgets/controls",
          "model_name": "HTMLModel",
          "state": {
            "_view_name": "HTMLView",
            "style": "IPY_MODEL_3c4c2f9881fa4e05b49dd889a88a3d0d",
            "_dom_classes": [],
            "description": "",
            "_model_name": "HTMLModel",
            "placeholder": "​",
            "_view_module": "@jupyter-widgets/controls",
            "_model_module_version": "1.5.0",
            "value": " 2000/2000 [00:04&lt;00:00, 451.53it/s]",
            "_view_count": null,
            "_view_module_version": "1.5.0",
            "description_tooltip": null,
            "_model_module": "@jupyter-widgets/controls",
            "layout": "IPY_MODEL_fff760518fa94e2b85e1ee37199f2ee1"
          }
        },
        "de71f17cfa42447da9120c005655ad51": {
          "model_module": "@jupyter-widgets/controls",
          "model_name": "ProgressStyleModel",
          "state": {
            "_view_name": "StyleView",
            "_model_name": "ProgressStyleModel",
            "description_width": "initial",
            "_view_module": "@jupyter-widgets/base",
            "_model_module_version": "1.5.0",
            "_view_count": null,
            "_view_module_version": "1.2.0",
            "bar_color": null,
            "_model_module": "@jupyter-widgets/controls"
          }
        },
        "66327de70ae8401893a0f93b2ebf379c": {
          "model_module": "@jupyter-widgets/base",
          "model_name": "LayoutModel",
          "state": {
            "_view_name": "LayoutView",
            "grid_template_rows": null,
            "right": null,
            "justify_content": null,
            "_view_module": "@jupyter-widgets/base",
            "overflow": null,
            "_model_module_version": "1.2.0",
            "_view_count": null,
            "flex_flow": null,
            "width": null,
            "min_width": null,
            "border": null,
            "align_items": null,
            "bottom": null,
            "_model_module": "@jupyter-widgets/base",
            "top": null,
            "grid_column": null,
            "overflow_y": null,
            "overflow_x": null,
            "grid_auto_flow": null,
            "grid_area": null,
            "grid_template_columns": null,
            "flex": null,
            "_model_name": "LayoutModel",
            "justify_items": null,
            "grid_row": null,
            "max_height": null,
            "align_content": null,
            "visibility": null,
            "align_self": null,
            "height": null,
            "min_height": null,
            "padding": null,
            "grid_auto_rows": null,
            "grid_gap": null,
            "max_width": null,
            "order": null,
            "_view_module_version": "1.2.0",
            "grid_template_areas": null,
            "object_position": null,
            "object_fit": null,
            "grid_auto_columns": null,
            "margin": null,
            "display": null,
            "left": null
          }
        },
        "3c4c2f9881fa4e05b49dd889a88a3d0d": {
          "model_module": "@jupyter-widgets/controls",
          "model_name": "DescriptionStyleModel",
          "state": {
            "_view_name": "StyleView",
            "_model_name": "DescriptionStyleModel",
            "description_width": "",
            "_view_module": "@jupyter-widgets/base",
            "_model_module_version": "1.5.0",
            "_view_count": null,
            "_view_module_version": "1.2.0",
            "_model_module": "@jupyter-widgets/controls"
          }
        },
        "fff760518fa94e2b85e1ee37199f2ee1": {
          "model_module": "@jupyter-widgets/base",
          "model_name": "LayoutModel",
          "state": {
            "_view_name": "LayoutView",
            "grid_template_rows": null,
            "right": null,
            "justify_content": null,
            "_view_module": "@jupyter-widgets/base",
            "overflow": null,
            "_model_module_version": "1.2.0",
            "_view_count": null,
            "flex_flow": null,
            "width": null,
            "min_width": null,
            "border": null,
            "align_items": null,
            "bottom": null,
            "_model_module": "@jupyter-widgets/base",
            "top": null,
            "grid_column": null,
            "overflow_y": null,
            "overflow_x": null,
            "grid_auto_flow": null,
            "grid_area": null,
            "grid_template_columns": null,
            "flex": null,
            "_model_name": "LayoutModel",
            "justify_items": null,
            "grid_row": null,
            "max_height": null,
            "align_content": null,
            "visibility": null,
            "align_self": null,
            "height": null,
            "min_height": null,
            "padding": null,
            "grid_auto_rows": null,
            "grid_gap": null,
            "max_width": null,
            "order": null,
            "_view_module_version": "1.2.0",
            "grid_template_areas": null,
            "object_position": null,
            "object_fit": null,
            "grid_auto_columns": null,
            "margin": null,
            "display": null,
            "left": null
          }
        },
        "df0a2c5e51b7487fb202af77c4c038a8": {
          "model_module": "@jupyter-widgets/controls",
          "model_name": "VBoxModel",
          "state": {
            "_view_name": "VBoxView",
            "_dom_classes": [
              "widget-interact"
            ],
            "_model_name": "VBoxModel",
            "_view_module": "@jupyter-widgets/controls",
            "_model_module_version": "1.5.0",
            "_view_count": null,
            "_view_module_version": "1.5.0",
            "box_style": "",
            "layout": "IPY_MODEL_d7344db90ff24cbba791f5f51c2cce69",
            "_model_module": "@jupyter-widgets/controls",
            "children": [
              "IPY_MODEL_70121295585a417e814f7d8b6db36c55",
              "IPY_MODEL_092f86d3138143999f52ad9aa7a654db"
            ]
          }
        },
        "d7344db90ff24cbba791f5f51c2cce69": {
          "model_module": "@jupyter-widgets/base",
          "model_name": "LayoutModel",
          "state": {
            "_view_name": "LayoutView",
            "grid_template_rows": null,
            "right": null,
            "justify_content": null,
            "_view_module": "@jupyter-widgets/base",
            "overflow": null,
            "_model_module_version": "1.2.0",
            "_view_count": null,
            "flex_flow": null,
            "width": null,
            "min_width": null,
            "border": null,
            "align_items": null,
            "bottom": null,
            "_model_module": "@jupyter-widgets/base",
            "top": null,
            "grid_column": null,
            "overflow_y": null,
            "overflow_x": null,
            "grid_auto_flow": null,
            "grid_area": null,
            "grid_template_columns": null,
            "flex": null,
            "_model_name": "LayoutModel",
            "justify_items": null,
            "grid_row": null,
            "max_height": null,
            "align_content": null,
            "visibility": null,
            "align_self": null,
            "height": null,
            "min_height": null,
            "padding": null,
            "grid_auto_rows": null,
            "grid_gap": null,
            "max_width": null,
            "order": null,
            "_view_module_version": "1.2.0",
            "grid_template_areas": null,
            "object_position": null,
            "object_fit": null,
            "grid_auto_columns": null,
            "margin": null,
            "display": null,
            "left": null
          }
        },
        "70121295585a417e814f7d8b6db36c55": {
          "model_module": "@jupyter-widgets/controls",
          "model_name": "PlayModel",
          "state": {
            "_view_name": "PlayView",
            "style": "IPY_MODEL_bfa8fedbce7f477d81aae2b9a272e95e",
            "interval": 100,
            "_dom_classes": [],
            "description": "t",
            "_model_name": "PlayModel",
            "max": 2000,
            "_view_module": "@jupyter-widgets/controls",
            "_model_module_version": "1.5.0",
            "value": 1390,
            "_view_count": null,
            "disabled": false,
            "_repeat": true,
            "_view_module_version": "1.5.0",
            "show_repeat": true,
            "min": 0,
            "_playing": true,
            "step": 10,
            "description_tooltip": null,
            "_model_module": "@jupyter-widgets/controls",
            "layout": "IPY_MODEL_8faca3550c1843b8b32fe4be15a3c384"
          }
        },
        "092f86d3138143999f52ad9aa7a654db": {
          "model_module": "@jupyter-widgets/output",
          "model_name": "OutputModel",
          "state": {
            "_view_name": "OutputView",
            "msg_id": "",
            "_dom_classes": [],
            "_model_name": "OutputModel",
            "outputs": [
              {
                "output_type": "pyerr",
                "metadata": {
                  "tags": []
                },
                "ename": "TypeError",
                "evalue": "ignored",
                "traceback": [
                  "\u001b[0;31m---------------------------------------------------------------------------\u001b[0m",
                  "\u001b[0;31mTypeError\u001b[0m                                 Traceback (most recent call last)",
                  "\u001b[0;32m/usr/local/lib/python3.6/dist-packages/ipywidgets/widgets/interaction.py\u001b[0m in \u001b[0;36mupdate\u001b[0;34m(self, *args)\u001b[0m\n\u001b[1;32m    254\u001b[0m                     \u001b[0mvalue\u001b[0m \u001b[0;34m=\u001b[0m \u001b[0mwidget\u001b[0m\u001b[0;34m.\u001b[0m\u001b[0mget_interact_value\u001b[0m\u001b[0;34m(\u001b[0m\u001b[0;34m)\u001b[0m\u001b[0;34m\u001b[0m\u001b[0;34m\u001b[0m\u001b[0m\n\u001b[1;32m    255\u001b[0m                     \u001b[0mself\u001b[0m\u001b[0;34m.\u001b[0m\u001b[0mkwargs\u001b[0m\u001b[0;34m[\u001b[0m\u001b[0mwidget\u001b[0m\u001b[0;34m.\u001b[0m\u001b[0m_kwarg\u001b[0m\u001b[0;34m]\u001b[0m \u001b[0;34m=\u001b[0m \u001b[0mvalue\u001b[0m\u001b[0;34m\u001b[0m\u001b[0;34m\u001b[0m\u001b[0m\n\u001b[0;32m--> 256\u001b[0;31m                 \u001b[0mself\u001b[0m\u001b[0;34m.\u001b[0m\u001b[0mresult\u001b[0m \u001b[0;34m=\u001b[0m \u001b[0mself\u001b[0m\u001b[0;34m.\u001b[0m\u001b[0mf\u001b[0m\u001b[0;34m(\u001b[0m\u001b[0;34m**\u001b[0m\u001b[0mself\u001b[0m\u001b[0;34m.\u001b[0m\u001b[0mkwargs\u001b[0m\u001b[0;34m)\u001b[0m\u001b[0;34m\u001b[0m\u001b[0;34m\u001b[0m\u001b[0m\n\u001b[0m\u001b[1;32m    257\u001b[0m                 \u001b[0mshow_inline_matplotlib_plots\u001b[0m\u001b[0;34m(\u001b[0m\u001b[0;34m)\u001b[0m\u001b[0;34m\u001b[0m\u001b[0;34m\u001b[0m\u001b[0m\n\u001b[1;32m    258\u001b[0m                 \u001b[0;32mif\u001b[0m \u001b[0mself\u001b[0m\u001b[0;34m.\u001b[0m\u001b[0mauto_display\u001b[0m \u001b[0;32mand\u001b[0m \u001b[0mself\u001b[0m\u001b[0;34m.\u001b[0m\u001b[0mresult\u001b[0m \u001b[0;32mis\u001b[0m \u001b[0;32mnot\u001b[0m \u001b[0;32mNone\u001b[0m\u001b[0;34m:\u001b[0m\u001b[0;34m\u001b[0m\u001b[0;34m\u001b[0m\u001b[0m\n",
                  "\u001b[0;32m<ipython-input-9-ba5e9b8d76e6>\u001b[0m in \u001b[0;36mmake_viz\u001b[0;34m(t)\u001b[0m\n\u001b[1;32m      5\u001b[0m     z = get_error_surface(x, y, \n\u001b[1;32m      6\u001b[0m                           \u001b[0mNeuralNetwork\u001b[0m\u001b[0;34m,\u001b[0m\u001b[0;34m\u001b[0m\u001b[0;34m\u001b[0m\u001b[0m\n\u001b[0;32m----> 7\u001b[0;31m                           (dataset[['var1','var2']].values, dataset[['output']].values))\n\u001b[0m\u001b[1;32m      8\u001b[0m     \u001b[0;32mif\u001b[0m \u001b[0mlen\u001b[0m\u001b[0;34m(\u001b[0m\u001b[0mplt\u001b[0m\u001b[0;34m.\u001b[0m\u001b[0mgcf\u001b[0m\u001b[0;34m(\u001b[0m\u001b[0;34m)\u001b[0m\u001b[0;34m.\u001b[0m\u001b[0maxes\u001b[0m\u001b[0;34m)\u001b[0m \u001b[0;34m==\u001b[0m \u001b[0;36m4\u001b[0m\u001b[0;34m:\u001b[0m\u001b[0;34m\u001b[0m\u001b[0;34m\u001b[0m\u001b[0m\n\u001b[1;32m      9\u001b[0m         \u001b[0mCS\u001b[0m \u001b[0;34m=\u001b[0m \u001b[0max1\u001b[0m\u001b[0;34m.\u001b[0m\u001b[0mcontourf\u001b[0m\u001b[0;34m(\u001b[0m\u001b[0mx\u001b[0m\u001b[0;34m,\u001b[0m \u001b[0my\u001b[0m\u001b[0;34m,\u001b[0m \u001b[0mz\u001b[0m\u001b[0;34m,\u001b[0m \u001b[0mlevels\u001b[0m\u001b[0;34m=\u001b[0m\u001b[0;36m10\u001b[0m\u001b[0;34m,\u001b[0m \u001b[0mcmap\u001b[0m\u001b[0;34m=\u001b[0m\u001b[0;34m'Purples'\u001b[0m\u001b[0;34m)\u001b[0m\u001b[0;34m;\u001b[0m\u001b[0;34m\u001b[0m\u001b[0;34m\u001b[0m\u001b[0m\n",
                  "\u001b[0;32m<ipython-input-3-7d0738a70323>\u001b[0m in \u001b[0;36mget_error_surface\u001b[0;34m(w1, w2, cls, data)\u001b[0m\n\u001b[1;32m      5\u001b[0m \u001b[0;32mdef\u001b[0m \u001b[0mget_error_surface\u001b[0m\u001b[0;34m(\u001b[0m\u001b[0mw1\u001b[0m\u001b[0;34m,\u001b[0m \u001b[0mw2\u001b[0m\u001b[0;34m,\u001b[0m \u001b[0mcls\u001b[0m\u001b[0;34m,\u001b[0m \u001b[0mdata\u001b[0m\u001b[0;34m)\u001b[0m\u001b[0;34m:\u001b[0m\u001b[0;34m\u001b[0m\u001b[0;34m\u001b[0m\u001b[0m\n\u001b[1;32m      6\u001b[0m     \u001b[0;31m#model = NeuralNetwork([2,1], 'regression')\u001b[0m\u001b[0;34m\u001b[0m\u001b[0;34m\u001b[0m\u001b[0;34m\u001b[0m\u001b[0m\n\u001b[0;32m----> 7\u001b[0;31m     \u001b[0mmodel\u001b[0m \u001b[0;34m=\u001b[0m \u001b[0mNeuralNetwork\u001b[0m\u001b[0;34m(\u001b[0m\u001b[0;34m'sgd'\u001b[0m\u001b[0;34m)\u001b[0m\u001b[0;34m\u001b[0m\u001b[0;34m\u001b[0m\u001b[0m\n\u001b[0m\u001b[1;32m      8\u001b[0m     \u001b[0mz\u001b[0m \u001b[0;34m=\u001b[0m \u001b[0mnp\u001b[0m\u001b[0;34m.\u001b[0m\u001b[0mzeros_like\u001b[0m\u001b[0;34m(\u001b[0m\u001b[0mw1\u001b[0m\u001b[0;34m)\u001b[0m\u001b[0;34m\u001b[0m\u001b[0;34m\u001b[0m\u001b[0m\n\u001b[1;32m      9\u001b[0m     \u001b[0;32mfor\u001b[0m \u001b[0mrow\u001b[0m \u001b[0;32min\u001b[0m \u001b[0mrange\u001b[0m\u001b[0;34m(\u001b[0m\u001b[0mw1\u001b[0m\u001b[0;34m.\u001b[0m\u001b[0mshape\u001b[0m\u001b[0;34m[\u001b[0m\u001b[0;36m0\u001b[0m\u001b[0;34m]\u001b[0m\u001b[0;34m)\u001b[0m\u001b[0;34m:\u001b[0m\u001b[0;34m\u001b[0m\u001b[0;34m\u001b[0m\u001b[0m\n",
                  "\u001b[0;32m<ipython-input-19-c848eec8c7ee>\u001b[0m in \u001b[0;36m__init__\u001b[0;34m(self, nodes_per_layer, regularization, reg_factor)\u001b[0m\n\u001b[1;32m     29\u001b[0m         \u001b[0;32mif\u001b[0m \u001b[0mlen\u001b[0m\u001b[0;34m(\u001b[0m\u001b[0mnodes_per_layer\u001b[0m\u001b[0;34m)\u001b[0m \u001b[0;34m<\u001b[0m \u001b[0;36m2\u001b[0m\u001b[0;34m:\u001b[0m\u001b[0;34m\u001b[0m\u001b[0;34m\u001b[0m\u001b[0m\n\u001b[1;32m     30\u001b[0m             \u001b[0;32mraise\u001b[0m \u001b[0mValueError\u001b[0m\u001b[0;34m(\u001b[0m\u001b[0;34m'Network must have atleast 2 layers (input and output).'\u001b[0m\u001b[0;34m)\u001b[0m\u001b[0;34m\u001b[0m\u001b[0;34m\u001b[0m\u001b[0m\n\u001b[0;32m---> 31\u001b[0;31m         \u001b[0;32mif\u001b[0m \u001b[0;32mnot\u001b[0m \u001b[0;34m(\u001b[0m\u001b[0mnp\u001b[0m\u001b[0;34m.\u001b[0m\u001b[0marray\u001b[0m\u001b[0;34m(\u001b[0m\u001b[0mnodes_per_layer\u001b[0m\u001b[0;34m)\u001b[0m \u001b[0;34m>\u001b[0m \u001b[0;36m0\u001b[0m\u001b[0;34m)\u001b[0m\u001b[0;34m.\u001b[0m\u001b[0mall\u001b[0m\u001b[0;34m(\u001b[0m\u001b[0;34m)\u001b[0m\u001b[0;34m:\u001b[0m\u001b[0;34m\u001b[0m\u001b[0;34m\u001b[0m\u001b[0m\n\u001b[0m\u001b[1;32m     32\u001b[0m             \u001b[0;32mraise\u001b[0m \u001b[0mValueError\u001b[0m\u001b[0;34m(\u001b[0m\u001b[0;34m'Number of nodes in all layers must be positive.'\u001b[0m\u001b[0;34m)\u001b[0m\u001b[0;34m\u001b[0m\u001b[0;34m\u001b[0m\u001b[0m\n\u001b[1;32m     33\u001b[0m \u001b[0;34m\u001b[0m\u001b[0m\n",
                  "\u001b[0;31mTypeError\u001b[0m: '>' not supported between instances of 'numpy.ndarray' and 'int'"
                ]
              }
            ],
            "_view_module": "@jupyter-widgets/output",
            "_model_module_version": "1.0.0",
            "_view_count": null,
            "_view_module_version": "1.0.0",
            "layout": "IPY_MODEL_66c3106dc4e44f12be64e86c09f086bd",
            "_model_module": "@jupyter-widgets/output"
          }
        },
        "bfa8fedbce7f477d81aae2b9a272e95e": {
          "model_module": "@jupyter-widgets/controls",
          "model_name": "DescriptionStyleModel",
          "state": {
            "_view_name": "StyleView",
            "_model_name": "DescriptionStyleModel",
            "description_width": "",
            "_view_module": "@jupyter-widgets/base",
            "_model_module_version": "1.5.0",
            "_view_count": null,
            "_view_module_version": "1.2.0",
            "_model_module": "@jupyter-widgets/controls"
          }
        },
        "8faca3550c1843b8b32fe4be15a3c384": {
          "model_module": "@jupyter-widgets/base",
          "model_name": "LayoutModel",
          "state": {
            "_view_name": "LayoutView",
            "grid_template_rows": null,
            "right": null,
            "justify_content": null,
            "_view_module": "@jupyter-widgets/base",
            "overflow": null,
            "_model_module_version": "1.2.0",
            "_view_count": null,
            "flex_flow": null,
            "width": null,
            "min_width": null,
            "border": null,
            "align_items": null,
            "bottom": null,
            "_model_module": "@jupyter-widgets/base",
            "top": null,
            "grid_column": null,
            "overflow_y": null,
            "overflow_x": null,
            "grid_auto_flow": null,
            "grid_area": null,
            "grid_template_columns": null,
            "flex": null,
            "_model_name": "LayoutModel",
            "justify_items": null,
            "grid_row": null,
            "max_height": null,
            "align_content": null,
            "visibility": null,
            "align_self": null,
            "height": null,
            "min_height": null,
            "padding": null,
            "grid_auto_rows": null,
            "grid_gap": null,
            "max_width": null,
            "order": null,
            "_view_module_version": "1.2.0",
            "grid_template_areas": null,
            "object_position": null,
            "object_fit": null,
            "grid_auto_columns": null,
            "margin": null,
            "display": null,
            "left": null
          }
        },
        "66c3106dc4e44f12be64e86c09f086bd": {
          "model_module": "@jupyter-widgets/base",
          "model_name": "LayoutModel",
          "state": {
            "_view_name": "LayoutView",
            "grid_template_rows": null,
            "right": null,
            "justify_content": null,
            "_view_module": "@jupyter-widgets/base",
            "overflow": null,
            "_model_module_version": "1.2.0",
            "_view_count": null,
            "flex_flow": null,
            "width": null,
            "min_width": null,
            "border": null,
            "align_items": null,
            "bottom": null,
            "_model_module": "@jupyter-widgets/base",
            "top": null,
            "grid_column": null,
            "overflow_y": null,
            "overflow_x": null,
            "grid_auto_flow": null,
            "grid_area": null,
            "grid_template_columns": null,
            "flex": null,
            "_model_name": "LayoutModel",
            "justify_items": null,
            "grid_row": null,
            "max_height": null,
            "align_content": null,
            "visibility": null,
            "align_self": null,
            "height": null,
            "min_height": null,
            "padding": null,
            "grid_auto_rows": null,
            "grid_gap": null,
            "max_width": null,
            "order": null,
            "_view_module_version": "1.2.0",
            "grid_template_areas": null,
            "object_position": null,
            "object_fit": null,
            "grid_auto_columns": null,
            "margin": null,
            "display": null,
            "left": null
          }
        },
        "798a70c887d347c5b2dc9016cfe5a495": {
          "model_module": "@jupyter-widgets/controls",
          "model_name": "HBoxModel",
          "state": {
            "_view_name": "HBoxView",
            "_dom_classes": [],
            "_model_name": "HBoxModel",
            "_view_module": "@jupyter-widgets/controls",
            "_model_module_version": "1.5.0",
            "_view_count": null,
            "_view_module_version": "1.5.0",
            "box_style": "",
            "layout": "IPY_MODEL_ef31634f858e4739a5017a8cb16a9bca",
            "_model_module": "@jupyter-widgets/controls",
            "children": [
              "IPY_MODEL_6565c09cce5149788126f9d9c58d59d9",
              "IPY_MODEL_060e8209d54c45f6bed6f227e37e9dc1"
            ]
          }
        },
        "ef31634f858e4739a5017a8cb16a9bca": {
          "model_module": "@jupyter-widgets/base",
          "model_name": "LayoutModel",
          "state": {
            "_view_name": "LayoutView",
            "grid_template_rows": null,
            "right": null,
            "justify_content": null,
            "_view_module": "@jupyter-widgets/base",
            "overflow": null,
            "_model_module_version": "1.2.0",
            "_view_count": null,
            "flex_flow": null,
            "width": null,
            "min_width": null,
            "border": null,
            "align_items": null,
            "bottom": null,
            "_model_module": "@jupyter-widgets/base",
            "top": null,
            "grid_column": null,
            "overflow_y": null,
            "overflow_x": null,
            "grid_auto_flow": null,
            "grid_area": null,
            "grid_template_columns": null,
            "flex": null,
            "_model_name": "LayoutModel",
            "justify_items": null,
            "grid_row": null,
            "max_height": null,
            "align_content": null,
            "visibility": null,
            "align_self": null,
            "height": null,
            "min_height": null,
            "padding": null,
            "grid_auto_rows": null,
            "grid_gap": null,
            "max_width": null,
            "order": null,
            "_view_module_version": "1.2.0",
            "grid_template_areas": null,
            "object_position": null,
            "object_fit": null,
            "grid_auto_columns": null,
            "margin": null,
            "display": null,
            "left": null
          }
        },
        "6565c09cce5149788126f9d9c58d59d9": {
          "model_module": "@jupyter-widgets/controls",
          "model_name": "FloatProgressModel",
          "state": {
            "_view_name": "ProgressView",
            "style": "IPY_MODEL_d8b62f76c6c44a53b7b260add10c23ee",
            "_dom_classes": [],
            "description": "100%",
            "_model_name": "FloatProgressModel",
            "bar_style": "success",
            "max": 5000,
            "_view_module": "@jupyter-widgets/controls",
            "_model_module_version": "1.5.0",
            "value": 5000,
            "_view_count": null,
            "_view_module_version": "1.5.0",
            "orientation": "horizontal",
            "min": 0,
            "description_tooltip": null,
            "_model_module": "@jupyter-widgets/controls",
            "layout": "IPY_MODEL_c89fa9eda2264d0a9c66596cdb12eed6"
          }
        },
        "060e8209d54c45f6bed6f227e37e9dc1": {
          "model_module": "@jupyter-widgets/controls",
          "model_name": "HTMLModel",
          "state": {
            "_view_name": "HTMLView",
            "style": "IPY_MODEL_5d64d1bd5a2b426aadc2b9a255304e31",
            "_dom_classes": [],
            "description": "",
            "_model_name": "HTMLModel",
            "placeholder": "​",
            "_view_module": "@jupyter-widgets/controls",
            "_model_module_version": "1.5.0",
            "value": " 5000/5000 [00:03&lt;00:00, 1374.30it/s]",
            "_view_count": null,
            "_view_module_version": "1.5.0",
            "description_tooltip": null,
            "_model_module": "@jupyter-widgets/controls",
            "layout": "IPY_MODEL_8d3dc0beecee41409d2e277ebdfdc08a"
          }
        },
        "d8b62f76c6c44a53b7b260add10c23ee": {
          "model_module": "@jupyter-widgets/controls",
          "model_name": "ProgressStyleModel",
          "state": {
            "_view_name": "StyleView",
            "_model_name": "ProgressStyleModel",
            "description_width": "initial",
            "_view_module": "@jupyter-widgets/base",
            "_model_module_version": "1.5.0",
            "_view_count": null,
            "_view_module_version": "1.2.0",
            "bar_color": null,
            "_model_module": "@jupyter-widgets/controls"
          }
        },
        "c89fa9eda2264d0a9c66596cdb12eed6": {
          "model_module": "@jupyter-widgets/base",
          "model_name": "LayoutModel",
          "state": {
            "_view_name": "LayoutView",
            "grid_template_rows": null,
            "right": null,
            "justify_content": null,
            "_view_module": "@jupyter-widgets/base",
            "overflow": null,
            "_model_module_version": "1.2.0",
            "_view_count": null,
            "flex_flow": null,
            "width": null,
            "min_width": null,
            "border": null,
            "align_items": null,
            "bottom": null,
            "_model_module": "@jupyter-widgets/base",
            "top": null,
            "grid_column": null,
            "overflow_y": null,
            "overflow_x": null,
            "grid_auto_flow": null,
            "grid_area": null,
            "grid_template_columns": null,
            "flex": null,
            "_model_name": "LayoutModel",
            "justify_items": null,
            "grid_row": null,
            "max_height": null,
            "align_content": null,
            "visibility": null,
            "align_self": null,
            "height": null,
            "min_height": null,
            "padding": null,
            "grid_auto_rows": null,
            "grid_gap": null,
            "max_width": null,
            "order": null,
            "_view_module_version": "1.2.0",
            "grid_template_areas": null,
            "object_position": null,
            "object_fit": null,
            "grid_auto_columns": null,
            "margin": null,
            "display": null,
            "left": null
          }
        },
        "5d64d1bd5a2b426aadc2b9a255304e31": {
          "model_module": "@jupyter-widgets/controls",
          "model_name": "DescriptionStyleModel",
          "state": {
            "_view_name": "StyleView",
            "_model_name": "DescriptionStyleModel",
            "description_width": "",
            "_view_module": "@jupyter-widgets/base",
            "_model_module_version": "1.5.0",
            "_view_count": null,
            "_view_module_version": "1.2.0",
            "_model_module": "@jupyter-widgets/controls"
          }
        },
        "8d3dc0beecee41409d2e277ebdfdc08a": {
          "model_module": "@jupyter-widgets/base",
          "model_name": "LayoutModel",
          "state": {
            "_view_name": "LayoutView",
            "grid_template_rows": null,
            "right": null,
            "justify_content": null,
            "_view_module": "@jupyter-widgets/base",
            "overflow": null,
            "_model_module_version": "1.2.0",
            "_view_count": null,
            "flex_flow": null,
            "width": null,
            "min_width": null,
            "border": null,
            "align_items": null,
            "bottom": null,
            "_model_module": "@jupyter-widgets/base",
            "top": null,
            "grid_column": null,
            "overflow_y": null,
            "overflow_x": null,
            "grid_auto_flow": null,
            "grid_area": null,
            "grid_template_columns": null,
            "flex": null,
            "_model_name": "LayoutModel",
            "justify_items": null,
            "grid_row": null,
            "max_height": null,
            "align_content": null,
            "visibility": null,
            "align_self": null,
            "height": null,
            "min_height": null,
            "padding": null,
            "grid_auto_rows": null,
            "grid_gap": null,
            "max_width": null,
            "order": null,
            "_view_module_version": "1.2.0",
            "grid_template_areas": null,
            "object_position": null,
            "object_fit": null,
            "grid_auto_columns": null,
            "margin": null,
            "display": null,
            "left": null
          }
        },
        "faeffbd4e12a45a681b74bd7c3d15708": {
          "model_module": "@jupyter-widgets/controls",
          "model_name": "HBoxModel",
          "state": {
            "_view_name": "HBoxView",
            "_dom_classes": [],
            "_model_name": "HBoxModel",
            "_view_module": "@jupyter-widgets/controls",
            "_model_module_version": "1.5.0",
            "_view_count": null,
            "_view_module_version": "1.5.0",
            "box_style": "",
            "layout": "IPY_MODEL_dbef53e8829d46acb7eb8f25872d1b21",
            "_model_module": "@jupyter-widgets/controls",
            "children": [
              "IPY_MODEL_4f54531154fe43c6853e46d6494341ba",
              "IPY_MODEL_1efb687f64d54940a72e402dd2999d29"
            ]
          }
        },
        "dbef53e8829d46acb7eb8f25872d1b21": {
          "model_module": "@jupyter-widgets/base",
          "model_name": "LayoutModel",
          "state": {
            "_view_name": "LayoutView",
            "grid_template_rows": null,
            "right": null,
            "justify_content": null,
            "_view_module": "@jupyter-widgets/base",
            "overflow": null,
            "_model_module_version": "1.2.0",
            "_view_count": null,
            "flex_flow": null,
            "width": null,
            "min_width": null,
            "border": null,
            "align_items": null,
            "bottom": null,
            "_model_module": "@jupyter-widgets/base",
            "top": null,
            "grid_column": null,
            "overflow_y": null,
            "overflow_x": null,
            "grid_auto_flow": null,
            "grid_area": null,
            "grid_template_columns": null,
            "flex": null,
            "_model_name": "LayoutModel",
            "justify_items": null,
            "grid_row": null,
            "max_height": null,
            "align_content": null,
            "visibility": null,
            "align_self": null,
            "height": null,
            "min_height": null,
            "padding": null,
            "grid_auto_rows": null,
            "grid_gap": null,
            "max_width": null,
            "order": null,
            "_view_module_version": "1.2.0",
            "grid_template_areas": null,
            "object_position": null,
            "object_fit": null,
            "grid_auto_columns": null,
            "margin": null,
            "display": null,
            "left": null
          }
        },
        "4f54531154fe43c6853e46d6494341ba": {
          "model_module": "@jupyter-widgets/controls",
          "model_name": "FloatProgressModel",
          "state": {
            "_view_name": "ProgressView",
            "style": "IPY_MODEL_ac3ead98a9da487596749e637248ce60",
            "_dom_classes": [],
            "description": "100%",
            "_model_name": "FloatProgressModel",
            "bar_style": "success",
            "max": 5000,
            "_view_module": "@jupyter-widgets/controls",
            "_model_module_version": "1.5.0",
            "value": 5000,
            "_view_count": null,
            "_view_module_version": "1.5.0",
            "orientation": "horizontal",
            "min": 0,
            "description_tooltip": null,
            "_model_module": "@jupyter-widgets/controls",
            "layout": "IPY_MODEL_c5fc116ae549428883a03da346776d33"
          }
        },
        "1efb687f64d54940a72e402dd2999d29": {
          "model_module": "@jupyter-widgets/controls",
          "model_name": "HTMLModel",
          "state": {
            "_view_name": "HTMLView",
            "style": "IPY_MODEL_f4dd4409c02249a5a15b0b73c9d86594",
            "_dom_classes": [],
            "description": "",
            "_model_name": "HTMLModel",
            "placeholder": "​",
            "_view_module": "@jupyter-widgets/controls",
            "_model_module_version": "1.5.0",
            "value": " 5000/5000 [00:04&lt;00:00, 1027.00it/s]",
            "_view_count": null,
            "_view_module_version": "1.5.0",
            "description_tooltip": null,
            "_model_module": "@jupyter-widgets/controls",
            "layout": "IPY_MODEL_55dd6fef069042ed914e0ef660141599"
          }
        },
        "ac3ead98a9da487596749e637248ce60": {
          "model_module": "@jupyter-widgets/controls",
          "model_name": "ProgressStyleModel",
          "state": {
            "_view_name": "StyleView",
            "_model_name": "ProgressStyleModel",
            "description_width": "initial",
            "_view_module": "@jupyter-widgets/base",
            "_model_module_version": "1.5.0",
            "_view_count": null,
            "_view_module_version": "1.2.0",
            "bar_color": null,
            "_model_module": "@jupyter-widgets/controls"
          }
        },
        "c5fc116ae549428883a03da346776d33": {
          "model_module": "@jupyter-widgets/base",
          "model_name": "LayoutModel",
          "state": {
            "_view_name": "LayoutView",
            "grid_template_rows": null,
            "right": null,
            "justify_content": null,
            "_view_module": "@jupyter-widgets/base",
            "overflow": null,
            "_model_module_version": "1.2.0",
            "_view_count": null,
            "flex_flow": null,
            "width": null,
            "min_width": null,
            "border": null,
            "align_items": null,
            "bottom": null,
            "_model_module": "@jupyter-widgets/base",
            "top": null,
            "grid_column": null,
            "overflow_y": null,
            "overflow_x": null,
            "grid_auto_flow": null,
            "grid_area": null,
            "grid_template_columns": null,
            "flex": null,
            "_model_name": "LayoutModel",
            "justify_items": null,
            "grid_row": null,
            "max_height": null,
            "align_content": null,
            "visibility": null,
            "align_self": null,
            "height": null,
            "min_height": null,
            "padding": null,
            "grid_auto_rows": null,
            "grid_gap": null,
            "max_width": null,
            "order": null,
            "_view_module_version": "1.2.0",
            "grid_template_areas": null,
            "object_position": null,
            "object_fit": null,
            "grid_auto_columns": null,
            "margin": null,
            "display": null,
            "left": null
          }
        },
        "f4dd4409c02249a5a15b0b73c9d86594": {
          "model_module": "@jupyter-widgets/controls",
          "model_name": "DescriptionStyleModel",
          "state": {
            "_view_name": "StyleView",
            "_model_name": "DescriptionStyleModel",
            "description_width": "",
            "_view_module": "@jupyter-widgets/base",
            "_model_module_version": "1.5.0",
            "_view_count": null,
            "_view_module_version": "1.2.0",
            "_model_module": "@jupyter-widgets/controls"
          }
        },
        "55dd6fef069042ed914e0ef660141599": {
          "model_module": "@jupyter-widgets/base",
          "model_name": "LayoutModel",
          "state": {
            "_view_name": "LayoutView",
            "grid_template_rows": null,
            "right": null,
            "justify_content": null,
            "_view_module": "@jupyter-widgets/base",
            "overflow": null,
            "_model_module_version": "1.2.0",
            "_view_count": null,
            "flex_flow": null,
            "width": null,
            "min_width": null,
            "border": null,
            "align_items": null,
            "bottom": null,
            "_model_module": "@jupyter-widgets/base",
            "top": null,
            "grid_column": null,
            "overflow_y": null,
            "overflow_x": null,
            "grid_auto_flow": null,
            "grid_area": null,
            "grid_template_columns": null,
            "flex": null,
            "_model_name": "LayoutModel",
            "justify_items": null,
            "grid_row": null,
            "max_height": null,
            "align_content": null,
            "visibility": null,
            "align_self": null,
            "height": null,
            "min_height": null,
            "padding": null,
            "grid_auto_rows": null,
            "grid_gap": null,
            "max_width": null,
            "order": null,
            "_view_module_version": "1.2.0",
            "grid_template_areas": null,
            "object_position": null,
            "object_fit": null,
            "grid_auto_columns": null,
            "margin": null,
            "display": null,
            "left": null
          }
        },
        "bf8aee17bc5f42b3985ee5ec20292302": {
          "model_module": "@jupyter-widgets/controls",
          "model_name": "HBoxModel",
          "state": {
            "_view_name": "HBoxView",
            "_dom_classes": [],
            "_model_name": "HBoxModel",
            "_view_module": "@jupyter-widgets/controls",
            "_model_module_version": "1.5.0",
            "_view_count": null,
            "_view_module_version": "1.5.0",
            "box_style": "",
            "layout": "IPY_MODEL_cb0ca8cc85664fbcbb6a439a2642e0ce",
            "_model_module": "@jupyter-widgets/controls",
            "children": [
              "IPY_MODEL_c31e6f8582904e3fa5830ea86efe2ef7",
              "IPY_MODEL_0128486e640f49b08d64d9829fcfc3d6"
            ]
          }
        },
        "cb0ca8cc85664fbcbb6a439a2642e0ce": {
          "model_module": "@jupyter-widgets/base",
          "model_name": "LayoutModel",
          "state": {
            "_view_name": "LayoutView",
            "grid_template_rows": null,
            "right": null,
            "justify_content": null,
            "_view_module": "@jupyter-widgets/base",
            "overflow": null,
            "_model_module_version": "1.2.0",
            "_view_count": null,
            "flex_flow": null,
            "width": null,
            "min_width": null,
            "border": null,
            "align_items": null,
            "bottom": null,
            "_model_module": "@jupyter-widgets/base",
            "top": null,
            "grid_column": null,
            "overflow_y": null,
            "overflow_x": null,
            "grid_auto_flow": null,
            "grid_area": null,
            "grid_template_columns": null,
            "flex": null,
            "_model_name": "LayoutModel",
            "justify_items": null,
            "grid_row": null,
            "max_height": null,
            "align_content": null,
            "visibility": null,
            "align_self": null,
            "height": null,
            "min_height": null,
            "padding": null,
            "grid_auto_rows": null,
            "grid_gap": null,
            "max_width": null,
            "order": null,
            "_view_module_version": "1.2.0",
            "grid_template_areas": null,
            "object_position": null,
            "object_fit": null,
            "grid_auto_columns": null,
            "margin": null,
            "display": null,
            "left": null
          }
        },
        "c31e6f8582904e3fa5830ea86efe2ef7": {
          "model_module": "@jupyter-widgets/controls",
          "model_name": "FloatProgressModel",
          "state": {
            "_view_name": "ProgressView",
            "style": "IPY_MODEL_20fe98667c644f308e79787118323301",
            "_dom_classes": [],
            "description": "100%",
            "_model_name": "FloatProgressModel",
            "bar_style": "success",
            "max": 5000,
            "_view_module": "@jupyter-widgets/controls",
            "_model_module_version": "1.5.0",
            "value": 5000,
            "_view_count": null,
            "_view_module_version": "1.5.0",
            "orientation": "horizontal",
            "min": 0,
            "description_tooltip": null,
            "_model_module": "@jupyter-widgets/controls",
            "layout": "IPY_MODEL_13135b356f944e5f9bdf047bfe9e7b86"
          }
        },
        "0128486e640f49b08d64d9829fcfc3d6": {
          "model_module": "@jupyter-widgets/controls",
          "model_name": "HTMLModel",
          "state": {
            "_view_name": "HTMLView",
            "style": "IPY_MODEL_301e512e3537410a98fcd31503ae2124",
            "_dom_classes": [],
            "description": "",
            "_model_name": "HTMLModel",
            "placeholder": "​",
            "_view_module": "@jupyter-widgets/controls",
            "_model_module_version": "1.5.0",
            "value": " 5000/5000 [00:04&lt;00:00, 1040.32it/s]",
            "_view_count": null,
            "_view_module_version": "1.5.0",
            "description_tooltip": null,
            "_model_module": "@jupyter-widgets/controls",
            "layout": "IPY_MODEL_1be92d3d7bb74b64b4fe7232ed7f0c4d"
          }
        },
        "20fe98667c644f308e79787118323301": {
          "model_module": "@jupyter-widgets/controls",
          "model_name": "ProgressStyleModel",
          "state": {
            "_view_name": "StyleView",
            "_model_name": "ProgressStyleModel",
            "description_width": "initial",
            "_view_module": "@jupyter-widgets/base",
            "_model_module_version": "1.5.0",
            "_view_count": null,
            "_view_module_version": "1.2.0",
            "bar_color": null,
            "_model_module": "@jupyter-widgets/controls"
          }
        },
        "13135b356f944e5f9bdf047bfe9e7b86": {
          "model_module": "@jupyter-widgets/base",
          "model_name": "LayoutModel",
          "state": {
            "_view_name": "LayoutView",
            "grid_template_rows": null,
            "right": null,
            "justify_content": null,
            "_view_module": "@jupyter-widgets/base",
            "overflow": null,
            "_model_module_version": "1.2.0",
            "_view_count": null,
            "flex_flow": null,
            "width": null,
            "min_width": null,
            "border": null,
            "align_items": null,
            "bottom": null,
            "_model_module": "@jupyter-widgets/base",
            "top": null,
            "grid_column": null,
            "overflow_y": null,
            "overflow_x": null,
            "grid_auto_flow": null,
            "grid_area": null,
            "grid_template_columns": null,
            "flex": null,
            "_model_name": "LayoutModel",
            "justify_items": null,
            "grid_row": null,
            "max_height": null,
            "align_content": null,
            "visibility": null,
            "align_self": null,
            "height": null,
            "min_height": null,
            "padding": null,
            "grid_auto_rows": null,
            "grid_gap": null,
            "max_width": null,
            "order": null,
            "_view_module_version": "1.2.0",
            "grid_template_areas": null,
            "object_position": null,
            "object_fit": null,
            "grid_auto_columns": null,
            "margin": null,
            "display": null,
            "left": null
          }
        },
        "301e512e3537410a98fcd31503ae2124": {
          "model_module": "@jupyter-widgets/controls",
          "model_name": "DescriptionStyleModel",
          "state": {
            "_view_name": "StyleView",
            "_model_name": "DescriptionStyleModel",
            "description_width": "",
            "_view_module": "@jupyter-widgets/base",
            "_model_module_version": "1.5.0",
            "_view_count": null,
            "_view_module_version": "1.2.0",
            "_model_module": "@jupyter-widgets/controls"
          }
        },
        "1be92d3d7bb74b64b4fe7232ed7f0c4d": {
          "model_module": "@jupyter-widgets/base",
          "model_name": "LayoutModel",
          "state": {
            "_view_name": "LayoutView",
            "grid_template_rows": null,
            "right": null,
            "justify_content": null,
            "_view_module": "@jupyter-widgets/base",
            "overflow": null,
            "_model_module_version": "1.2.0",
            "_view_count": null,
            "flex_flow": null,
            "width": null,
            "min_width": null,
            "border": null,
            "align_items": null,
            "bottom": null,
            "_model_module": "@jupyter-widgets/base",
            "top": null,
            "grid_column": null,
            "overflow_y": null,
            "overflow_x": null,
            "grid_auto_flow": null,
            "grid_area": null,
            "grid_template_columns": null,
            "flex": null,
            "_model_name": "LayoutModel",
            "justify_items": null,
            "grid_row": null,
            "max_height": null,
            "align_content": null,
            "visibility": null,
            "align_self": null,
            "height": null,
            "min_height": null,
            "padding": null,
            "grid_auto_rows": null,
            "grid_gap": null,
            "max_width": null,
            "order": null,
            "_view_module_version": "1.2.0",
            "grid_template_areas": null,
            "object_position": null,
            "object_fit": null,
            "grid_auto_columns": null,
            "margin": null,
            "display": null,
            "left": null
          }
        },
        "bde790fbbbb64a7681ae0758a0003ee7": {
          "model_module": "@jupyter-widgets/controls",
          "model_name": "HBoxModel",
          "state": {
            "_view_name": "HBoxView",
            "_dom_classes": [],
            "_model_name": "HBoxModel",
            "_view_module": "@jupyter-widgets/controls",
            "_model_module_version": "1.5.0",
            "_view_count": null,
            "_view_module_version": "1.5.0",
            "box_style": "",
            "layout": "IPY_MODEL_d8c252a5efb3428088ba0a7eeb7ba93b",
            "_model_module": "@jupyter-widgets/controls",
            "children": [
              "IPY_MODEL_45df4559e7294b1e83349567e69b076f",
              "IPY_MODEL_0ebbf40901004d8d98b6fab3c0506d35"
            ]
          }
        },
        "d8c252a5efb3428088ba0a7eeb7ba93b": {
          "model_module": "@jupyter-widgets/base",
          "model_name": "LayoutModel",
          "state": {
            "_view_name": "LayoutView",
            "grid_template_rows": null,
            "right": null,
            "justify_content": null,
            "_view_module": "@jupyter-widgets/base",
            "overflow": null,
            "_model_module_version": "1.2.0",
            "_view_count": null,
            "flex_flow": null,
            "width": null,
            "min_width": null,
            "border": null,
            "align_items": null,
            "bottom": null,
            "_model_module": "@jupyter-widgets/base",
            "top": null,
            "grid_column": null,
            "overflow_y": null,
            "overflow_x": null,
            "grid_auto_flow": null,
            "grid_area": null,
            "grid_template_columns": null,
            "flex": null,
            "_model_name": "LayoutModel",
            "justify_items": null,
            "grid_row": null,
            "max_height": null,
            "align_content": null,
            "visibility": null,
            "align_self": null,
            "height": null,
            "min_height": null,
            "padding": null,
            "grid_auto_rows": null,
            "grid_gap": null,
            "max_width": null,
            "order": null,
            "_view_module_version": "1.2.0",
            "grid_template_areas": null,
            "object_position": null,
            "object_fit": null,
            "grid_auto_columns": null,
            "margin": null,
            "display": null,
            "left": null
          }
        },
        "45df4559e7294b1e83349567e69b076f": {
          "model_module": "@jupyter-widgets/controls",
          "model_name": "FloatProgressModel",
          "state": {
            "_view_name": "ProgressView",
            "style": "IPY_MODEL_14be45d1954e4216afb3566170a28b29",
            "_dom_classes": [],
            "description": "100%",
            "_model_name": "FloatProgressModel",
            "bar_style": "success",
            "max": 5000,
            "_view_module": "@jupyter-widgets/controls",
            "_model_module_version": "1.5.0",
            "value": 5000,
            "_view_count": null,
            "_view_module_version": "1.5.0",
            "orientation": "horizontal",
            "min": 0,
            "description_tooltip": null,
            "_model_module": "@jupyter-widgets/controls",
            "layout": "IPY_MODEL_365fe1c3f2e942ba81ee817814da0aea"
          }
        },
        "0ebbf40901004d8d98b6fab3c0506d35": {
          "model_module": "@jupyter-widgets/controls",
          "model_name": "HTMLModel",
          "state": {
            "_view_name": "HTMLView",
            "style": "IPY_MODEL_b5745d6da05c4de69fcd739aa9f0a80f",
            "_dom_classes": [],
            "description": "",
            "_model_name": "HTMLModel",
            "placeholder": "​",
            "_view_module": "@jupyter-widgets/controls",
            "_model_module_version": "1.5.0",
            "value": " 5000/5000 [00:03&lt;00:00, 1395.57it/s]",
            "_view_count": null,
            "_view_module_version": "1.5.0",
            "description_tooltip": null,
            "_model_module": "@jupyter-widgets/controls",
            "layout": "IPY_MODEL_9d428cd7e1ba431bb9c134a2cea28d77"
          }
        },
        "14be45d1954e4216afb3566170a28b29": {
          "model_module": "@jupyter-widgets/controls",
          "model_name": "ProgressStyleModel",
          "state": {
            "_view_name": "StyleView",
            "_model_name": "ProgressStyleModel",
            "description_width": "initial",
            "_view_module": "@jupyter-widgets/base",
            "_model_module_version": "1.5.0",
            "_view_count": null,
            "_view_module_version": "1.2.0",
            "bar_color": null,
            "_model_module": "@jupyter-widgets/controls"
          }
        },
        "365fe1c3f2e942ba81ee817814da0aea": {
          "model_module": "@jupyter-widgets/base",
          "model_name": "LayoutModel",
          "state": {
            "_view_name": "LayoutView",
            "grid_template_rows": null,
            "right": null,
            "justify_content": null,
            "_view_module": "@jupyter-widgets/base",
            "overflow": null,
            "_model_module_version": "1.2.0",
            "_view_count": null,
            "flex_flow": null,
            "width": null,
            "min_width": null,
            "border": null,
            "align_items": null,
            "bottom": null,
            "_model_module": "@jupyter-widgets/base",
            "top": null,
            "grid_column": null,
            "overflow_y": null,
            "overflow_x": null,
            "grid_auto_flow": null,
            "grid_area": null,
            "grid_template_columns": null,
            "flex": null,
            "_model_name": "LayoutModel",
            "justify_items": null,
            "grid_row": null,
            "max_height": null,
            "align_content": null,
            "visibility": null,
            "align_self": null,
            "height": null,
            "min_height": null,
            "padding": null,
            "grid_auto_rows": null,
            "grid_gap": null,
            "max_width": null,
            "order": null,
            "_view_module_version": "1.2.0",
            "grid_template_areas": null,
            "object_position": null,
            "object_fit": null,
            "grid_auto_columns": null,
            "margin": null,
            "display": null,
            "left": null
          }
        },
        "b5745d6da05c4de69fcd739aa9f0a80f": {
          "model_module": "@jupyter-widgets/controls",
          "model_name": "DescriptionStyleModel",
          "state": {
            "_view_name": "StyleView",
            "_model_name": "DescriptionStyleModel",
            "description_width": "",
            "_view_module": "@jupyter-widgets/base",
            "_model_module_version": "1.5.0",
            "_view_count": null,
            "_view_module_version": "1.2.0",
            "_model_module": "@jupyter-widgets/controls"
          }
        },
        "9d428cd7e1ba431bb9c134a2cea28d77": {
          "model_module": "@jupyter-widgets/base",
          "model_name": "LayoutModel",
          "state": {
            "_view_name": "LayoutView",
            "grid_template_rows": null,
            "right": null,
            "justify_content": null,
            "_view_module": "@jupyter-widgets/base",
            "overflow": null,
            "_model_module_version": "1.2.0",
            "_view_count": null,
            "flex_flow": null,
            "width": null,
            "min_width": null,
            "border": null,
            "align_items": null,
            "bottom": null,
            "_model_module": "@jupyter-widgets/base",
            "top": null,
            "grid_column": null,
            "overflow_y": null,
            "overflow_x": null,
            "grid_auto_flow": null,
            "grid_area": null,
            "grid_template_columns": null,
            "flex": null,
            "_model_name": "LayoutModel",
            "justify_items": null,
            "grid_row": null,
            "max_height": null,
            "align_content": null,
            "visibility": null,
            "align_self": null,
            "height": null,
            "min_height": null,
            "padding": null,
            "grid_auto_rows": null,
            "grid_gap": null,
            "max_width": null,
            "order": null,
            "_view_module_version": "1.2.0",
            "grid_template_areas": null,
            "object_position": null,
            "object_fit": null,
            "grid_auto_columns": null,
            "margin": null,
            "display": null,
            "left": null
          }
        },
        "f990534a442f4286a7c3df300547c3c0": {
          "model_module": "@jupyter-widgets/controls",
          "model_name": "HBoxModel",
          "state": {
            "_view_name": "HBoxView",
            "_dom_classes": [],
            "_model_name": "HBoxModel",
            "_view_module": "@jupyter-widgets/controls",
            "_model_module_version": "1.5.0",
            "_view_count": null,
            "_view_module_version": "1.5.0",
            "box_style": "",
            "layout": "IPY_MODEL_4b21fe02db16409fa15da139a6c63edf",
            "_model_module": "@jupyter-widgets/controls",
            "children": [
              "IPY_MODEL_92ffa04d386c4bb892e2daa0b2ea13cb",
              "IPY_MODEL_9238914f6f2c4dfa92d6b94a26ad0625"
            ]
          }
        },
        "4b21fe02db16409fa15da139a6c63edf": {
          "model_module": "@jupyter-widgets/base",
          "model_name": "LayoutModel",
          "state": {
            "_view_name": "LayoutView",
            "grid_template_rows": null,
            "right": null,
            "justify_content": null,
            "_view_module": "@jupyter-widgets/base",
            "overflow": null,
            "_model_module_version": "1.2.0",
            "_view_count": null,
            "flex_flow": null,
            "width": null,
            "min_width": null,
            "border": null,
            "align_items": null,
            "bottom": null,
            "_model_module": "@jupyter-widgets/base",
            "top": null,
            "grid_column": null,
            "overflow_y": null,
            "overflow_x": null,
            "grid_auto_flow": null,
            "grid_area": null,
            "grid_template_columns": null,
            "flex": null,
            "_model_name": "LayoutModel",
            "justify_items": null,
            "grid_row": null,
            "max_height": null,
            "align_content": null,
            "visibility": null,
            "align_self": null,
            "height": null,
            "min_height": null,
            "padding": null,
            "grid_auto_rows": null,
            "grid_gap": null,
            "max_width": null,
            "order": null,
            "_view_module_version": "1.2.0",
            "grid_template_areas": null,
            "object_position": null,
            "object_fit": null,
            "grid_auto_columns": null,
            "margin": null,
            "display": null,
            "left": null
          }
        },
        "92ffa04d386c4bb892e2daa0b2ea13cb": {
          "model_module": "@jupyter-widgets/controls",
          "model_name": "FloatProgressModel",
          "state": {
            "_view_name": "ProgressView",
            "style": "IPY_MODEL_205343ea5add413796e8feab32c830c1",
            "_dom_classes": [],
            "description": "100%",
            "_model_name": "FloatProgressModel",
            "bar_style": "success",
            "max": 5000,
            "_view_module": "@jupyter-widgets/controls",
            "_model_module_version": "1.5.0",
            "value": 5000,
            "_view_count": null,
            "_view_module_version": "1.5.0",
            "orientation": "horizontal",
            "min": 0,
            "description_tooltip": null,
            "_model_module": "@jupyter-widgets/controls",
            "layout": "IPY_MODEL_3c5b2a3142a24c5091230eb515b1ee6e"
          }
        },
        "9238914f6f2c4dfa92d6b94a26ad0625": {
          "model_module": "@jupyter-widgets/controls",
          "model_name": "HTMLModel",
          "state": {
            "_view_name": "HTMLView",
            "style": "IPY_MODEL_ee6dbc7b16754f58902f75c68160853f",
            "_dom_classes": [],
            "description": "",
            "_model_name": "HTMLModel",
            "placeholder": "​",
            "_view_module": "@jupyter-widgets/controls",
            "_model_module_version": "1.5.0",
            "value": " 5000/5000 [00:05&lt;00:00, 950.39it/s]",
            "_view_count": null,
            "_view_module_version": "1.5.0",
            "description_tooltip": null,
            "_model_module": "@jupyter-widgets/controls",
            "layout": "IPY_MODEL_4887898f9e774a989b63a83114e73b47"
          }
        },
        "205343ea5add413796e8feab32c830c1": {
          "model_module": "@jupyter-widgets/controls",
          "model_name": "ProgressStyleModel",
          "state": {
            "_view_name": "StyleView",
            "_model_name": "ProgressStyleModel",
            "description_width": "initial",
            "_view_module": "@jupyter-widgets/base",
            "_model_module_version": "1.5.0",
            "_view_count": null,
            "_view_module_version": "1.2.0",
            "bar_color": null,
            "_model_module": "@jupyter-widgets/controls"
          }
        },
        "3c5b2a3142a24c5091230eb515b1ee6e": {
          "model_module": "@jupyter-widgets/base",
          "model_name": "LayoutModel",
          "state": {
            "_view_name": "LayoutView",
            "grid_template_rows": null,
            "right": null,
            "justify_content": null,
            "_view_module": "@jupyter-widgets/base",
            "overflow": null,
            "_model_module_version": "1.2.0",
            "_view_count": null,
            "flex_flow": null,
            "width": null,
            "min_width": null,
            "border": null,
            "align_items": null,
            "bottom": null,
            "_model_module": "@jupyter-widgets/base",
            "top": null,
            "grid_column": null,
            "overflow_y": null,
            "overflow_x": null,
            "grid_auto_flow": null,
            "grid_area": null,
            "grid_template_columns": null,
            "flex": null,
            "_model_name": "LayoutModel",
            "justify_items": null,
            "grid_row": null,
            "max_height": null,
            "align_content": null,
            "visibility": null,
            "align_self": null,
            "height": null,
            "min_height": null,
            "padding": null,
            "grid_auto_rows": null,
            "grid_gap": null,
            "max_width": null,
            "order": null,
            "_view_module_version": "1.2.0",
            "grid_template_areas": null,
            "object_position": null,
            "object_fit": null,
            "grid_auto_columns": null,
            "margin": null,
            "display": null,
            "left": null
          }
        },
        "ee6dbc7b16754f58902f75c68160853f": {
          "model_module": "@jupyter-widgets/controls",
          "model_name": "DescriptionStyleModel",
          "state": {
            "_view_name": "StyleView",
            "_model_name": "DescriptionStyleModel",
            "description_width": "",
            "_view_module": "@jupyter-widgets/base",
            "_model_module_version": "1.5.0",
            "_view_count": null,
            "_view_module_version": "1.2.0",
            "_model_module": "@jupyter-widgets/controls"
          }
        },
        "4887898f9e774a989b63a83114e73b47": {
          "model_module": "@jupyter-widgets/base",
          "model_name": "LayoutModel",
          "state": {
            "_view_name": "LayoutView",
            "grid_template_rows": null,
            "right": null,
            "justify_content": null,
            "_view_module": "@jupyter-widgets/base",
            "overflow": null,
            "_model_module_version": "1.2.0",
            "_view_count": null,
            "flex_flow": null,
            "width": null,
            "min_width": null,
            "border": null,
            "align_items": null,
            "bottom": null,
            "_model_module": "@jupyter-widgets/base",
            "top": null,
            "grid_column": null,
            "overflow_y": null,
            "overflow_x": null,
            "grid_auto_flow": null,
            "grid_area": null,
            "grid_template_columns": null,
            "flex": null,
            "_model_name": "LayoutModel",
            "justify_items": null,
            "grid_row": null,
            "max_height": null,
            "align_content": null,
            "visibility": null,
            "align_self": null,
            "height": null,
            "min_height": null,
            "padding": null,
            "grid_auto_rows": null,
            "grid_gap": null,
            "max_width": null,
            "order": null,
            "_view_module_version": "1.2.0",
            "grid_template_areas": null,
            "object_position": null,
            "object_fit": null,
            "grid_auto_columns": null,
            "margin": null,
            "display": null,
            "left": null
          }
        },
        "0838752010244bebbeced5001eacd42d": {
          "model_module": "@jupyter-widgets/controls",
          "model_name": "HBoxModel",
          "state": {
            "_view_name": "HBoxView",
            "_dom_classes": [],
            "_model_name": "HBoxModel",
            "_view_module": "@jupyter-widgets/controls",
            "_model_module_version": "1.5.0",
            "_view_count": null,
            "_view_module_version": "1.5.0",
            "box_style": "",
            "layout": "IPY_MODEL_00279e530053466b93a5c8136e539d34",
            "_model_module": "@jupyter-widgets/controls",
            "children": [
              "IPY_MODEL_c9856e8723954f0cbad236e4bef8bec8",
              "IPY_MODEL_928582739c9343aa84c4960e17502ecc"
            ]
          }
        },
        "00279e530053466b93a5c8136e539d34": {
          "model_module": "@jupyter-widgets/base",
          "model_name": "LayoutModel",
          "state": {
            "_view_name": "LayoutView",
            "grid_template_rows": null,
            "right": null,
            "justify_content": null,
            "_view_module": "@jupyter-widgets/base",
            "overflow": null,
            "_model_module_version": "1.2.0",
            "_view_count": null,
            "flex_flow": null,
            "width": null,
            "min_width": null,
            "border": null,
            "align_items": null,
            "bottom": null,
            "_model_module": "@jupyter-widgets/base",
            "top": null,
            "grid_column": null,
            "overflow_y": null,
            "overflow_x": null,
            "grid_auto_flow": null,
            "grid_area": null,
            "grid_template_columns": null,
            "flex": null,
            "_model_name": "LayoutModel",
            "justify_items": null,
            "grid_row": null,
            "max_height": null,
            "align_content": null,
            "visibility": null,
            "align_self": null,
            "height": null,
            "min_height": null,
            "padding": null,
            "grid_auto_rows": null,
            "grid_gap": null,
            "max_width": null,
            "order": null,
            "_view_module_version": "1.2.0",
            "grid_template_areas": null,
            "object_position": null,
            "object_fit": null,
            "grid_auto_columns": null,
            "margin": null,
            "display": null,
            "left": null
          }
        },
        "c9856e8723954f0cbad236e4bef8bec8": {
          "model_module": "@jupyter-widgets/controls",
          "model_name": "FloatProgressModel",
          "state": {
            "_view_name": "ProgressView",
            "style": "IPY_MODEL_cc07ac2e51c84d83bdd9a23ed9acf764",
            "_dom_classes": [],
            "description": "100%",
            "_model_name": "FloatProgressModel",
            "bar_style": "success",
            "max": 5000,
            "_view_module": "@jupyter-widgets/controls",
            "_model_module_version": "1.5.0",
            "value": 5000,
            "_view_count": null,
            "_view_module_version": "1.5.0",
            "orientation": "horizontal",
            "min": 0,
            "description_tooltip": null,
            "_model_module": "@jupyter-widgets/controls",
            "layout": "IPY_MODEL_a30a92774b584f84afb1d00ae3345702"
          }
        },
        "928582739c9343aa84c4960e17502ecc": {
          "model_module": "@jupyter-widgets/controls",
          "model_name": "HTMLModel",
          "state": {
            "_view_name": "HTMLView",
            "style": "IPY_MODEL_8d827f63346e4c29b807a8fff52795c6",
            "_dom_classes": [],
            "description": "",
            "_model_name": "HTMLModel",
            "placeholder": "​",
            "_view_module": "@jupyter-widgets/controls",
            "_model_module_version": "1.5.0",
            "value": " 5000/5000 [00:05&lt;00:00, 953.79it/s]",
            "_view_count": null,
            "_view_module_version": "1.5.0",
            "description_tooltip": null,
            "_model_module": "@jupyter-widgets/controls",
            "layout": "IPY_MODEL_77801227ecf7490e8f1f901f7518c863"
          }
        },
        "cc07ac2e51c84d83bdd9a23ed9acf764": {
          "model_module": "@jupyter-widgets/controls",
          "model_name": "ProgressStyleModel",
          "state": {
            "_view_name": "StyleView",
            "_model_name": "ProgressStyleModel",
            "description_width": "initial",
            "_view_module": "@jupyter-widgets/base",
            "_model_module_version": "1.5.0",
            "_view_count": null,
            "_view_module_version": "1.2.0",
            "bar_color": null,
            "_model_module": "@jupyter-widgets/controls"
          }
        },
        "a30a92774b584f84afb1d00ae3345702": {
          "model_module": "@jupyter-widgets/base",
          "model_name": "LayoutModel",
          "state": {
            "_view_name": "LayoutView",
            "grid_template_rows": null,
            "right": null,
            "justify_content": null,
            "_view_module": "@jupyter-widgets/base",
            "overflow": null,
            "_model_module_version": "1.2.0",
            "_view_count": null,
            "flex_flow": null,
            "width": null,
            "min_width": null,
            "border": null,
            "align_items": null,
            "bottom": null,
            "_model_module": "@jupyter-widgets/base",
            "top": null,
            "grid_column": null,
            "overflow_y": null,
            "overflow_x": null,
            "grid_auto_flow": null,
            "grid_area": null,
            "grid_template_columns": null,
            "flex": null,
            "_model_name": "LayoutModel",
            "justify_items": null,
            "grid_row": null,
            "max_height": null,
            "align_content": null,
            "visibility": null,
            "align_self": null,
            "height": null,
            "min_height": null,
            "padding": null,
            "grid_auto_rows": null,
            "grid_gap": null,
            "max_width": null,
            "order": null,
            "_view_module_version": "1.2.0",
            "grid_template_areas": null,
            "object_position": null,
            "object_fit": null,
            "grid_auto_columns": null,
            "margin": null,
            "display": null,
            "left": null
          }
        },
        "8d827f63346e4c29b807a8fff52795c6": {
          "model_module": "@jupyter-widgets/controls",
          "model_name": "DescriptionStyleModel",
          "state": {
            "_view_name": "StyleView",
            "_model_name": "DescriptionStyleModel",
            "description_width": "",
            "_view_module": "@jupyter-widgets/base",
            "_model_module_version": "1.5.0",
            "_view_count": null,
            "_view_module_version": "1.2.0",
            "_model_module": "@jupyter-widgets/controls"
          }
        },
        "77801227ecf7490e8f1f901f7518c863": {
          "model_module": "@jupyter-widgets/base",
          "model_name": "LayoutModel",
          "state": {
            "_view_name": "LayoutView",
            "grid_template_rows": null,
            "right": null,
            "justify_content": null,
            "_view_module": "@jupyter-widgets/base",
            "overflow": null,
            "_model_module_version": "1.2.0",
            "_view_count": null,
            "flex_flow": null,
            "width": null,
            "min_width": null,
            "border": null,
            "align_items": null,
            "bottom": null,
            "_model_module": "@jupyter-widgets/base",
            "top": null,
            "grid_column": null,
            "overflow_y": null,
            "overflow_x": null,
            "grid_auto_flow": null,
            "grid_area": null,
            "grid_template_columns": null,
            "flex": null,
            "_model_name": "LayoutModel",
            "justify_items": null,
            "grid_row": null,
            "max_height": null,
            "align_content": null,
            "visibility": null,
            "align_self": null,
            "height": null,
            "min_height": null,
            "padding": null,
            "grid_auto_rows": null,
            "grid_gap": null,
            "max_width": null,
            "order": null,
            "_view_module_version": "1.2.0",
            "grid_template_areas": null,
            "object_position": null,
            "object_fit": null,
            "grid_auto_columns": null,
            "margin": null,
            "display": null,
            "left": null
          }
        }
      }
    }
  },
  "cells": [
    {
      "cell_type": "markdown",
      "metadata": {
        "id": "view-in-github",
        "colab_type": "text"
      },
      "source": [
        "<a href=\"https://colab.research.google.com/github/sobanistan/neural_network_parameter_optimization/blob/master/parameter_optimization.ipynb\" target=\"_parent\"><img src=\"https://colab.research.google.com/assets/colab-badge.svg\" alt=\"Open In Colab\"/></a>"
      ]
    },
    {
      "cell_type": "markdown",
      "metadata": {
        "id": "VQYoqNrI_r2-",
        "colab_type": "text"
      },
      "source": [
        "# CS 437 - Deep Learning - Assignment 2\n",
        "\n",
        "*__Submission Instructions:__*\n",
        "- Rename this notebook to `hw2_rollnumber.ipynb` before submission on LMS.\n",
        "- All code must be written in this notebook (you do not need to submit any other files).\n",
        "- The output of all cells must be present in the version of the notebook you submit.\n",
        "- The university honor code should be maintained. Any violation, if found, will result in disciplinary action. "
      ]
    },
    {
      "cell_type": "code",
      "metadata": {
        "ExecuteTime": {
          "end_time": "2019-02-12T11:20:45.525290Z",
          "start_time": "2019-02-12T11:20:45.502549Z"
        },
        "id": "_dVviw-Y_r2_",
        "colab_type": "code",
        "colab": {}
      },
      "source": [
        "import numpy as np\n",
        "import pandas as pd\n",
        "%matplotlib notebook\n",
        "import matplotlib.pyplot as plt\n",
        "plt.style.use('seaborn')\n",
        "import pydot\n",
        "from tqdm import tqdm_notebook\n",
        "\n",
        "from IPython.display import Image\n",
        "from ipywidgets import interact, fixed, IntSlider, Play, HBox, jslink\n",
        "import tensorflow \n",
        "from sklearn.datasets import make_moons, make_circles\n",
        "import tensorflow.keras.backend as K\n",
        "import tensorflow.keras\n",
        "from keras.models import Sequential\n",
        "from keras.layers import Dense"
      ],
      "execution_count": 2,
      "outputs": []
    },
    {
      "cell_type": "code",
      "metadata": {
        "id": "SfUGAl79Ad6X",
        "colab_type": "code",
        "colab": {}
      },
      "source": [
        "rollnumber = 20100211"
      ],
      "execution_count": 1,
      "outputs": []
    },
    {
      "cell_type": "markdown",
      "metadata": {
        "id": "SSKuRVkZ_r3L",
        "colab_type": "text"
      },
      "source": [
        "In this assignment you will be exploring the model parameter space and how the different initializations affect the error surface and the optimization process as a whole. \n",
        "\n",
        "Unlike Assignment 1, the tasks this time are disjointed, and can be attempted in any order. \n",
        "\n",
        "Take a close look at the `__init__` and `fit` methods for all parts to understand what parameters are available to you and what instance variables have been (if any) setup for you to use. "
      ]
    },
    {
      "cell_type": "code",
      "metadata": {
        "ExecuteTime": {
          "end_time": "2019-02-12T11:12:21.066342Z",
          "start_time": "2019-02-12T11:12:21.041867Z"
        },
        "id": "03BLwgUq_r3M",
        "colab_type": "code",
        "colab": {}
      },
      "source": [
        "# Helper functions\n",
        "# If you don't fully understand these functions don't worry\n",
        "# You aren't supposed to understand this per se\n",
        "\n",
        "def get_error_surface(w1, w2, cls, data):\n",
        "    #model = NeuralNetwork([2,1], 'regression')\n",
        "    model = NeuralNetwork('sgd')\n",
        "    z = np.zeros_like(w1)\n",
        "    for row in range(w1.shape[0]):\n",
        "        for col in range(w1.shape[1]):\n",
        "            model.weights_[0] = np.array([w1[row,col], w2[row,col]])\n",
        "            loss = model.evaluate(*data)\n",
        "            z[row,col] = loss\n",
        "    return z\n",
        "\n",
        "def plot_decision_boundary(pred_func, x_min, x_max, y_min, y_max, cmap, ax):\n",
        "    h = 0.01\n",
        "    # Generate a grid of points with distance h between them\n",
        "    xx, yy = np.meshgrid(np.arange(x_min, x_max, h), np.arange(y_min, y_max, h))\n",
        "    # Predict the function value for the whole ggid\n",
        "    Z = pred_func(np.c_[xx.flatten(), yy.flatten()])\n",
        "    Z = Z.reshape(xx.shape)\n",
        "    # Plot the contour\n",
        "    ax.contourf(xx, yy, Z, cmap=cmap, alpha=0.5)"
      ],
      "execution_count": 3,
      "outputs": []
    },
    {
      "cell_type": "markdown",
      "metadata": {
        "heading_collapsed": true,
        "id": "mIjBrcFS_r3Q",
        "colab_type": "text"
      },
      "source": [
        "## Task 1 - Optimizers"
      ]
    },
    {
      "cell_type": "markdown",
      "metadata": {
        "hidden": true,
        "id": "nMF5Xkw6_r3R",
        "colab_type": "text"
      },
      "source": [
        "In this task you will start with the `NeuralNetwork` class from Assignment 1 (task5) which used Gradient Descent, and modify it to allow for different optimizers. The ones you will implement are\n",
        "- Gradient Descent (already done)\n",
        "- Momentum\n",
        "- Nesterov Accelerated Gradient\n",
        "- RMS Prop\n",
        "\n",
        "You will only be modifying the `weight_update` method. Take a close look at the `__init__` method to see which instance variables are available to you (if you want, you can also make your own). You can modify the `fit` function to take as input any hyperparameters ($\\gamma$, $\\eta$ etc.) required to be passed onto the `weight_update` method. \n",
        "\n",
        "You have been provided with visualization code to show the error surface and the path the model takes during training. You should be able to see how the error surface changes for different datasets and how the optimization path changes due to a different optimizer.\n",
        "\n",
        "*__Note:__ For ease of plotting the model is restricted to just having 2 parameters. This means that the model will be a perceptron with 2 inputs (and no bias )so it can learn a regression function of two inputs. Picture of the model shown here.*\n",
        "![](./perceptron.png)"
      ]
    },
    {
      "cell_type": "code",
      "metadata": {
        "ExecuteTime": {
          "end_time": "2019-02-12T10:53:40.674435Z",
          "start_time": "2019-02-12T10:53:40.631229Z"
        },
        "code_folding": [
          0,
          23,
          28,
          49,
          61,
          93,
          97
        ],
        "hidden": true,
        "id": "Dqq4t7_2_r3S",
        "colab_type": "code",
        "colab": {}
      },
      "source": [
        "class NeuralNetwork():\n",
        "    @staticmethod\n",
        "    def mean_squared_error(y_pred, y_true):\n",
        "        return np.mean((y_pred - y_true) ** 2)\n",
        "\n",
        "    @staticmethod\n",
        "    def sigmoid(x):\n",
        "        return 1 / (1 + np.exp(-x))\n",
        "    \n",
        "    def __init__(self, optimizer):\n",
        "        '''Creates a Feed-Forward Neural Network.\n",
        "        \"optimizer\" is the particular gradient descent strategy used for weight update'''\n",
        "        self.num_layers = 2 # includes input layer\n",
        "        self.nodes_per_layer = [2,1]\n",
        "        self.input_shape = 2\n",
        "        self.output_shape = 1\n",
        "        self.optimizer = optimizer\n",
        "        \n",
        "        # Values needed for more sophisticated optimizers which require saved state\n",
        "        self.past_update_amount = 0\n",
        "        \n",
        "        self.__init_weights()\n",
        "    \n",
        "    def __init_weights(self):\n",
        "        '''Initializes weights to a dummy value which is better for visualization'''\n",
        "        self.weights_ = []\n",
        "        self.weights_.append(np.array([[-10.0,-10.0]]).T)\n",
        "    \n",
        "    def fit(self, Xs, Ys, epochs, lr=1e-3, gamma=0.9):\n",
        "        '''Trains the model on the given dataset for \"epoch\" number of itterations with step size=\"lr\". \n",
        "        Returns list containing loss for each epoch as well as lists containing weight values for each epoch.'''\n",
        "        history = []\n",
        "        w_hist1 = []\n",
        "        w_hist2 = []\n",
        "        for epoch in tqdm_notebook(range(epochs)):\n",
        "            activations = self.forward_pass(Xs)\n",
        "            deltas = self.backward_pass(Ys, activations)\n",
        "            \n",
        "            layer_inputs = [Xs] + activations[:-1]\n",
        "            self.weight_update(deltas, layer_inputs, lr, gamma,Ys)\n",
        "                    \n",
        "            preds = self.predict(Xs)\n",
        "            current_loss = self.mean_squared_error(preds, Ys)\n",
        "            \n",
        "            history.append(current_loss)\n",
        "            w_hist1.append(self.weights_[0][0][0])\n",
        "            w_hist2.append(self.weights_[0][1][0])\n",
        "        return history, w_hist1, w_hist2\n",
        "    \n",
        "    def forward_pass(self, input_data):\n",
        "        '''Executes the feed forward algorithm.\n",
        "        \"input_data\" is the input to the network in row-major form\n",
        "        Returns \"activations\", which is a list of all layer outputs (excluding input layer of course)'''\n",
        "        activations = []\n",
        "        \n",
        "        a = input_data.dot(self.weights_[0])\n",
        "        z = self.sigmoid(a)\n",
        "        activations.append(z)\n",
        "        \n",
        "        return activations\n",
        "    \n",
        "    def backward_pass(self, targets, layer_activations):\n",
        "        '''Executes the backpropogation algorithm.\n",
        "        \"targets\" is the ground truth/labels\n",
        "        \"layer_activations\" are the return value of the forward pass step\n",
        "        Returns \"deltas\", which is a list containing weight update values for all layers (excluding the input layer of course)'''\n",
        "        deltas = []\n",
        "        \n",
        "        activation_deriv = np.multiply(layer_activations[-1], 1-layer_activations[-1])\n",
        "        delta = np.multiply((layer_activations[-1] - targets), activation_deriv)\n",
        "        deltas.append(delta)\n",
        "        \n",
        "        return deltas\n",
        "    \n",
        "    def weight_update(self, deltas, layer_inputs, lr, gamma,targets):\n",
        "        '''Executes the gradient descent algorithm.\n",
        "        \"deltas\" is return value of the backward pass step\n",
        "        \"layer_inputs\" is a list containing the inputs for all layers (including the input layer)\n",
        "        \"lr\" is the learning rate\n",
        "        \"gamma\" is the momentum parameter'''\n",
        "        gradient = np.dot(deltas[0].T, layer_inputs[0]).T\n",
        "\n",
        "        if self.optimizer == 'sgd':\n",
        "            update_amount = lr * gradient\n",
        "        elif self.optimizer == 'momentum':\n",
        "            #raise NotImplementedError(f'The {self.optimizer} optimizer has not been implemented yet.')\n",
        "            update_amount = (gamma * self.past_update_amount) + (lr * gradient)\n",
        "            self.past_update_amount = update_amount\n",
        "        elif self.optimizer == 'nag':\n",
        "            #raise NotImplementedError(f'The {self.optimizer} optimizer has not been implemented yet.')\n",
        "            #gradient =\n",
        "            temp = self.weights_[0]\n",
        "            self.weights_[0] = self.weights_[0] - gamma * self.past_update_amount\n",
        "            activations = self.forward_pass(layer_inputs[0])\n",
        "            deltas = self.backward_pass(targets, activations)\n",
        "            self.weights_[0] = temp\n",
        "            gradient = np.dot(deltas[0].T, layer_inputs[0]).T\n",
        "            update_amount = (gamma * self.past_update_amount) + (lr * gradient)\n",
        "            self.past_update_amount = update_amount\n",
        "            \n",
        "            #self.optimizer = 'momentum'\n",
        "            #self.weight_update(deltas, layer_inputs, lr, gamma,Ys)\n",
        "            #self.optimizer = 'nag'\n",
        "            #return\n",
        "                \n",
        "            \n",
        "        elif self.optimizer == 'rmsprop':\n",
        "            \n",
        "            #raise NotImplementedError(f'The {self.optimizer} optimizer has not been implemented yet.')\n",
        "            self.past_update_amount = gamma*self.past_update_amount + (1-gamma)*np.square(gradient) \n",
        "            update_amount = (lr/np.sqrt(self.past_update_amount + 0.0001))*(gradient)\n",
        "            \n",
        "\n",
        "        self.weights_[0] -= update_amount\n",
        "        \n",
        "    def predict(self, Xs):\n",
        "        '''Returns the model predictions (output of the last layer) for the given \"Xs\".'''\n",
        "        return self.forward_pass(Xs)[-1]\n",
        "    \n",
        "    def evaluate(self, Xs, Ys):\n",
        "        '''Returns total MSE for given dataset'''\n",
        "        pred = self.predict(Xs)\n",
        "        return self.mean_squared_error(pred, Ys)"
      ],
      "execution_count": 4,
      "outputs": []
    },
    {
      "cell_type": "markdown",
      "metadata": {
        "hidden": true,
        "id": "2HAurHES_r3W",
        "colab_type": "text"
      },
      "source": [
        "__This is a simple regression dataset, you can put any arbitrary binary function here and see how the error surface changes.__"
      ]
    },
    {
      "cell_type": "code",
      "metadata": {
        "ExecuteTime": {
          "end_time": "2019-02-12T10:49:03.390022Z",
          "start_time": "2019-02-12T10:49:03.314559Z"
        },
        "hidden": true,
        "id": "xpbLvsLb_r3X",
        "colab_type": "code",
        "colab": {
          "base_uri": "https://localhost:8080/",
          "height": 216
        },
        "outputId": "57c445ec-86e0-4d1a-c47e-d78e4685b21a"
      },
      "source": [
        "a = np.random.uniform(low=0.0, high=0.5, size=(150,))\n",
        "b = np.random.uniform(low=0.0, high=0.5, size=(150,))\n",
        "dataset = pd.DataFrame({\n",
        "    'var1':   a,\n",
        "    'var2':   b,\n",
        "    # 'output': a+b,\n",
        "    'output': (a**b)+b,\n",
        "})\n",
        "print(dataset.shape)\n",
        "dataset.head()"
      ],
      "execution_count": 5,
      "outputs": [
        {
          "output_type": "stream",
          "text": [
            "(150, 3)\n"
          ],
          "name": "stdout"
        },
        {
          "output_type": "execute_result",
          "data": {
            "text/html": [
              "<div>\n",
              "<style scoped>\n",
              "    .dataframe tbody tr th:only-of-type {\n",
              "        vertical-align: middle;\n",
              "    }\n",
              "\n",
              "    .dataframe tbody tr th {\n",
              "        vertical-align: top;\n",
              "    }\n",
              "\n",
              "    .dataframe thead th {\n",
              "        text-align: right;\n",
              "    }\n",
              "</style>\n",
              "<table border=\"1\" class=\"dataframe\">\n",
              "  <thead>\n",
              "    <tr style=\"text-align: right;\">\n",
              "      <th></th>\n",
              "      <th>var1</th>\n",
              "      <th>var2</th>\n",
              "      <th>output</th>\n",
              "    </tr>\n",
              "  </thead>\n",
              "  <tbody>\n",
              "    <tr>\n",
              "      <th>0</th>\n",
              "      <td>0.073994</td>\n",
              "      <td>0.461828</td>\n",
              "      <td>0.762271</td>\n",
              "    </tr>\n",
              "    <tr>\n",
              "      <th>1</th>\n",
              "      <td>0.053260</td>\n",
              "      <td>0.403131</td>\n",
              "      <td>0.709731</td>\n",
              "    </tr>\n",
              "    <tr>\n",
              "      <th>2</th>\n",
              "      <td>0.190589</td>\n",
              "      <td>0.093566</td>\n",
              "      <td>0.949897</td>\n",
              "    </tr>\n",
              "    <tr>\n",
              "      <th>3</th>\n",
              "      <td>0.383486</td>\n",
              "      <td>0.166522</td>\n",
              "      <td>1.019004</td>\n",
              "    </tr>\n",
              "    <tr>\n",
              "      <th>4</th>\n",
              "      <td>0.396139</td>\n",
              "      <td>0.381809</td>\n",
              "      <td>1.083999</td>\n",
              "    </tr>\n",
              "  </tbody>\n",
              "</table>\n",
              "</div>"
            ],
            "text/plain": [
              "       var1      var2    output\n",
              "0  0.073994  0.461828  0.762271\n",
              "1  0.053260  0.403131  0.709731\n",
              "2  0.190589  0.093566  0.949897\n",
              "3  0.383486  0.166522  1.019004\n",
              "4  0.396139  0.381809  1.083999"
            ]
          },
          "metadata": {
            "tags": []
          },
          "execution_count": 5
        }
      ]
    },
    {
      "cell_type": "markdown",
      "metadata": {
        "hidden": true,
        "id": "ySJBndWN_r3d",
        "colab_type": "text"
      },
      "source": [
        "__We train neural networks for all the optimizers and obtain the histories of parameter updates for them. \n",
        "These (except GD) will not work for you untill you implement them yourself.__"
      ]
    },
    {
      "cell_type": "code",
      "metadata": {
        "ExecuteTime": {
          "end_time": "2019-02-12T11:08:05.748117Z",
          "start_time": "2019-02-12T11:08:05.742110Z"
        },
        "hidden": true,
        "id": "_89LimEh_r3d",
        "colab_type": "code",
        "colab": {}
      },
      "source": [
        "epochs = 2000"
      ],
      "execution_count": 7,
      "outputs": []
    },
    {
      "cell_type": "code",
      "metadata": {
        "ExecuteTime": {
          "end_time": "2019-02-12T10:53:44.489378Z",
          "start_time": "2019-02-12T10:53:43.960129Z"
        },
        "hidden": true,
        "id": "jSaBlwHb_r3k",
        "colab_type": "code",
        "colab": {
          "base_uri": "https://localhost:8080/",
          "height": 255,
          "referenced_widgets": [
            "00f7d62617ed43ecb7c5b5e5e9dee587",
            "35faf995c6124208a37274d1cee45c3e",
            "34470db24f8941cabbc8e340d9257200",
            "7e3b72a19d1d4d2cb403cc180766c94c",
            "dcdecdb50323452eafe74de835d94527",
            "1ab4889cb2fa4c919b89f65d7135a8ab",
            "fdcbd0597c0b442b8b7c7c461b3c665a",
            "e9346371c3b84749994591fd1a82a37a",
            "f794fdac628d42579a57ae52476d9d6e",
            "c7893b8d663144d5be19ce4cc98d5f1c",
            "69de9bcfbf894a3f98eebbfaaff2b83c",
            "d5598fc68ebd48a8b82dcd48aa8729fa",
            "7aeb8238f51f4b33b4e05942a68e43c1",
            "2c61e39d050948be8868fe552695ed00",
            "3a180927a8fd488b8fe259f6c6404db0",
            "6659ffba606444a98d586526f056d3e2",
            "243f3d4274c141a2827112fc4cd31a8f",
            "cd1ea5e1154c4823a563c472a39c3349",
            "7c381e8043624b6ab3a2411783b95fbd",
            "c80d4f587f8e422ea632002faaebcd17",
            "c70570d4cb8944e1b9f6b9da61eb00ac",
            "0db55861e90a48c59261b3321f0626a1",
            "3604e974d0f24aa3b650761e07a8eecc",
            "cba38b70a699474eaff981cf33897125",
            "ca5b9def4aa24d8685d3261ce3c7bcb6",
            "144a77de278b43b38eb34f42555e462d",
            "f967ead45fd5427daf6096f4101f3cb8",
            "b2c045a8cf5c4ad192ec9f8ca3936d3d",
            "de71f17cfa42447da9120c005655ad51",
            "66327de70ae8401893a0f93b2ebf379c",
            "3c4c2f9881fa4e05b49dd889a88a3d0d",
            "fff760518fa94e2b85e1ee37199f2ee1"
          ]
        },
        "outputId": "171c7a73-87b0-4d5e-d2b0-798216b20477"
      },
      "source": [
        "nn = NeuralNetwork('sgd')\n",
        "_,w1h_sgd,w2h_sgd = nn.fit(dataset[['var1','var2']].values, dataset[['output']].values, \n",
        "                                 epochs=epochs, lr=0.01, gamma=0.9)\n",
        "\n",
        "nn = NeuralNetwork('momentum')\n",
        "_,w1h_mome,w2h_mome = nn.fit(dataset[['var1','var2']].values, dataset[['output']].values, \n",
        "                                   epochs=epochs, lr=0.01, gamma=0.9)\n",
        "\n",
        "nn = NeuralNetwork('nag')\n",
        "_,w1h_nag,w2h_nag = nn.fit(dataset[['var1','var2']].values, dataset[['output']].values, \n",
        "                                   epochs=epochs, lr=0.01, gamma=0.9)\n",
        "\n",
        "nn = NeuralNetwork('rmsprop')\n",
        "_,w1h_rms,w2h_rms = nn.fit(dataset[['var1','var2']].values, dataset[['output']].values, \n",
        "                                   epochs=epochs, lr=0.01, gamma=0.9)"
      ],
      "execution_count": 8,
      "outputs": [
        {
          "output_type": "stream",
          "text": [
            "/usr/local/lib/python3.6/dist-packages/ipykernel_launcher.py:35: TqdmDeprecationWarning: This function will be removed in tqdm==5.0.0\n",
            "Please use `tqdm.notebook.tqdm` instead of `tqdm.tqdm_notebook`\n"
          ],
          "name": "stderr"
        },
        {
          "output_type": "display_data",
          "data": {
            "application/vnd.jupyter.widget-view+json": {
              "model_id": "00f7d62617ed43ecb7c5b5e5e9dee587",
              "version_minor": 0,
              "version_major": 2
            },
            "text/plain": [
              "HBox(children=(FloatProgress(value=0.0, max=2000.0), HTML(value='')))"
            ]
          },
          "metadata": {
            "tags": []
          }
        },
        {
          "output_type": "stream",
          "text": [
            "\n"
          ],
          "name": "stdout"
        },
        {
          "output_type": "display_data",
          "data": {
            "application/vnd.jupyter.widget-view+json": {
              "model_id": "f794fdac628d42579a57ae52476d9d6e",
              "version_minor": 0,
              "version_major": 2
            },
            "text/plain": [
              "HBox(children=(FloatProgress(value=0.0, max=2000.0), HTML(value='')))"
            ]
          },
          "metadata": {
            "tags": []
          }
        },
        {
          "output_type": "stream",
          "text": [
            "\n"
          ],
          "name": "stdout"
        },
        {
          "output_type": "display_data",
          "data": {
            "application/vnd.jupyter.widget-view+json": {
              "model_id": "243f3d4274c141a2827112fc4cd31a8f",
              "version_minor": 0,
              "version_major": 2
            },
            "text/plain": [
              "HBox(children=(FloatProgress(value=0.0, max=2000.0), HTML(value='')))"
            ]
          },
          "metadata": {
            "tags": []
          }
        },
        {
          "output_type": "stream",
          "text": [
            "\n"
          ],
          "name": "stdout"
        },
        {
          "output_type": "display_data",
          "data": {
            "application/vnd.jupyter.widget-view+json": {
              "model_id": "ca5b9def4aa24d8685d3261ce3c7bcb6",
              "version_minor": 0,
              "version_major": 2
            },
            "text/plain": [
              "HBox(children=(FloatProgress(value=0.0, max=2000.0), HTML(value='')))"
            ]
          },
          "metadata": {
            "tags": []
          }
        },
        {
          "output_type": "stream",
          "text": [
            "\n"
          ],
          "name": "stdout"
        }
      ]
    },
    {
      "cell_type": "markdown",
      "metadata": {
        "hidden": true,
        "id": "TwGin9cR_r3p",
        "colab_type": "text"
      },
      "source": [
        "__You are not required to understand the inner workings of this plotting function, however you should be able to changes ranges of x and y to control how much of the error surface is shown.__"
      ]
    },
    {
      "cell_type": "code",
      "metadata": {
        "code_folding": [
          0
        ],
        "hidden": true,
        "scrolled": false,
        "id": "QFVz05B7_r3p",
        "colab_type": "code",
        "colab": {
          "base_uri": "https://localhost:8080/",
          "height": 426,
          "referenced_widgets": [
            "df0a2c5e51b7487fb202af77c4c038a8",
            "d7344db90ff24cbba791f5f51c2cce69",
            "70121295585a417e814f7d8b6db36c55",
            "092f86d3138143999f52ad9aa7a654db",
            "bfa8fedbce7f477d81aae2b9a272e95e",
            "8faca3550c1843b8b32fe4be15a3c384",
            "66c3106dc4e44f12be64e86c09f086bd"
          ]
        },
        "outputId": "3424e02b-26c9-4297-a90f-218172968412"
      },
      "source": [
        "def make_viz(t):\n",
        "    x = np.arange(-30,30,0.5)\n",
        "    y = np.arange(-20,20,0.5)\n",
        "    x, y = np.meshgrid(x, y)\n",
        "    z = get_error_surface(x, y, \n",
        "                          NeuralNetwork, \n",
        "                          (dataset[['var1','var2']].values, dataset[['output']].values))\n",
        "    if len(plt.gcf().axes) == 4: \n",
        "        CS = ax1.contourf(x, y, z, levels=10, cmap='Purples');\n",
        "        ax1.clabel(CS, inline=False, fontsize=10, colors='k')\n",
        "\n",
        "        CS = ax2.contourf(x, y, z, levels=10, cmap='Purples');\n",
        "        ax2.clabel(CS, inline=False, fontsize=10, colors='k')\n",
        "    \n",
        "        CS = ax3.contourf(x, y, z, levels=10, cmap='Purples');\n",
        "        ax3.clabel(CS, inline=False, fontsize=10, colors='k')\n",
        "    \n",
        "        CS = ax4.contourf(x, y, z, levels=10, cmap='Purples');\n",
        "        ax4.clabel(CS, inline=False, fontsize=10, colors='k')\n",
        "\n",
        "    ax1.plot(w1h_sgd[:t], w2h_sgd[:t], \n",
        "             marker='.', markersize=4, c='tab:green');\n",
        "    ax1.set_title(f'SGD - Epoch {t}');\n",
        "\n",
        "    ax2.plot(w1h_mome[:t], w2h_mome[:t], \n",
        "             marker='.', markersize=4, c='tab:red');\n",
        "    ax2.set_title(f'Momentum - Epoch {t}');\n",
        "    \n",
        "    ax3.plot(w1h_nag[:t], w2h_nag[:t], \n",
        "             marker='.', markersize=4, c='tab:red');\n",
        "    ax3.set_title(f'NAG - Epoch {t}');\n",
        "    \n",
        "    ax4.plot(w1h_rms[:t], w2h_rms[:t], \n",
        "             marker='.', markersize=4, c='tab:red');\n",
        "    ax4.set_title(f'RMSProp - Epoch {t}');\n",
        "\n",
        "    if len(plt.gcf().axes) == 4: \n",
        "        fig.subplots_adjust(right=0.8)\n",
        "        cbar_ax = fig.add_axes([0.85, 0.15, 0.05, 0.7])\n",
        "        fig.colorbar(CS, cax=cbar_ax)\n",
        "    \n",
        "fig, ((ax1,ax2),(ax3,ax4)) = plt.subplots(ncols=2, nrows=2, figsize=(15,12), dpi=80)\n",
        "fig.suptitle(f'Error Surfaces {rollnumber}')\n",
        "play = Play(min=0,max=epochs,step=10,value=0)\n",
        "interact(make_viz, t=play);"
      ],
      "execution_count": 9,
      "outputs": [
        {
          "output_type": "display_data",
          "data": {
            "application/javascript": [
              "/* Put everything inside the global mpl namespace */\n",
              "window.mpl = {};\n",
              "\n",
              "\n",
              "mpl.get_websocket_type = function() {\n",
              "    if (typeof(WebSocket) !== 'undefined') {\n",
              "        return WebSocket;\n",
              "    } else if (typeof(MozWebSocket) !== 'undefined') {\n",
              "        return MozWebSocket;\n",
              "    } else {\n",
              "        alert('Your browser does not have WebSocket support. ' +\n",
              "              'Please try Chrome, Safari or Firefox ≥ 6. ' +\n",
              "              'Firefox 4 and 5 are also supported but you ' +\n",
              "              'have to enable WebSockets in about:config.');\n",
              "    };\n",
              "}\n",
              "\n",
              "mpl.figure = function(figure_id, websocket, ondownload, parent_element) {\n",
              "    this.id = figure_id;\n",
              "\n",
              "    this.ws = websocket;\n",
              "\n",
              "    this.supports_binary = (this.ws.binaryType != undefined);\n",
              "\n",
              "    if (!this.supports_binary) {\n",
              "        var warnings = document.getElementById(\"mpl-warnings\");\n",
              "        if (warnings) {\n",
              "            warnings.style.display = 'block';\n",
              "            warnings.textContent = (\n",
              "                \"This browser does not support binary websocket messages. \" +\n",
              "                    \"Performance may be slow.\");\n",
              "        }\n",
              "    }\n",
              "\n",
              "    this.imageObj = new Image();\n",
              "\n",
              "    this.context = undefined;\n",
              "    this.message = undefined;\n",
              "    this.canvas = undefined;\n",
              "    this.rubberband_canvas = undefined;\n",
              "    this.rubberband_context = undefined;\n",
              "    this.format_dropdown = undefined;\n",
              "\n",
              "    this.image_mode = 'full';\n",
              "\n",
              "    this.root = $('<div/>');\n",
              "    this._root_extra_style(this.root)\n",
              "    this.root.attr('style', 'display: inline-block');\n",
              "\n",
              "    $(parent_element).append(this.root);\n",
              "\n",
              "    this._init_header(this);\n",
              "    this._init_canvas(this);\n",
              "    this._init_toolbar(this);\n",
              "\n",
              "    var fig = this;\n",
              "\n",
              "    this.waiting = false;\n",
              "\n",
              "    this.ws.onopen =  function () {\n",
              "            fig.send_message(\"supports_binary\", {value: fig.supports_binary});\n",
              "            fig.send_message(\"send_image_mode\", {});\n",
              "            if (mpl.ratio != 1) {\n",
              "                fig.send_message(\"set_dpi_ratio\", {'dpi_ratio': mpl.ratio});\n",
              "            }\n",
              "            fig.send_message(\"refresh\", {});\n",
              "        }\n",
              "\n",
              "    this.imageObj.onload = function() {\n",
              "            if (fig.image_mode == 'full') {\n",
              "                // Full images could contain transparency (where diff images\n",
              "                // almost always do), so we need to clear the canvas so that\n",
              "                // there is no ghosting.\n",
              "                fig.context.clearRect(0, 0, fig.canvas.width, fig.canvas.height);\n",
              "            }\n",
              "            fig.context.drawImage(fig.imageObj, 0, 0);\n",
              "        };\n",
              "\n",
              "    this.imageObj.onunload = function() {\n",
              "        fig.ws.close();\n",
              "    }\n",
              "\n",
              "    this.ws.onmessage = this._make_on_message_function(this);\n",
              "\n",
              "    this.ondownload = ondownload;\n",
              "}\n",
              "\n",
              "mpl.figure.prototype._init_header = function() {\n",
              "    var titlebar = $(\n",
              "        '<div class=\"ui-dialog-titlebar ui-widget-header ui-corner-all ' +\n",
              "        'ui-helper-clearfix\"/>');\n",
              "    var titletext = $(\n",
              "        '<div class=\"ui-dialog-title\" style=\"width: 100%; ' +\n",
              "        'text-align: center; padding: 3px;\"/>');\n",
              "    titlebar.append(titletext)\n",
              "    this.root.append(titlebar);\n",
              "    this.header = titletext[0];\n",
              "}\n",
              "\n",
              "\n",
              "\n",
              "mpl.figure.prototype._canvas_extra_style = function(canvas_div) {\n",
              "\n",
              "}\n",
              "\n",
              "\n",
              "mpl.figure.prototype._root_extra_style = function(canvas_div) {\n",
              "\n",
              "}\n",
              "\n",
              "mpl.figure.prototype._init_canvas = function() {\n",
              "    var fig = this;\n",
              "\n",
              "    var canvas_div = $('<div/>');\n",
              "\n",
              "    canvas_div.attr('style', 'position: relative; clear: both; outline: 0');\n",
              "\n",
              "    function canvas_keyboard_event(event) {\n",
              "        return fig.key_event(event, event['data']);\n",
              "    }\n",
              "\n",
              "    canvas_div.keydown('key_press', canvas_keyboard_event);\n",
              "    canvas_div.keyup('key_release', canvas_keyboard_event);\n",
              "    this.canvas_div = canvas_div\n",
              "    this._canvas_extra_style(canvas_div)\n",
              "    this.root.append(canvas_div);\n",
              "\n",
              "    var canvas = $('<canvas/>');\n",
              "    canvas.addClass('mpl-canvas');\n",
              "    canvas.attr('style', \"left: 0; top: 0; z-index: 0; outline: 0\")\n",
              "\n",
              "    this.canvas = canvas[0];\n",
              "    this.context = canvas[0].getContext(\"2d\");\n",
              "\n",
              "    var backingStore = this.context.backingStorePixelRatio ||\n",
              "\tthis.context.webkitBackingStorePixelRatio ||\n",
              "\tthis.context.mozBackingStorePixelRatio ||\n",
              "\tthis.context.msBackingStorePixelRatio ||\n",
              "\tthis.context.oBackingStorePixelRatio ||\n",
              "\tthis.context.backingStorePixelRatio || 1;\n",
              "\n",
              "    mpl.ratio = (window.devicePixelRatio || 1) / backingStore;\n",
              "\n",
              "    var rubberband = $('<canvas/>');\n",
              "    rubberband.attr('style', \"position: absolute; left: 0; top: 0; z-index: 1;\")\n",
              "\n",
              "    var pass_mouse_events = true;\n",
              "\n",
              "    canvas_div.resizable({\n",
              "        start: function(event, ui) {\n",
              "            pass_mouse_events = false;\n",
              "        },\n",
              "        resize: function(event, ui) {\n",
              "            fig.request_resize(ui.size.width, ui.size.height);\n",
              "        },\n",
              "        stop: function(event, ui) {\n",
              "            pass_mouse_events = true;\n",
              "            fig.request_resize(ui.size.width, ui.size.height);\n",
              "        },\n",
              "    });\n",
              "\n",
              "    function mouse_event_fn(event) {\n",
              "        if (pass_mouse_events)\n",
              "            return fig.mouse_event(event, event['data']);\n",
              "    }\n",
              "\n",
              "    rubberband.mousedown('button_press', mouse_event_fn);\n",
              "    rubberband.mouseup('button_release', mouse_event_fn);\n",
              "    // Throttle sequential mouse events to 1 every 20ms.\n",
              "    rubberband.mousemove('motion_notify', mouse_event_fn);\n",
              "\n",
              "    rubberband.mouseenter('figure_enter', mouse_event_fn);\n",
              "    rubberband.mouseleave('figure_leave', mouse_event_fn);\n",
              "\n",
              "    canvas_div.on(\"wheel\", function (event) {\n",
              "        event = event.originalEvent;\n",
              "        event['data'] = 'scroll'\n",
              "        if (event.deltaY < 0) {\n",
              "            event.step = 1;\n",
              "        } else {\n",
              "            event.step = -1;\n",
              "        }\n",
              "        mouse_event_fn(event);\n",
              "    });\n",
              "\n",
              "    canvas_div.append(canvas);\n",
              "    canvas_div.append(rubberband);\n",
              "\n",
              "    this.rubberband = rubberband;\n",
              "    this.rubberband_canvas = rubberband[0];\n",
              "    this.rubberband_context = rubberband[0].getContext(\"2d\");\n",
              "    this.rubberband_context.strokeStyle = \"#000000\";\n",
              "\n",
              "    this._resize_canvas = function(width, height) {\n",
              "        // Keep the size of the canvas, canvas container, and rubber band\n",
              "        // canvas in synch.\n",
              "        canvas_div.css('width', width)\n",
              "        canvas_div.css('height', height)\n",
              "\n",
              "        canvas.attr('width', width * mpl.ratio);\n",
              "        canvas.attr('height', height * mpl.ratio);\n",
              "        canvas.attr('style', 'width: ' + width + 'px; height: ' + height + 'px;');\n",
              "\n",
              "        rubberband.attr('width', width);\n",
              "        rubberband.attr('height', height);\n",
              "    }\n",
              "\n",
              "    // Set the figure to an initial 600x600px, this will subsequently be updated\n",
              "    // upon first draw.\n",
              "    this._resize_canvas(600, 600);\n",
              "\n",
              "    // Disable right mouse context menu.\n",
              "    $(this.rubberband_canvas).bind(\"contextmenu\",function(e){\n",
              "        return false;\n",
              "    });\n",
              "\n",
              "    function set_focus () {\n",
              "        canvas.focus();\n",
              "        canvas_div.focus();\n",
              "    }\n",
              "\n",
              "    window.setTimeout(set_focus, 100);\n",
              "}\n",
              "\n",
              "mpl.figure.prototype._init_toolbar = function() {\n",
              "    var fig = this;\n",
              "\n",
              "    var nav_element = $('<div/>');\n",
              "    nav_element.attr('style', 'width: 100%');\n",
              "    this.root.append(nav_element);\n",
              "\n",
              "    // Define a callback function for later on.\n",
              "    function toolbar_event(event) {\n",
              "        return fig.toolbar_button_onclick(event['data']);\n",
              "    }\n",
              "    function toolbar_mouse_event(event) {\n",
              "        return fig.toolbar_button_onmouseover(event['data']);\n",
              "    }\n",
              "\n",
              "    for(var toolbar_ind in mpl.toolbar_items) {\n",
              "        var name = mpl.toolbar_items[toolbar_ind][0];\n",
              "        var tooltip = mpl.toolbar_items[toolbar_ind][1];\n",
              "        var image = mpl.toolbar_items[toolbar_ind][2];\n",
              "        var method_name = mpl.toolbar_items[toolbar_ind][3];\n",
              "\n",
              "        if (!name) {\n",
              "            // put a spacer in here.\n",
              "            continue;\n",
              "        }\n",
              "        var button = $('<button/>');\n",
              "        button.addClass('ui-button ui-widget ui-state-default ui-corner-all ' +\n",
              "                        'ui-button-icon-only');\n",
              "        button.attr('role', 'button');\n",
              "        button.attr('aria-disabled', 'false');\n",
              "        button.click(method_name, toolbar_event);\n",
              "        button.mouseover(tooltip, toolbar_mouse_event);\n",
              "\n",
              "        var icon_img = $('<span/>');\n",
              "        icon_img.addClass('ui-button-icon-primary ui-icon');\n",
              "        icon_img.addClass(image);\n",
              "        icon_img.addClass('ui-corner-all');\n",
              "\n",
              "        var tooltip_span = $('<span/>');\n",
              "        tooltip_span.addClass('ui-button-text');\n",
              "        tooltip_span.html(tooltip);\n",
              "\n",
              "        button.append(icon_img);\n",
              "        button.append(tooltip_span);\n",
              "\n",
              "        nav_element.append(button);\n",
              "    }\n",
              "\n",
              "    var fmt_picker_span = $('<span/>');\n",
              "\n",
              "    var fmt_picker = $('<select/>');\n",
              "    fmt_picker.addClass('mpl-toolbar-option ui-widget ui-widget-content');\n",
              "    fmt_picker_span.append(fmt_picker);\n",
              "    nav_element.append(fmt_picker_span);\n",
              "    this.format_dropdown = fmt_picker[0];\n",
              "\n",
              "    for (var ind in mpl.extensions) {\n",
              "        var fmt = mpl.extensions[ind];\n",
              "        var option = $(\n",
              "            '<option/>', {selected: fmt === mpl.default_extension}).html(fmt);\n",
              "        fmt_picker.append(option);\n",
              "    }\n",
              "\n",
              "    // Add hover states to the ui-buttons\n",
              "    $( \".ui-button\" ).hover(\n",
              "        function() { $(this).addClass(\"ui-state-hover\");},\n",
              "        function() { $(this).removeClass(\"ui-state-hover\");}\n",
              "    );\n",
              "\n",
              "    var status_bar = $('<span class=\"mpl-message\"/>');\n",
              "    nav_element.append(status_bar);\n",
              "    this.message = status_bar[0];\n",
              "}\n",
              "\n",
              "mpl.figure.prototype.request_resize = function(x_pixels, y_pixels) {\n",
              "    // Request matplotlib to resize the figure. Matplotlib will then trigger a resize in the client,\n",
              "    // which will in turn request a refresh of the image.\n",
              "    this.send_message('resize', {'width': x_pixels, 'height': y_pixels});\n",
              "}\n",
              "\n",
              "mpl.figure.prototype.send_message = function(type, properties) {\n",
              "    properties['type'] = type;\n",
              "    properties['figure_id'] = this.id;\n",
              "    this.ws.send(JSON.stringify(properties));\n",
              "}\n",
              "\n",
              "mpl.figure.prototype.send_draw_message = function() {\n",
              "    if (!this.waiting) {\n",
              "        this.waiting = true;\n",
              "        this.ws.send(JSON.stringify({type: \"draw\", figure_id: this.id}));\n",
              "    }\n",
              "}\n",
              "\n",
              "\n",
              "mpl.figure.prototype.handle_save = function(fig, msg) {\n",
              "    var format_dropdown = fig.format_dropdown;\n",
              "    var format = format_dropdown.options[format_dropdown.selectedIndex].value;\n",
              "    fig.ondownload(fig, format);\n",
              "}\n",
              "\n",
              "\n",
              "mpl.figure.prototype.handle_resize = function(fig, msg) {\n",
              "    var size = msg['size'];\n",
              "    if (size[0] != fig.canvas.width || size[1] != fig.canvas.height) {\n",
              "        fig._resize_canvas(size[0], size[1]);\n",
              "        fig.send_message(\"refresh\", {});\n",
              "    };\n",
              "}\n",
              "\n",
              "mpl.figure.prototype.handle_rubberband = function(fig, msg) {\n",
              "    var x0 = msg['x0'] / mpl.ratio;\n",
              "    var y0 = (fig.canvas.height - msg['y0']) / mpl.ratio;\n",
              "    var x1 = msg['x1'] / mpl.ratio;\n",
              "    var y1 = (fig.canvas.height - msg['y1']) / mpl.ratio;\n",
              "    x0 = Math.floor(x0) + 0.5;\n",
              "    y0 = Math.floor(y0) + 0.5;\n",
              "    x1 = Math.floor(x1) + 0.5;\n",
              "    y1 = Math.floor(y1) + 0.5;\n",
              "    var min_x = Math.min(x0, x1);\n",
              "    var min_y = Math.min(y0, y1);\n",
              "    var width = Math.abs(x1 - x0);\n",
              "    var height = Math.abs(y1 - y0);\n",
              "\n",
              "    fig.rubberband_context.clearRect(\n",
              "        0, 0, fig.canvas.width / mpl.ratio, fig.canvas.height / mpl.ratio);\n",
              "\n",
              "    fig.rubberband_context.strokeRect(min_x, min_y, width, height);\n",
              "}\n",
              "\n",
              "mpl.figure.prototype.handle_figure_label = function(fig, msg) {\n",
              "    // Updates the figure title.\n",
              "    fig.header.textContent = msg['label'];\n",
              "}\n",
              "\n",
              "mpl.figure.prototype.handle_cursor = function(fig, msg) {\n",
              "    var cursor = msg['cursor'];\n",
              "    switch(cursor)\n",
              "    {\n",
              "    case 0:\n",
              "        cursor = 'pointer';\n",
              "        break;\n",
              "    case 1:\n",
              "        cursor = 'default';\n",
              "        break;\n",
              "    case 2:\n",
              "        cursor = 'crosshair';\n",
              "        break;\n",
              "    case 3:\n",
              "        cursor = 'move';\n",
              "        break;\n",
              "    }\n",
              "    fig.rubberband_canvas.style.cursor = cursor;\n",
              "}\n",
              "\n",
              "mpl.figure.prototype.handle_message = function(fig, msg) {\n",
              "    fig.message.textContent = msg['message'];\n",
              "}\n",
              "\n",
              "mpl.figure.prototype.handle_draw = function(fig, msg) {\n",
              "    // Request the server to send over a new figure.\n",
              "    fig.send_draw_message();\n",
              "}\n",
              "\n",
              "mpl.figure.prototype.handle_image_mode = function(fig, msg) {\n",
              "    fig.image_mode = msg['mode'];\n",
              "}\n",
              "\n",
              "mpl.figure.prototype.updated_canvas_event = function() {\n",
              "    // Called whenever the canvas gets updated.\n",
              "    this.send_message(\"ack\", {});\n",
              "}\n",
              "\n",
              "// A function to construct a web socket function for onmessage handling.\n",
              "// Called in the figure constructor.\n",
              "mpl.figure.prototype._make_on_message_function = function(fig) {\n",
              "    return function socket_on_message(evt) {\n",
              "        if (evt.data instanceof Blob) {\n",
              "            /* FIXME: We get \"Resource interpreted as Image but\n",
              "             * transferred with MIME type text/plain:\" errors on\n",
              "             * Chrome.  But how to set the MIME type?  It doesn't seem\n",
              "             * to be part of the websocket stream */\n",
              "            evt.data.type = \"image/png\";\n",
              "\n",
              "            /* Free the memory for the previous frames */\n",
              "            if (fig.imageObj.src) {\n",
              "                (window.URL || window.webkitURL).revokeObjectURL(\n",
              "                    fig.imageObj.src);\n",
              "            }\n",
              "\n",
              "            fig.imageObj.src = (window.URL || window.webkitURL).createObjectURL(\n",
              "                evt.data);\n",
              "            fig.updated_canvas_event();\n",
              "            fig.waiting = false;\n",
              "            return;\n",
              "        }\n",
              "        else if (typeof evt.data === 'string' && evt.data.slice(0, 21) == \"data:image/png;base64\") {\n",
              "            fig.imageObj.src = evt.data;\n",
              "            fig.updated_canvas_event();\n",
              "            fig.waiting = false;\n",
              "            return;\n",
              "        }\n",
              "\n",
              "        var msg = JSON.parse(evt.data);\n",
              "        var msg_type = msg['type'];\n",
              "\n",
              "        // Call the  \"handle_{type}\" callback, which takes\n",
              "        // the figure and JSON message as its only arguments.\n",
              "        try {\n",
              "            var callback = fig[\"handle_\" + msg_type];\n",
              "        } catch (e) {\n",
              "            console.log(\"No handler for the '\" + msg_type + \"' message type: \", msg);\n",
              "            return;\n",
              "        }\n",
              "\n",
              "        if (callback) {\n",
              "            try {\n",
              "                // console.log(\"Handling '\" + msg_type + \"' message: \", msg);\n",
              "                callback(fig, msg);\n",
              "            } catch (e) {\n",
              "                console.log(\"Exception inside the 'handler_\" + msg_type + \"' callback:\", e, e.stack, msg);\n",
              "            }\n",
              "        }\n",
              "    };\n",
              "}\n",
              "\n",
              "// from http://stackoverflow.com/questions/1114465/getting-mouse-location-in-canvas\n",
              "mpl.findpos = function(e) {\n",
              "    //this section is from http://www.quirksmode.org/js/events_properties.html\n",
              "    var targ;\n",
              "    if (!e)\n",
              "        e = window.event;\n",
              "    if (e.target)\n",
              "        targ = e.target;\n",
              "    else if (e.srcElement)\n",
              "        targ = e.srcElement;\n",
              "    if (targ.nodeType == 3) // defeat Safari bug\n",
              "        targ = targ.parentNode;\n",
              "\n",
              "    // jQuery normalizes the pageX and pageY\n",
              "    // pageX,Y are the mouse positions relative to the document\n",
              "    // offset() returns the position of the element relative to the document\n",
              "    var x = e.pageX - $(targ).offset().left;\n",
              "    var y = e.pageY - $(targ).offset().top;\n",
              "\n",
              "    return {\"x\": x, \"y\": y};\n",
              "};\n",
              "\n",
              "/*\n",
              " * return a copy of an object with only non-object keys\n",
              " * we need this to avoid circular references\n",
              " * http://stackoverflow.com/a/24161582/3208463\n",
              " */\n",
              "function simpleKeys (original) {\n",
              "  return Object.keys(original).reduce(function (obj, key) {\n",
              "    if (typeof original[key] !== 'object')\n",
              "        obj[key] = original[key]\n",
              "    return obj;\n",
              "  }, {});\n",
              "}\n",
              "\n",
              "mpl.figure.prototype.mouse_event = function(event, name) {\n",
              "    var canvas_pos = mpl.findpos(event)\n",
              "\n",
              "    if (name === 'button_press')\n",
              "    {\n",
              "        this.canvas.focus();\n",
              "        this.canvas_div.focus();\n",
              "    }\n",
              "\n",
              "    var x = canvas_pos.x * mpl.ratio;\n",
              "    var y = canvas_pos.y * mpl.ratio;\n",
              "\n",
              "    this.send_message(name, {x: x, y: y, button: event.button,\n",
              "                             step: event.step,\n",
              "                             guiEvent: simpleKeys(event)});\n",
              "\n",
              "    /* This prevents the web browser from automatically changing to\n",
              "     * the text insertion cursor when the button is pressed.  We want\n",
              "     * to control all of the cursor setting manually through the\n",
              "     * 'cursor' event from matplotlib */\n",
              "    event.preventDefault();\n",
              "    return false;\n",
              "}\n",
              "\n",
              "mpl.figure.prototype._key_event_extra = function(event, name) {\n",
              "    // Handle any extra behaviour associated with a key event\n",
              "}\n",
              "\n",
              "mpl.figure.prototype.key_event = function(event, name) {\n",
              "\n",
              "    // Prevent repeat events\n",
              "    if (name == 'key_press')\n",
              "    {\n",
              "        if (event.which === this._key)\n",
              "            return;\n",
              "        else\n",
              "            this._key = event.which;\n",
              "    }\n",
              "    if (name == 'key_release')\n",
              "        this._key = null;\n",
              "\n",
              "    var value = '';\n",
              "    if (event.ctrlKey && event.which != 17)\n",
              "        value += \"ctrl+\";\n",
              "    if (event.altKey && event.which != 18)\n",
              "        value += \"alt+\";\n",
              "    if (event.shiftKey && event.which != 16)\n",
              "        value += \"shift+\";\n",
              "\n",
              "    value += 'k';\n",
              "    value += event.which.toString();\n",
              "\n",
              "    this._key_event_extra(event, name);\n",
              "\n",
              "    this.send_message(name, {key: value,\n",
              "                             guiEvent: simpleKeys(event)});\n",
              "    return false;\n",
              "}\n",
              "\n",
              "mpl.figure.prototype.toolbar_button_onclick = function(name) {\n",
              "    if (name == 'download') {\n",
              "        this.handle_save(this, null);\n",
              "    } else {\n",
              "        this.send_message(\"toolbar_button\", {name: name});\n",
              "    }\n",
              "};\n",
              "\n",
              "mpl.figure.prototype.toolbar_button_onmouseover = function(tooltip) {\n",
              "    this.message.textContent = tooltip;\n",
              "};\n",
              "mpl.toolbar_items = [[\"Home\", \"Reset original view\", \"fa fa-home icon-home\", \"home\"], [\"Back\", \"Back to previous view\", \"fa fa-arrow-left icon-arrow-left\", \"back\"], [\"Forward\", \"Forward to next view\", \"fa fa-arrow-right icon-arrow-right\", \"forward\"], [\"\", \"\", \"\", \"\"], [\"Pan\", \"Pan axes with left mouse, zoom with right\", \"fa fa-arrows icon-move\", \"pan\"], [\"Zoom\", \"Zoom to rectangle\", \"fa fa-square-o icon-check-empty\", \"zoom\"], [\"\", \"\", \"\", \"\"], [\"Download\", \"Download plot\", \"fa fa-floppy-o icon-save\", \"download\"]];\n",
              "\n",
              "mpl.extensions = [\"eps\", \"jpeg\", \"pdf\", \"png\", \"ps\", \"raw\", \"svg\", \"tif\"];\n",
              "\n",
              "mpl.default_extension = \"png\";var comm_websocket_adapter = function(comm) {\n",
              "    // Create a \"websocket\"-like object which calls the given IPython comm\n",
              "    // object with the appropriate methods. Currently this is a non binary\n",
              "    // socket, so there is still some room for performance tuning.\n",
              "    var ws = {};\n",
              "\n",
              "    ws.close = function() {\n",
              "        comm.close()\n",
              "    };\n",
              "    ws.send = function(m) {\n",
              "        //console.log('sending', m);\n",
              "        comm.send(m);\n",
              "    };\n",
              "    // Register the callback with on_msg.\n",
              "    comm.on_msg(function(msg) {\n",
              "        //console.log('receiving', msg['content']['data'], msg);\n",
              "        // Pass the mpl event to the overridden (by mpl) onmessage function.\n",
              "        ws.onmessage(msg['content']['data'])\n",
              "    });\n",
              "    return ws;\n",
              "}\n",
              "\n",
              "mpl.mpl_figure_comm = function(comm, msg) {\n",
              "    // This is the function which gets called when the mpl process\n",
              "    // starts-up an IPython Comm through the \"matplotlib\" channel.\n",
              "\n",
              "    var id = msg.content.data.id;\n",
              "    // Get hold of the div created by the display call when the Comm\n",
              "    // socket was opened in Python.\n",
              "    var element = $(\"#\" + id);\n",
              "    var ws_proxy = comm_websocket_adapter(comm)\n",
              "\n",
              "    function ondownload(figure, format) {\n",
              "        window.open(figure.imageObj.src);\n",
              "    }\n",
              "\n",
              "    var fig = new mpl.figure(id, ws_proxy,\n",
              "                           ondownload,\n",
              "                           element.get(0));\n",
              "\n",
              "    // Call onopen now - mpl needs it, as it is assuming we've passed it a real\n",
              "    // web socket which is closed, not our websocket->open comm proxy.\n",
              "    ws_proxy.onopen();\n",
              "\n",
              "    fig.parent_element = element.get(0);\n",
              "    fig.cell_info = mpl.find_output_cell(\"<div id='\" + id + \"'></div>\");\n",
              "    if (!fig.cell_info) {\n",
              "        console.error(\"Failed to find cell for figure\", id, fig);\n",
              "        return;\n",
              "    }\n",
              "\n",
              "    var output_index = fig.cell_info[2]\n",
              "    var cell = fig.cell_info[0];\n",
              "\n",
              "};\n",
              "\n",
              "mpl.figure.prototype.handle_close = function(fig, msg) {\n",
              "    var width = fig.canvas.width/mpl.ratio\n",
              "    fig.root.unbind('remove')\n",
              "\n",
              "    // Update the output cell to use the data from the current canvas.\n",
              "    fig.push_to_output();\n",
              "    var dataURL = fig.canvas.toDataURL();\n",
              "    // Re-enable the keyboard manager in IPython - without this line, in FF,\n",
              "    // the notebook keyboard shortcuts fail.\n",
              "    IPython.keyboard_manager.enable()\n",
              "    $(fig.parent_element).html('<img src=\"' + dataURL + '\" width=\"' + width + '\">');\n",
              "    fig.close_ws(fig, msg);\n",
              "}\n",
              "\n",
              "mpl.figure.prototype.close_ws = function(fig, msg){\n",
              "    fig.send_message('closing', msg);\n",
              "    // fig.ws.close()\n",
              "}\n",
              "\n",
              "mpl.figure.prototype.push_to_output = function(remove_interactive) {\n",
              "    // Turn the data on the canvas into data in the output cell.\n",
              "    var width = this.canvas.width/mpl.ratio\n",
              "    var dataURL = this.canvas.toDataURL();\n",
              "    this.cell_info[1]['text/html'] = '<img src=\"' + dataURL + '\" width=\"' + width + '\">';\n",
              "}\n",
              "\n",
              "mpl.figure.prototype.updated_canvas_event = function() {\n",
              "    // Tell IPython that the notebook contents must change.\n",
              "    IPython.notebook.set_dirty(true);\n",
              "    this.send_message(\"ack\", {});\n",
              "    var fig = this;\n",
              "    // Wait a second, then push the new image to the DOM so\n",
              "    // that it is saved nicely (might be nice to debounce this).\n",
              "    setTimeout(function () { fig.push_to_output() }, 1000);\n",
              "}\n",
              "\n",
              "mpl.figure.prototype._init_toolbar = function() {\n",
              "    var fig = this;\n",
              "\n",
              "    var nav_element = $('<div/>');\n",
              "    nav_element.attr('style', 'width: 100%');\n",
              "    this.root.append(nav_element);\n",
              "\n",
              "    // Define a callback function for later on.\n",
              "    function toolbar_event(event) {\n",
              "        return fig.toolbar_button_onclick(event['data']);\n",
              "    }\n",
              "    function toolbar_mouse_event(event) {\n",
              "        return fig.toolbar_button_onmouseover(event['data']);\n",
              "    }\n",
              "\n",
              "    for(var toolbar_ind in mpl.toolbar_items){\n",
              "        var name = mpl.toolbar_items[toolbar_ind][0];\n",
              "        var tooltip = mpl.toolbar_items[toolbar_ind][1];\n",
              "        var image = mpl.toolbar_items[toolbar_ind][2];\n",
              "        var method_name = mpl.toolbar_items[toolbar_ind][3];\n",
              "\n",
              "        if (!name) { continue; };\n",
              "\n",
              "        var button = $('<button class=\"btn btn-default\" href=\"#\" title=\"' + name + '\"><i class=\"fa ' + image + ' fa-lg\"></i></button>');\n",
              "        button.click(method_name, toolbar_event);\n",
              "        button.mouseover(tooltip, toolbar_mouse_event);\n",
              "        nav_element.append(button);\n",
              "    }\n",
              "\n",
              "    // Add the status bar.\n",
              "    var status_bar = $('<span class=\"mpl-message\" style=\"text-align:right; float: right;\"/>');\n",
              "    nav_element.append(status_bar);\n",
              "    this.message = status_bar[0];\n",
              "\n",
              "    // Add the close button to the window.\n",
              "    var buttongrp = $('<div class=\"btn-group inline pull-right\"></div>');\n",
              "    var button = $('<button class=\"btn btn-mini btn-primary\" href=\"#\" title=\"Stop Interaction\"><i class=\"fa fa-power-off icon-remove icon-large\"></i></button>');\n",
              "    button.click(function (evt) { fig.handle_close(fig, {}); } );\n",
              "    button.mouseover('Stop Interaction', toolbar_mouse_event);\n",
              "    buttongrp.append(button);\n",
              "    var titlebar = this.root.find($('.ui-dialog-titlebar'));\n",
              "    titlebar.prepend(buttongrp);\n",
              "}\n",
              "\n",
              "mpl.figure.prototype._root_extra_style = function(el){\n",
              "    var fig = this\n",
              "    el.on(\"remove\", function(){\n",
              "\tfig.close_ws(fig, {});\n",
              "    });\n",
              "}\n",
              "\n",
              "mpl.figure.prototype._canvas_extra_style = function(el){\n",
              "    // this is important to make the div 'focusable\n",
              "    el.attr('tabindex', 0)\n",
              "    // reach out to IPython and tell the keyboard manager to turn it's self\n",
              "    // off when our div gets focus\n",
              "\n",
              "    // location in version 3\n",
              "    if (IPython.notebook.keyboard_manager) {\n",
              "        IPython.notebook.keyboard_manager.register_events(el);\n",
              "    }\n",
              "    else {\n",
              "        // location in version 2\n",
              "        IPython.keyboard_manager.register_events(el);\n",
              "    }\n",
              "\n",
              "}\n",
              "\n",
              "mpl.figure.prototype._key_event_extra = function(event, name) {\n",
              "    var manager = IPython.notebook.keyboard_manager;\n",
              "    if (!manager)\n",
              "        manager = IPython.keyboard_manager;\n",
              "\n",
              "    // Check for shift+enter\n",
              "    if (event.shiftKey && event.which == 13) {\n",
              "        this.canvas_div.blur();\n",
              "        // select the cell after this one\n",
              "        var index = IPython.notebook.find_cell_index(this.cell_info[0]);\n",
              "        IPython.notebook.select(index + 1);\n",
              "    }\n",
              "}\n",
              "\n",
              "mpl.figure.prototype.handle_save = function(fig, msg) {\n",
              "    fig.ondownload(fig, null);\n",
              "}\n",
              "\n",
              "\n",
              "mpl.find_output_cell = function(html_output) {\n",
              "    // Return the cell and output element which can be found *uniquely* in the notebook.\n",
              "    // Note - this is a bit hacky, but it is done because the \"notebook_saving.Notebook\"\n",
              "    // IPython event is triggered only after the cells have been serialised, which for\n",
              "    // our purposes (turning an active figure into a static one), is too late.\n",
              "    var cells = IPython.notebook.get_cells();\n",
              "    var ncells = cells.length;\n",
              "    for (var i=0; i<ncells; i++) {\n",
              "        var cell = cells[i];\n",
              "        if (cell.cell_type === 'code'){\n",
              "            for (var j=0; j<cell.output_area.outputs.length; j++) {\n",
              "                var data = cell.output_area.outputs[j];\n",
              "                if (data.data) {\n",
              "                    // IPython >= 3 moved mimebundle to data attribute of output\n",
              "                    data = data.data;\n",
              "                }\n",
              "                if (data['text/html'] == html_output) {\n",
              "                    return [cell, data, j];\n",
              "                }\n",
              "            }\n",
              "        }\n",
              "    }\n",
              "}\n",
              "\n",
              "// Register the function which deals with the matplotlib target/channel.\n",
              "// The kernel may be null if the page has been refreshed.\n",
              "if (IPython.notebook.kernel != null) {\n",
              "    IPython.notebook.kernel.comm_manager.register_target('matplotlib', mpl.mpl_figure_comm);\n",
              "}\n"
            ],
            "text/plain": [
              "<IPython.core.display.Javascript object>"
            ]
          },
          "metadata": {
            "tags": []
          }
        },
        {
          "output_type": "display_data",
          "data": {
            "text/html": [
              "<div id='dd30897f-d5f9-4300-a38f-b4820815fbe0'></div>"
            ],
            "text/plain": [
              "<IPython.core.display.HTML object>"
            ]
          },
          "metadata": {
            "tags": []
          }
        },
        {
          "output_type": "display_data",
          "data": {
            "application/vnd.jupyter.widget-view+json": {
              "model_id": "df0a2c5e51b7487fb202af77c4c038a8",
              "version_minor": 0,
              "version_major": 2
            },
            "text/plain": [
              "interactive(children=(Play(value=0, description='t', max=2000, step=10), Output()), _dom_classes=('widget-inte…"
            ]
          },
          "metadata": {
            "tags": []
          }
        }
      ]
    },
    {
      "cell_type": "markdown",
      "metadata": {
        "heading_collapsed": true,
        "id": "wZgPz8H3_r3u",
        "colab_type": "text"
      },
      "source": [
        "## Task 2 - Weight Initialization"
      ]
    },
    {
      "cell_type": "markdown",
      "metadata": {
        "hidden": true,
        "id": "O8uMCFQn_r3u",
        "colab_type": "text"
      },
      "source": [
        "We discussed in class how, due to the complex shape of the error surface, the optimization is very sensitive to the initial parameter values. We will now see this in action by using three completely different weight initialization strategies:\n",
        "- Zero initialization\n",
        "- Random Normal Initialization ($\\mu = 0, \\sigma = 10$)\n",
        "- [He Initialization](http://www.cv-foundation.org/openaccess/content_iccv_2015/papers/He_Delving_Deep_into_ICCV_2015_paper.pdf) with variance $\\sqrt{\\frac{2}{size(l-1)}}$\n",
        "\n",
        "You will only modify the `_init_weights` method. No other method needs to be changed. The `_init_weights` method already contains code for random initialization with standard normal ($\\mu = 0, \\sigma = 1$). \n",
        "\n",
        "We will be using simple zero initialization for biases.\n",
        "\n",
        "Vizualization code is provided to plot the decision boundary of the binary classification function your model will learn. The different initialization methods will yeild different decision boundaries (some might not converge at all). This effect can also be seen in the plot of error as a function of time/epochs.\n",
        "\n",
        "Since we are using a very simple dataset, the difference between random normal and normalized initializations will not be that pronounced in the decision boundary, however the training plot might reveal more information."
      ]
    },
    {
      "cell_type": "code",
      "metadata": {
        "ExecuteTime": {
          "end_time": "2019-02-12T11:20:04.238627Z",
          "start_time": "2019-02-12T11:20:04.225841Z"
        },
        "hidden": true,
        "id": "zIfM8Ij9_r3v",
        "colab_type": "code",
        "colab": {}
      },
      "source": [
        "%matplotlib inline"
      ],
      "execution_count": 10,
      "outputs": []
    },
    {
      "cell_type": "code",
      "metadata": {
        "ExecuteTime": {
          "end_time": "2019-02-12T13:31:54.404608Z",
          "start_time": "2019-02-12T13:31:54.327757Z"
        },
        "code_folding": [
          0,
          103,
          112,
          121
        ],
        "hidden": true,
        "id": "IAoSeCjd_r3z",
        "colab_type": "code",
        "colab": {}
      },
      "source": [
        "class NeuralNetwork():\n",
        "    @staticmethod\n",
        "    def cross_entropy_loss(y_pred, y_true):\n",
        "        return -(y_true * np.log(y_pred)).sum()\n",
        "    \n",
        "    @staticmethod\n",
        "    def accuracy(y_pred, y_true):\n",
        "        return np.sum(y_pred == y_true)\n",
        "    \n",
        "    @staticmethod\n",
        "    def softmax(x):\n",
        "        expx = np.exp(x)\n",
        "        return expx / expx.sum(axis=1, keepdims=True)\n",
        "    \n",
        "    @staticmethod\n",
        "    def sigmoid(x):\n",
        "        return 1 / (1 + np.exp(-x))\n",
        "    \n",
        "    def __init__(self, nodes_per_layer, init_strategy='standard_normal'):\n",
        "        '''Creates a Feed-Forward Neural Network.\n",
        "        \"nodes_per_layer\" is a list containing number of nodes in each layer (including input layer)\n",
        "        \"init_strategy\" is the weight initialization formula used\n",
        "        \"mode\" can be one of 'regression' or 'classification' and controls the output activation as well as training metric'''\n",
        "        if len(nodes_per_layer) < 2:\n",
        "            raise ValueError('Network must have atleast 2 layers (input and output).')\n",
        "        if not (np.array(nodes_per_layer) > 0).all():\n",
        "            raise ValueError('Number of nodes in all layers must be positive.')\n",
        "        \n",
        "        self.num_layers = len(nodes_per_layer) # includes input layer\n",
        "        self.nodes_per_layer = nodes_per_layer\n",
        "        self.input_shape = nodes_per_layer[0]\n",
        "        self.output_shape = nodes_per_layer[-1]\n",
        "        self.init_strategy = init_strategy\n",
        "        \n",
        "        self.__init_weights(nodes_per_layer)\n",
        "    \n",
        "    def __init_weights(self, nodes_per_layer):\n",
        "        '''Initializes all weights based on standard normal distribution and all biases to 0.'''\n",
        "        self.weights_ = []\n",
        "        self.biases_ = []\n",
        "        for i,_ in enumerate(nodes_per_layer):\n",
        "            if i == 0:\n",
        "                # skip input layer, it does not have weights/bias\n",
        "                continue\n",
        "            \n",
        "            if self.init_strategy == 'standard_normal':\n",
        "            \tweight_matrix = np.random.normal(size=(nodes_per_layer[i-1], nodes_per_layer[i]))\n",
        "            elif self.init_strategy == 'zeros':\n",
        "                #raise NotImplementedError(f'The {self.init_strategy} strategy has not been implemented yet.')\n",
        "                weight_matrix = np.zeros((nodes_per_layer[i-1], nodes_per_layer[i]))\n",
        "            elif self.init_strategy == 'normal':\n",
        "                #raise NotImplementedError(f'The {self.init_strategy} strategy has not been implemented yet.')\n",
        "                weight_matrix =10* (np.random.normal(size=(nodes_per_layer[i-1], nodes_per_layer[i])))\n",
        "            elif self.init_strategy == 'he':\n",
        "                #raise NotImplementedError(f'The {self.init_strategy} strategy has not been implemented yet.')\n",
        "                weight_matrix =np.sqrt(2/nodes_per_layer[i-1])* (np.random.normal(size=(nodes_per_layer[i-1], nodes_per_layer[i])))\n",
        "            \n",
        "            self.weights_.append(weight_matrix)\n",
        "            bias_vector = np.zeros(shape=(nodes_per_layer[i],))\n",
        "            self.biases_.append(bias_vector)\n",
        "    \n",
        "    def fit(self, Xs, Ys, epochs, lr=1e-3):\n",
        "        '''Trains the model on the given dataset for \"epoch\" number of itterations with step size=\"lr\". \n",
        "        Returns list containing loss for each epoch.'''\n",
        "        history = []\n",
        "        for epoch in tqdm_notebook(range(epochs)):\n",
        "            activations = self.forward_pass(Xs)\n",
        "            deltas = self.backward_pass(Ys, activations)\n",
        "            \n",
        "            layer_inputs = [Xs] + activations[:-1]\n",
        "            self.weight_update(deltas, layer_inputs, lr)\n",
        "                    \n",
        "            preds = self.predict(Xs)\n",
        "            current_loss = self.cross_entropy_loss(preds, Ys)\n",
        "            history.append(current_loss)\n",
        "        return history\n",
        "    \n",
        "    def forward_pass(self, input_data):\n",
        "        '''Executes the feed forward algorithm.\n",
        "        \"input_data\" is the input to the network in row-major form\n",
        "        Returns \"activations\", which is a list of all layer outputs (excluding input layer of course)'''\n",
        "        activations = []\n",
        "        next_layer_input = input_data\n",
        "        for i in range(self.num_layers-1):\n",
        "            intermediate = next_layer_input.dot(self.weights_[i]) + self.biases_[i]\n",
        "            if i == self.num_layers-2: # output layer\n",
        "                next_layer_input = self.softmax(intermediate)\n",
        "            else:\n",
        "                next_layer_input = self.sigmoid(intermediate)\n",
        "            activations.append(next_layer_input)\n",
        "        return activations\n",
        "    \n",
        "    def backward_pass(self, targets, layer_activations):\n",
        "        '''Executes the backpropogation algorithm.\n",
        "        \"targets\" is the ground truth/labels\n",
        "        \"layer_activations\" are the return value of the forward pass step\n",
        "        Returns \"deltas\", which is a list containing weight update values for all layers (excluding the input layer of course)'''\n",
        "        deltas = [0] * self.num_layers\n",
        "        deltas[-1] = layer_activations[-1] - targets\n",
        "        \n",
        "        for i in reversed(range(1, self.num_layers-1)): # skip input and output layers\n",
        "            err = np.dot(self.weights_[i], deltas[i+1].T).T\n",
        "            activation_deriv = np.multiply(layer_activations[i-1], 1-layer_activations[i-1])\n",
        "            deltas[i] = np.multiply(err, activation_deriv)\n",
        "        return deltas[1:]\n",
        "\n",
        "    def weight_update(self, deltas, layer_inputs, lr):\n",
        "        '''Executes the gradient descent algorithm.\n",
        "        \"deltas\" is return value of the backward pass step\n",
        "        \"layer_inputs\" is a list containing the inputs for all layers (including the input layer)\n",
        "        \"lr\" is the learning rate'''\n",
        "        for i in range(self.num_layers-1):\n",
        "            self.weights_[i] -= lr * np.dot(deltas[i].T, layer_inputs[i]).T\n",
        "            self.biases_[i]  -= lr * deltas[i].sum(axis=0)\n",
        "        \n",
        "    def predict(self, Xs):\n",
        "        '''Returns the model predictions (output of the last layer) for the given \"Xs\".'''\n",
        "        return self.forward_pass(Xs)[-1]\n",
        "    \n",
        "    def evaluate(self, Xs, Ys):\n",
        "        '''Returns appropriate metrics for the task, calculated on the dataset passed to this method.'''\n",
        "        pred = self.predict(Xs)\n",
        "        return self.cross_entropy_loss(pred, Ys), self.accuracy(pred.argmax(axis=1), Ys.argmax(axis=1))\n",
        "    \n",
        "    def plot_model(self, filename):\n",
        "        '''Provide the \"filename\" as a string including file extension. Creates an image showing the model as a graph.'''\n",
        "        graph = pydot.Dot(graph_type='digraph')\n",
        "        graph.set_rankdir('LR')\n",
        "        graph.set_node_defaults(shape='circle', fontsize=0)\n",
        "        for i in range(self.num_layers-1):\n",
        "            for n1 in range(self.nodes_per_layer[i]):\n",
        "                for n2 in range(self.nodes_per_layer[i+1]):\n",
        "                    edge = pydot.Edge(f'l{i}n{n1}', f'l{i+1}n{n2}')\n",
        "                    graph.add_edge(edge)\n",
        "        graph.write_png(filename)"
      ],
      "execution_count": 11,
      "outputs": []
    },
    {
      "cell_type": "code",
      "metadata": {
        "ExecuteTime": {
          "end_time": "2019-02-12T11:22:13.702789Z",
          "start_time": "2019-02-12T11:22:13.161591Z"
        },
        "hidden": true,
        "id": "IyrVbNZI_r36",
        "colab_type": "code",
        "colab": {
          "base_uri": "https://localhost:8080/",
          "height": 278
        },
        "outputId": "cbef8153-a56a-43e9-f934-98839d2c1453"
      },
      "source": [
        "data_x, data_y = make_circles(500, noise=0.07)\n",
        "plt.scatter(data_x[:,0], data_x[:,1], c=data_y, cmap=plt.cm.Spectral);\n",
        "plt.gca().set(xlabel='Feature 1', ylabel='Feature 2');"
      ],
      "execution_count": 12,
      "outputs": [
        {
          "output_type": "display_data",
          "data": {
            "image/png": "[encoded data removed]",
            "text/plain": [
              "<Figure size 432x288 with 1 Axes>"
            ]
          },
          "metadata": {
            "tags": [],
            "needs_background": "light"
          }
        }
      ]
    },
    {
      "cell_type": "markdown",
      "metadata": {
        "heading_collapsed": true,
        "hidden": true,
        "id": "cbLbcu-b_r3-",
        "colab_type": "text"
      },
      "source": [
        "### Zeros"
      ]
    },
    {
      "cell_type": "code",
      "metadata": {
        "hidden": true,
        "id": "5RQik2-d_r3_",
        "colab_type": "code",
        "colab": {
          "base_uri": "https://localhost:8080/",
          "height": 381,
          "referenced_widgets": [
            "798a70c887d347c5b2dc9016cfe5a495",
            "ef31634f858e4739a5017a8cb16a9bca",
            "6565c09cce5149788126f9d9c58d59d9",
            "060e8209d54c45f6bed6f227e37e9dc1",
            "d8b62f76c6c44a53b7b260add10c23ee",
            "c89fa9eda2264d0a9c66596cdb12eed6",
            "5d64d1bd5a2b426aadc2b9a255304e31",
            "8d3dc0beecee41409d2e277ebdfdc08a"
          ]
        },
        "outputId": "c7683eea-0860-4045-a95a-08a7ffb3d8a2"
      },
      "source": [
        "nn = NeuralNetwork([2,10,10,2], init_strategy='zeros')\n",
        "history = nn.fit(data_x, pd.get_dummies(data_y).values, epochs=5000, lr=1e-2)\n",
        "plt.plot(history);\n",
        "plt.gca().set(xlabel='Epoch', ylabel='Cross-entropy', title=f'Training Plot {rollnumber}');"
      ],
      "execution_count": 13,
      "outputs": [
        {
          "output_type": "stream",
          "text": [
            "/usr/local/lib/python3.6/dist-packages/ipykernel_launcher.py:66: TqdmDeprecationWarning: This function will be removed in tqdm==5.0.0\n",
            "Please use `tqdm.notebook.tqdm` instead of `tqdm.tqdm_notebook`\n"
          ],
          "name": "stderr"
        },
        {
          "output_type": "display_data",
          "data": {
            "application/vnd.jupyter.widget-view+json": {
              "model_id": "798a70c887d347c5b2dc9016cfe5a495",
              "version_minor": 0,
              "version_major": 2
            },
            "text/plain": [
              "HBox(children=(FloatProgress(value=0.0, max=5000.0), HTML(value='')))"
            ]
          },
          "metadata": {
            "tags": []
          }
        },
        {
          "output_type": "stream",
          "text": [
            "\n"
          ],
          "name": "stdout"
        },
        {
          "output_type": "display_data",
          "data": {
            "image/png": "[encoded data removed]",
            "text/plain": [
              "<Figure size 432x288 with 1 Axes>"
            ]
          },
          "metadata": {
            "tags": [],
            "needs_background": "light"
          }
        }
      ]
    },
    {
      "cell_type": "code",
      "metadata": {
        "hidden": true,
        "id": "rxQq7fp7_r4C",
        "colab_type": "code",
        "colab": {
          "base_uri": "https://localhost:8080/",
          "height": 293
        },
        "outputId": "05df2e3a-eafc-434a-ca58-73e29c1c0940"
      },
      "source": [
        "fig, ax = plt.subplots()\n",
        "x_min, x_max = data_x[:, 0].min() - .5, data_x[:, 0].max() + .5\n",
        "y_min, y_max = data_x[:, 1].min() - .5, data_x[:, 1].max() + .5\n",
        "plot_decision_boundary(lambda x: nn.predict(x).argmax(axis=1), \n",
        "                       x_min, x_max, y_min, y_max, \n",
        "                       plt.cm.Spectral, ax)\n",
        "ax.scatter(data_x[:,0], data_x[:,1], c=data_y, cmap=plt.cm.Spectral);\n",
        "ax.set(xlabel='Feature 1', ylabel='Feature 2', title=f'Neural Network Classifier {rollnumber}');"
      ],
      "execution_count": 14,
      "outputs": [
        {
          "output_type": "display_data",
          "data": {
            "image/png": "[encoded data removed]",
            "text/plain": [
              "<Figure size 432x288 with 1 Axes>"
            ]
          },
          "metadata": {
            "tags": [],
            "needs_background": "light"
          }
        }
      ]
    },
    {
      "cell_type": "markdown",
      "metadata": {
        "heading_collapsed": true,
        "hidden": true,
        "id": "frpuRB0i_r4H",
        "colab_type": "text"
      },
      "source": [
        "### Random Normal"
      ]
    },
    {
      "cell_type": "code",
      "metadata": {
        "hidden": true,
        "id": "UUFKHbp8_r4I",
        "colab_type": "code",
        "colab": {
          "base_uri": "https://localhost:8080/",
          "height": 381,
          "referenced_widgets": [
            "faeffbd4e12a45a681b74bd7c3d15708",
            "dbef53e8829d46acb7eb8f25872d1b21",
            "4f54531154fe43c6853e46d6494341ba",
            "1efb687f64d54940a72e402dd2999d29",
            "ac3ead98a9da487596749e637248ce60",
            "c5fc116ae549428883a03da346776d33",
            "f4dd4409c02249a5a15b0b73c9d86594",
            "55dd6fef069042ed914e0ef660141599"
          ]
        },
        "outputId": "aba9e62b-a542-4970-ccaa-31263824151e"
      },
      "source": [
        "nn = NeuralNetwork([2,10,10,2], init_strategy='normal')\n",
        "history = nn.fit(data_x, pd.get_dummies(data_y).values, epochs=5000, lr=1e-2)\n",
        "plt.plot(history);\n",
        "plt.gca().set(xlabel='Epoch', ylabel='Cross-entropy', title=f'Training Plot {rollnumber}');"
      ],
      "execution_count": 15,
      "outputs": [
        {
          "output_type": "stream",
          "text": [
            "/usr/local/lib/python3.6/dist-packages/ipykernel_launcher.py:66: TqdmDeprecationWarning: This function will be removed in tqdm==5.0.0\n",
            "Please use `tqdm.notebook.tqdm` instead of `tqdm.tqdm_notebook`\n"
          ],
          "name": "stderr"
        },
        {
          "output_type": "display_data",
          "data": {
            "application/vnd.jupyter.widget-view+json": {
              "model_id": "faeffbd4e12a45a681b74bd7c3d15708",
              "version_minor": 0,
              "version_major": 2
            },
            "text/plain": [
              "HBox(children=(FloatProgress(value=0.0, max=5000.0), HTML(value='')))"
            ]
          },
          "metadata": {
            "tags": []
          }
        },
        {
          "output_type": "stream",
          "text": [
            "\n"
          ],
          "name": "stdout"
        },
        {
          "output_type": "display_data",
          "data": {
            "image/png": "[encoded data removed]",
            "text/plain": [
              "<Figure size 432x288 with 1 Axes>"
            ]
          },
          "metadata": {
            "tags": [],
            "needs_background": "light"
          }
        }
      ]
    },
    {
      "cell_type": "code",
      "metadata": {
        "hidden": true,
        "id": "od0iuOSm_r4M",
        "colab_type": "code",
        "colab": {
          "base_uri": "https://localhost:8080/",
          "height": 293
        },
        "outputId": "d3adb4c9-f700-43e3-892d-1618e3ee748a"
      },
      "source": [
        "fig, ax = plt.subplots()\n",
        "x_min, x_max = data_x[:, 0].min() - .5, data_x[:, 0].max() + .5\n",
        "y_min, y_max = data_x[:, 1].min() - .5, data_x[:, 1].max() + .5\n",
        "plot_decision_boundary(lambda x: nn.predict(x).argmax(axis=1), \n",
        "                       x_min, x_max, y_min, y_max, \n",
        "                       plt.cm.Spectral, ax)\n",
        "ax.scatter(data_x[:,0], data_x[:,1], c=data_y, cmap=plt.cm.Spectral);\n",
        "ax.set(xlabel='Feature 1', ylabel='Feature 2', title=f'Neural Network Classifier {rollnumber}');"
      ],
      "execution_count": 16,
      "outputs": [
        {
          "output_type": "display_data",
          "data": {
            "image/png": "[encoded data removed]",
            "text/plain": [
              "<Figure size 432x288 with 1 Axes>"
            ]
          },
          "metadata": {
            "tags": [],
            "needs_background": "light"
          }
        }
      ]
    },
    {
      "cell_type": "markdown",
      "metadata": {
        "heading_collapsed": true,
        "hidden": true,
        "id": "ots-eESd_r4Q",
        "colab_type": "text"
      },
      "source": [
        "### He"
      ]
    },
    {
      "cell_type": "code",
      "metadata": {
        "hidden": true,
        "id": "dTLkeiT-_r4S",
        "colab_type": "code",
        "colab": {
          "base_uri": "https://localhost:8080/",
          "height": 381,
          "referenced_widgets": [
            "bf8aee17bc5f42b3985ee5ec20292302",
            "cb0ca8cc85664fbcbb6a439a2642e0ce",
            "c31e6f8582904e3fa5830ea86efe2ef7",
            "0128486e640f49b08d64d9829fcfc3d6",
            "20fe98667c644f308e79787118323301",
            "13135b356f944e5f9bdf047bfe9e7b86",
            "301e512e3537410a98fcd31503ae2124",
            "1be92d3d7bb74b64b4fe7232ed7f0c4d"
          ]
        },
        "outputId": "a0979245-26c6-464d-e62d-98acee58cf0a"
      },
      "source": [
        "nn = NeuralNetwork([2,10,10,2], init_strategy='he')\n",
        "history = nn.fit(data_x, pd.get_dummies(data_y).values, epochs=5000, lr=1e-2)\n",
        "plt.plot(history);\n",
        "plt.gca().set(xlabel='Epoch', ylabel='Cross-entropy', title=f'Training Plot {rollnumber}');"
      ],
      "execution_count": 17,
      "outputs": [
        {
          "output_type": "stream",
          "text": [
            "/usr/local/lib/python3.6/dist-packages/ipykernel_launcher.py:66: TqdmDeprecationWarning: This function will be removed in tqdm==5.0.0\n",
            "Please use `tqdm.notebook.tqdm` instead of `tqdm.tqdm_notebook`\n"
          ],
          "name": "stderr"
        },
        {
          "output_type": "display_data",
          "data": {
            "application/vnd.jupyter.widget-view+json": {
              "model_id": "bf8aee17bc5f42b3985ee5ec20292302",
              "version_minor": 0,
              "version_major": 2
            },
            "text/plain": [
              "HBox(children=(FloatProgress(value=0.0, max=5000.0), HTML(value='')))"
            ]
          },
          "metadata": {
            "tags": []
          }
        },
        {
          "output_type": "stream",
          "text": [
            "\n"
          ],
          "name": "stdout"
        },
        {
          "output_type": "display_data",
          "data": {
            "image/png": "[encoded data removed]",
            "text/plain": [
              "<Figure size 432x288 with 1 Axes>"
            ]
          },
          "metadata": {
            "tags": [],
            "needs_background": "light"
          }
        }
      ]
    },
    {
      "cell_type": "code",
      "metadata": {
        "hidden": true,
        "id": "OuwnGx-D_r4W",
        "colab_type": "code",
        "colab": {
          "base_uri": "https://localhost:8080/",
          "height": 293
        },
        "outputId": "d93e128f-5f1b-447e-b2fd-69eccba23205"
      },
      "source": [
        "fig, ax = plt.subplots()\n",
        "x_min, x_max = data_x[:, 0].min() - .5, data_x[:, 0].max() + .5\n",
        "y_min, y_max = data_x[:, 1].min() - .5, data_x[:, 1].max() + .5\n",
        "plot_decision_boundary(lambda x: nn.predict(x).argmax(axis=1), \n",
        "                       x_min, x_max, y_min, y_max, \n",
        "                       plt.cm.Spectral, ax)\n",
        "ax.scatter(data_x[:,0], data_x[:,1], c=data_y, cmap=plt.cm.Spectral);\n",
        "ax.set(xlabel='Feature 1', ylabel='Feature 2', title=f'Neural Network Classifier {rollnumber}');"
      ],
      "execution_count": 18,
      "outputs": [
        {
          "output_type": "display_data",
          "data": {
            "image/png": "[encoded data removed]",
            "text/plain": [
              "<Figure size 432x288 with 1 Axes>"
            ]
          },
          "metadata": {
            "tags": [],
            "needs_background": "light"
          }
        }
      ]
    },
    {
      "cell_type": "markdown",
      "metadata": {
        "id": "2KipZo2I_r4a",
        "colab_type": "text"
      },
      "source": [
        "## Task 3 - Regularization"
      ]
    },
    {
      "cell_type": "markdown",
      "metadata": {
        "id": "yg6si47Y_r4a",
        "colab_type": "text"
      },
      "source": [
        "Now we will explore the propensity of Neural Networks to overfit the training data. We will be identifying this phenomenon visually by inspecting the decision boundary, rather than evaluating the model on a test/holdout dataset. \n",
        "\n",
        "You will implement __both__ $L_1$ and $L_2$ regularizers in this task.\n",
        "\n",
        "The only function you need to modify is `weight_update` (or `backward_pass`), `__l1__` and `__l2__` since the `__init__` and `fit` functions have been modified for you.\n",
        "\n",
        "*Note:* You can add the derivative of the regularizing term in either of the 2 functions dealing with derivatives (it would be simpler in `weight_update`).\n",
        "\n",
        "Vizualization code is provided to plot the decision boundary of the binary classification function your model will learn. The different regularizers (including no regularization) will show up as different fits over the training data in the plot."
      ]
    },
    {
      "cell_type": "code",
      "metadata": {
        "ExecuteTime": {
          "end_time": "2019-02-12T14:30:00.361624Z",
          "start_time": "2019-02-12T14:30:00.254751Z"
        },
        "code_folding": [
          0,
          42,
          85,
          100,
          128,
          132,
          137
        ],
        "id": "LUA1m4VN_r4b",
        "colab_type": "code",
        "colab": {}
      },
      "source": [
        "class NeuralNetwork():\n",
        "    @staticmethod\n",
        "    def mean_squared_error(y_pred, y_true):\n",
        "        return np.mean((y_pred - y_true) ** 2)\n",
        "    \n",
        "    @staticmethod\n",
        "    def cross_entropy_loss(y_pred, y_true):\n",
        "        return -(y_true * np.log(y_pred)).sum()\n",
        "    \n",
        "    @staticmethod\n",
        "    def accuracy(y_pred, y_true):\n",
        "        return np.sum(y_pred == y_true)\n",
        "    \n",
        "    @staticmethod\n",
        "    def softmax(x):\n",
        "        expx = np.exp(x)\n",
        "        return expx / expx.sum(axis=1, keepdims=True)\n",
        "    \n",
        "    @staticmethod\n",
        "    def sigmoid(x):\n",
        "        return 1 / (1 + np.exp(-x))\n",
        "    \n",
        "    def __init__(self, nodes_per_layer, regularization='none', reg_factor=0.0):\n",
        "        '''Creates a Feed-Forward Neural Network.\n",
        "        \"nodes_per_layer\" is a list containing number of nodes in each layer (including input layer)\n",
        "        \"regularization\" is one of {l1,l2,None}\n",
        "        \"reg_factor\" is teh lambda parameter in the regularized loss equation \n",
        "        \"mode\" can be one of 'regression' or 'classification' and controls the output activation as well as training metric'''\n",
        "        if len(nodes_per_layer) < 2:\n",
        "            raise ValueError('Network must have atleast 2 layers (input and output).')\n",
        "        if not (np.array(nodes_per_layer) > 0).all():\n",
        "            raise ValueError('Number of nodes in all layers must be positive.')\n",
        "        \n",
        "        self.num_layers = len(nodes_per_layer) # includes input layer\n",
        "        self.nodes_per_layer = nodes_per_layer\n",
        "        self.input_shape = nodes_per_layer[0]\n",
        "        self.output_shape = nodes_per_layer[-1]\n",
        "        self.regularization = regularization\n",
        "        self.reg_factor = reg_factor\n",
        "        \n",
        "        self.__init_weights(nodes_per_layer)\n",
        "    \n",
        "    def __init_weights(self, nodes_per_layer):\n",
        "        '''Initializes all weights based on standard normal distribution and all biases to 0.'''\n",
        "        self.weights_ = []\n",
        "        self.biases_ = []\n",
        "        for i,_ in enumerate(nodes_per_layer):\n",
        "            if i == 0:\n",
        "                # skip input layer, it does not have weights/bias\n",
        "                continue\n",
        "            \n",
        "            weight_matrix = np.random.normal(size=(nodes_per_layer[i-1], nodes_per_layer[i]))\n",
        "            self.weights_.append(weight_matrix)\n",
        "            bias_vector = np.zeros(shape=(nodes_per_layer[i],))\n",
        "            self.biases_.append(bias_vector)\n",
        "    \n",
        "    def __l1__(self):\n",
        "        #pass\n",
        "        x=np.absolute(self.weights_)\n",
        "        sum_1=0\n",
        "        for i in range(len(x)):\n",
        "            sum_1+=np.sum(x[i])\n",
        "        #print(np.array(x).shape)\n",
        "        #y=np.sum(x)\n",
        "        return (self.reg_factor*sum_1)\n",
        "    \n",
        "    def __l2__(self):\n",
        "        #pass\n",
        "        x=(np.array(self.weights_))**2\n",
        "        sum_1=0\n",
        "        for i in range(len(x)):\n",
        "            sum_1+=np.sum(x[i])\n",
        "        return (self.reg_factor*sum_1)\n",
        "    def fit(self, Xs, Ys, epochs, lr=1e-3):\n",
        "        '''Trains the model on the given dataset for \"epoch\" number of itterations with step size=\"lr\". \n",
        "        Returns list containing loss for each epoch.'''\n",
        "        history = []\n",
        "        for epoch in tqdm_notebook(range(epochs)):\n",
        "            activations = self.forward_pass(Xs)\n",
        "            deltas = self.backward_pass(Ys, activations)\n",
        "            \n",
        "            layer_inputs = [Xs] + activations[:-1]\n",
        "            self.weight_update(deltas, layer_inputs, lr)\n",
        "                    \n",
        "            preds = self.predict(Xs)\n",
        "            \n",
        "            regularization_amount = 0\n",
        "            if self.regularization == 'l1':\n",
        "                regularization_amount = self.__l1__()\n",
        "            elif self.regularization == 'l2':\n",
        "                regularization_amount = self.__l2__()\n",
        "            \n",
        "            current_loss = self.cross_entropy_loss(preds, Ys) + regularization_amount\n",
        "            history.append(current_loss)\n",
        "        return history\n",
        "    \n",
        "    def forward_pass(self, input_data):\n",
        "        '''Executes the feed forward algorithm.\n",
        "        \"input_data\" is the input to the network in row-major form\n",
        "        Returns \"activations\", which is a list of all layer outputs (excluding input layer of course)'''\n",
        "        activations = []\n",
        "        next_layer_input = input_data\n",
        "        for i in range(self.num_layers-1):\n",
        "            intermediate = next_layer_input.dot(self.weights_[i]) + self.biases_[i]\n",
        "            if i == self.num_layers-2: # output layer\n",
        "                next_layer_input = self.softmax(intermediate)\n",
        "            else:\n",
        "                next_layer_input = self.sigmoid(intermediate)\n",
        "            activations.append(next_layer_input)\n",
        "        return activations\n",
        "    \n",
        "    def backward_pass(self, targets, layer_activations):\n",
        "        '''Executes the backpropogation algorithm.\n",
        "        \"targets\" is the ground truth/labels\n",
        "        \"layer_activations\" are the return value of the forward pass step\n",
        "        Returns \"deltas\", which is a list containing weight update values for all layers (excluding the input layer of course)'''\n",
        "        deltas = [0] * self.num_layers\n",
        "        deltas[-1] = layer_activations[-1] - targets\n",
        "        \n",
        "        for i in reversed(range(1, self.num_layers-1)): # skip input and output layers\n",
        "            err = np.dot(self.weights_[i], deltas[i+1].T).T\n",
        "            activation_deriv = np.multiply(layer_activations[i-1], 1-layer_activations[i-1])\n",
        "            deltas[i] = np.multiply(err, activation_deriv)\n",
        "        return deltas[1:]\n",
        "\n",
        "    def weight_update(self, deltas, layer_inputs, lr):\n",
        "        '''Executes the gradient descent algorithm.\n",
        "        \"deltas\" is return value of the backward pass step\n",
        "        \"layer_inputs\" is a list containing the inputs for all layers (including the input layer)\n",
        "        \"lr\" is the learning rate'''\n",
        "        for i in range(self.num_layers-1):\n",
        "            if self.regularization == 'l1':\n",
        "                self.weights_[i] -= (lr * np.dot(deltas[i].T, layer_inputs[i]).T + lr*self.reg_factor*np.sign(self.weights_[i]))\n",
        "                #raise NotImplementedError(f'{self.regularization} regularization is not implemented.')\n",
        "            elif self.regularization == 'l2':\n",
        "                self.weights_[i] -=( lr * np.dot(deltas[i].T, layer_inputs[i]).T + lr*self.reg_factor*self.weights_[i])\n",
        "            # raise NotImplementedError(f'{self.regularization} regularization is not implemented.')\n",
        "            elif self.regularization == 'none':\n",
        "                self.weights_[i] -= lr * np.dot(deltas[i].T, layer_inputs[i]).T\n",
        "            self.biases_[i]  -= lr * deltas[i].sum(axis=0)\n",
        "        \n",
        "    def predict(self, Xs):\n",
        "        '''Returns the model predictions (output of the last layer) for the given \"Xs\".'''\n",
        "        return self.forward_pass(Xs)[-1]\n",
        "    \n",
        "    def evaluate(self, Xs, Ys):\n",
        "        '''Returns appropriate metrics for the task, calculated on the dataset passed to this method.'''\n",
        "        pred = self.predict(Xs)\n",
        "        return self.cross_entropy_loss(pred, Ys), self.accuracy(pred.argmax(axis=1), Ys.argmax(axis=1))\n",
        "    \n",
        "    def plot_model(self, filename):\n",
        "        '''Provide the \"filename\" as a string including file extension. Creates an image showing the model as a graph.'''\n",
        "        graph = pydot.Dot(graph_type='digraph')\n",
        "        graph.set_rankdir('LR')\n",
        "        graph.set_node_defaults(shape='circle', fontsize=0)\n",
        "        for i in range(self.num_layers-1):\n",
        "            for n1 in range(self.nodes_per_layer[i]):\n",
        "                for n2 in range(self.nodes_per_layer[i+1]):\n",
        "                    edge = pydot.Edge(f'l{i}n{n1}', f'l{i+1}n{n2}')\n",
        "                    graph.add_edge(edge)\n",
        "        graph.write_png(filename)"
      ],
      "execution_count": 19,
      "outputs": []
    },
    {
      "cell_type": "code",
      "metadata": {
        "id": "KgYLIkIK_r4e",
        "colab_type": "code",
        "colab": {
          "base_uri": "https://localhost:8080/",
          "height": 278
        },
        "outputId": "187031ef-6973-41d0-d9e4-92abeaadd164"
      },
      "source": [
        "from sklearn.datasets.samples_generator import make_blobs\n",
        "data_x, data_y = make_blobs(500, centers=2, cluster_std=6)\n",
        "plt.scatter(data_x[:,0], data_x[:,1], c=data_y, cmap=plt.cm.Spectral);\n",
        "plt.gca().set(xlabel='Feature 1', ylabel='Feature 2');"
      ],
      "execution_count": 21,
      "outputs": [
        {
          "output_type": "display_data",
          "data": {
            "image/png": "[encoded data removed]",
            "text/plain": [
              "<Figure size 432x288 with 1 Axes>"
            ]
          },
          "metadata": {
            "tags": [],
            "needs_background": "light"
          }
        }
      ]
    },
    {
      "cell_type": "markdown",
      "metadata": {
        "heading_collapsed": true,
        "id": "i_NHdLiH_r4i",
        "colab_type": "text"
      },
      "source": [
        "### No Regularization"
      ]
    },
    {
      "cell_type": "code",
      "metadata": {
        "hidden": true,
        "id": "X4zwR1sl_r4i",
        "colab_type": "code",
        "colab": {
          "base_uri": "https://localhost:8080/",
          "height": 381,
          "referenced_widgets": [
            "bde790fbbbb64a7681ae0758a0003ee7",
            "d8c252a5efb3428088ba0a7eeb7ba93b",
            "45df4559e7294b1e83349567e69b076f",
            "0ebbf40901004d8d98b6fab3c0506d35",
            "14be45d1954e4216afb3566170a28b29",
            "365fe1c3f2e942ba81ee817814da0aea",
            "b5745d6da05c4de69fcd739aa9f0a80f",
            "9d428cd7e1ba431bb9c134a2cea28d77"
          ]
        },
        "outputId": "0ba49ede-d967-4177-e53f-ed6c87af5426"
      },
      "source": [
        "nn = NeuralNetwork([2,5,5,2], regularization='none', reg_factor=0.0)\n",
        "history = nn.fit(data_x, pd.get_dummies(data_y).values, epochs=5000, lr=1e-2)\n",
        "plt.plot(history);\n",
        "plt.gca().set(xlabel='Epoch', ylabel='Cross-entropy', title=f'Training Plot {rollnumber}');"
      ],
      "execution_count": 22,
      "outputs": [
        {
          "output_type": "stream",
          "text": [
            "/usr/local/lib/python3.6/dist-packages/ipykernel_launcher.py:78: TqdmDeprecationWarning: This function will be removed in tqdm==5.0.0\n",
            "Please use `tqdm.notebook.tqdm` instead of `tqdm.tqdm_notebook`\n"
          ],
          "name": "stderr"
        },
        {
          "output_type": "display_data",
          "data": {
            "application/vnd.jupyter.widget-view+json": {
              "model_id": "bde790fbbbb64a7681ae0758a0003ee7",
              "version_minor": 0,
              "version_major": 2
            },
            "text/plain": [
              "HBox(children=(FloatProgress(value=0.0, max=5000.0), HTML(value='')))"
            ]
          },
          "metadata": {
            "tags": []
          }
        },
        {
          "output_type": "stream",
          "text": [
            "\n"
          ],
          "name": "stdout"
        },
        {
          "output_type": "display_data",
          "data": {
            "image/png": "[encoded data removed]",
            "text/plain": [
              "<Figure size 432x288 with 1 Axes>"
            ]
          },
          "metadata": {
            "tags": [],
            "needs_background": "light"
          }
        }
      ]
    },
    {
      "cell_type": "code",
      "metadata": {
        "hidden": true,
        "id": "fU_z1iiq_r4m",
        "colab_type": "code",
        "colab": {
          "base_uri": "https://localhost:8080/",
          "height": 293
        },
        "outputId": "475548ce-2496-4fc4-fcef-1f1378240a59"
      },
      "source": [
        "fig, ax = plt.subplots()\n",
        "x_min, x_max = data_x[:, 0].min() - .5, data_x[:, 0].max() + .5\n",
        "y_min, y_max = data_x[:, 1].min() - .5, data_x[:, 1].max() + .5\n",
        "plot_decision_boundary(lambda x: nn.predict(x).argmax(axis=1), \n",
        "                       x_min, x_max, y_min, y_max, \n",
        "                       plt.cm.Spectral, ax)\n",
        "ax.scatter(data_x[:,0], data_x[:,1], c=data_y, cmap=plt.cm.Spectral);\n",
        "ax.set(xlabel='Feature 1', ylabel='Feature 2', title=f'Neural Network Classifier {rollnumber}');"
      ],
      "execution_count": 23,
      "outputs": [
        {
          "output_type": "display_data",
          "data": {
            "image/png": "[encoded data removed]",
            "text/plain": [
              "<Figure size 432x288 with 1 Axes>"
            ]
          },
          "metadata": {
            "tags": [],
            "needs_background": "light"
          }
        }
      ]
    },
    {
      "cell_type": "markdown",
      "metadata": {
        "heading_collapsed": true,
        "id": "hWTLKsqz_r4p",
        "colab_type": "text"
      },
      "source": [
        "### $L_1$ Regularization"
      ]
    },
    {
      "cell_type": "code",
      "metadata": {
        "hidden": true,
        "id": "BTHrJxt__r4q",
        "colab_type": "code",
        "colab": {
          "base_uri": "https://localhost:8080/",
          "height": 381,
          "referenced_widgets": [
            "f990534a442f4286a7c3df300547c3c0",
            "4b21fe02db16409fa15da139a6c63edf",
            "92ffa04d386c4bb892e2daa0b2ea13cb",
            "9238914f6f2c4dfa92d6b94a26ad0625",
            "205343ea5add413796e8feab32c830c1",
            "3c5b2a3142a24c5091230eb515b1ee6e",
            "ee6dbc7b16754f58902f75c68160853f",
            "4887898f9e774a989b63a83114e73b47"
          ]
        },
        "outputId": "568aad79-bca5-4704-b703-b0c34df4fd15"
      },
      "source": [
        "nn = NeuralNetwork([2,10,10,2], regularization='l1', reg_factor=0.3)\n",
        "history = nn.fit(data_x, pd.get_dummies(data_y).values, epochs=5000, lr=1e-2)\n",
        "plt.plot(history);\n",
        "plt.gca().set(xlabel='Epoch', ylabel='Cross-entropy', title=f'Training Plot {rollnumber}');"
      ],
      "execution_count": 24,
      "outputs": [
        {
          "output_type": "stream",
          "text": [
            "/usr/local/lib/python3.6/dist-packages/ipykernel_launcher.py:78: TqdmDeprecationWarning: This function will be removed in tqdm==5.0.0\n",
            "Please use `tqdm.notebook.tqdm` instead of `tqdm.tqdm_notebook`\n"
          ],
          "name": "stderr"
        },
        {
          "output_type": "display_data",
          "data": {
            "application/vnd.jupyter.widget-view+json": {
              "model_id": "f990534a442f4286a7c3df300547c3c0",
              "version_minor": 0,
              "version_major": 2
            },
            "text/plain": [
              "HBox(children=(FloatProgress(value=0.0, max=5000.0), HTML(value='')))"
            ]
          },
          "metadata": {
            "tags": []
          }
        },
        {
          "output_type": "stream",
          "text": [
            "\n"
          ],
          "name": "stdout"
        },
        {
          "output_type": "display_data",
          "data": {
            "image/png": "[encoded data removed]",
            "text/plain": [
              "<Figure size 432x288 with 1 Axes>"
            ]
          },
          "metadata": {
            "tags": [],
            "needs_background": "light"
          }
        }
      ]
    },
    {
      "cell_type": "code",
      "metadata": {
        "hidden": true,
        "id": "QVuNzWHr_r4u",
        "colab_type": "code",
        "colab": {
          "base_uri": "https://localhost:8080/",
          "height": 293
        },
        "outputId": "abc6e693-7a14-448b-e089-4d1d94332924"
      },
      "source": [
        "fig, ax = plt.subplots()\n",
        "x_min, x_max = data_x[:, 0].min() - .5, data_x[:, 0].max() + .5\n",
        "y_min, y_max = data_x[:, 1].min() - .5, data_x[:, 1].max() + .5\n",
        "plot_decision_boundary(lambda x: nn.predict(x).argmax(axis=1), \n",
        "                       x_min, x_max, y_min, y_max, \n",
        "                       plt.cm.Spectral, ax)\n",
        "ax.scatter(data_x[:,0], data_x[:,1], c=data_y, cmap=plt.cm.Spectral);\n",
        "ax.set(xlabel='Feature 1', ylabel='Feature 2', title=f'Neural Network Classifier {rollnumber}');"
      ],
      "execution_count": 25,
      "outputs": [
        {
          "output_type": "display_data",
          "data": {
            "image/png": "[encoded data removed]",
            "text/plain": [
              "<Figure size 432x288 with 1 Axes>"
            ]
          },
          "metadata": {
            "tags": [],
            "needs_background": "light"
          }
        }
      ]
    },
    {
      "cell_type": "markdown",
      "metadata": {
        "heading_collapsed": true,
        "id": "dmCjQQ1r_r4z",
        "colab_type": "text"
      },
      "source": [
        "### $L_2$ Regularization"
      ]
    },
    {
      "cell_type": "code",
      "metadata": {
        "hidden": true,
        "id": "-54Z-80n_r40",
        "colab_type": "code",
        "colab": {
          "base_uri": "https://localhost:8080/",
          "height": 381,
          "referenced_widgets": [
            "0838752010244bebbeced5001eacd42d",
            "00279e530053466b93a5c8136e539d34",
            "c9856e8723954f0cbad236e4bef8bec8",
            "928582739c9343aa84c4960e17502ecc",
            "cc07ac2e51c84d83bdd9a23ed9acf764",
            "a30a92774b584f84afb1d00ae3345702",
            "8d827f63346e4c29b807a8fff52795c6",
            "77801227ecf7490e8f1f901f7518c863"
          ]
        },
        "outputId": "bdc5bbb1-526e-4e38-8e12-cad85307f37d"
      },
      "source": [
        "nn = NeuralNetwork([2,10,10,2], regularization='l2', reg_factor=0.3)\n",
        "history = nn.fit(data_x, pd.get_dummies(data_y).values, epochs=5000, lr=1e-2)\n",
        "plt.plot(history);\n",
        "plt.gca().set(xlabel='Epoch', ylabel='Cross-entropy', title=f'Training Plot {rollnumber}');"
      ],
      "execution_count": 26,
      "outputs": [
        {
          "output_type": "stream",
          "text": [
            "/usr/local/lib/python3.6/dist-packages/ipykernel_launcher.py:78: TqdmDeprecationWarning: This function will be removed in tqdm==5.0.0\n",
            "Please use `tqdm.notebook.tqdm` instead of `tqdm.tqdm_notebook`\n"
          ],
          "name": "stderr"
        },
        {
          "output_type": "display_data",
          "data": {
            "application/vnd.jupyter.widget-view+json": {
              "model_id": "0838752010244bebbeced5001eacd42d",
              "version_minor": 0,
              "version_major": 2
            },
            "text/plain": [
              "HBox(children=(FloatProgress(value=0.0, max=5000.0), HTML(value='')))"
            ]
          },
          "metadata": {
            "tags": []
          }
        },
        {
          "output_type": "stream",
          "text": [
            "\n"
          ],
          "name": "stdout"
        },
        {
          "output_type": "display_data",
          "data": {
            "image/png": "[encoded data removed]",
            "text/plain": [
              "<Figure size 432x288 with 1 Axes>"
            ]
          },
          "metadata": {
            "tags": [],
            "needs_background": "light"
          }
        }
      ]
    },
    {
      "cell_type": "code",
      "metadata": {
        "hidden": true,
        "id": "zXMu2WrK_r43",
        "colab_type": "code",
        "colab": {
          "base_uri": "https://localhost:8080/",
          "height": 293
        },
        "outputId": "83301057-e836-4441-8647-0dd1bbec0f98"
      },
      "source": [
        "fig, ax = plt.subplots()\n",
        "x_min, x_max = data_x[:, 0].min() - .5, data_x[:, 0].max() + .5\n",
        "y_min, y_max = data_x[:, 1].min() - .5, data_x[:, 1].max() + .5\n",
        "plot_decision_boundary(lambda x: nn.predict(x).argmax(axis=1), \n",
        "                       x_min, x_max, y_min, y_max, \n",
        "                       plt.cm.Spectral, ax)\n",
        "ax.scatter(data_x[:,0], data_x[:,1], c=data_y, cmap=plt.cm.Spectral);\n",
        "ax.set(xlabel='Feature 1', ylabel='Feature 2', title=f'Neural Network Classifier {rollnumber}');"
      ],
      "execution_count": 27,
      "outputs": [
        {
          "output_type": "display_data",
          "data": {
            "image/png": "[encoded data removed]",
            "text/plain": [
              "<Figure size 432x288 with 1 Axes>"
            ]
          },
          "metadata": {
            "tags": [],
            "needs_background": "light"
          }
        }
      ]
    },
    {
      "cell_type": "markdown",
      "metadata": {
        "heading_collapsed": true,
        "id": "NGoI4yNh_r46",
        "colab_type": "text"
      },
      "source": [
        "## Task 4 - Loss Functions"
      ]
    },
    {
      "cell_type": "markdown",
      "metadata": {
        "hidden": true,
        "id": "gLnLoMnG_r47",
        "colab_type": "text"
      },
      "source": [
        "Now we will see how the choice of error function determines the performance of the model for a particular task. This task will also serve as a practical introduction to the basics of Keras.\n",
        "\n",
        "The code to create and evaluate the model has been provided to you already. All you need to do is fill in the `mean_squared_error` and `cross_entropy_loss` functions and use them appropriately. \n",
        "\n",
        "You will use both these loss functions to learn regression as well as classification and then compare the results via the plots.\n",
        "\n",
        "You should keep an eye on the loss plot generated after training and the values of evaluation metrics."
      ]
    },
    {
      "cell_type": "markdown",
      "metadata": {
        "heading_collapsed": true,
        "hidden": true,
        "id": "6EeV10S__r48",
        "colab_type": "text"
      },
      "source": [
        "### Regression"
      ]
    },
    {
      "cell_type": "code",
      "metadata": {
        "ExecuteTime": {
          "end_time": "2019-02-12T07:02:35.943246Z",
          "start_time": "2019-02-12T07:02:35.926955Z"
        },
        "hidden": true,
        "id": "iGMQl0ha_r48",
        "colab_type": "code",
        "colab": {}
      },
      "source": [
        "batch_size = 128\n",
        "num_classes = 1\n",
        "class_labels = np.arange(0, num_classes, 1)\n",
        "epochs = 80"
      ],
      "execution_count": 28,
      "outputs": []
    },
    {
      "cell_type": "code",
      "metadata": {
        "ExecuteTime": {
          "end_time": "2019-02-12T07:33:36.497335Z",
          "start_time": "2019-02-12T07:33:36.487451Z"
        },
        "hidden": true,
        "id": "xYcLKlpu_r4_",
        "colab_type": "code",
        "colab": {
          "base_uri": "https://localhost:8080/",
          "height": 278
        },
        "outputId": "b51a1f46-7efc-47fe-de64-125b068d6690"
      },
      "source": [
        "from sklearn.model_selection import train_test_split\n",
        "data_x, _ = make_moons(200, noise=0.18)\n",
        "x_train, x_test, y_train, y_test = train_test_split(data_x[:,0], data_x[:,1], test_size=0.2, shuffle=True)\n",
        "plt.scatter(data_x[:,0], data_x[:,1]);\n",
        "plt.gca().set(xlabel='Input', ylabel='Output');"
      ],
      "execution_count": 29,
      "outputs": [
        {
          "output_type": "display_data",
          "data": {
            "image/png": "[encoded data removed]",
            "text/plain": [
              "<Figure size 432x288 with 1 Axes>"
            ]
          },
          "metadata": {
            "tags": [],
            "needs_background": "light"
          }
        }
      ]
    },
    {
      "cell_type": "code",
      "metadata": {
        "hidden": true,
        "id": "CiG5b3nt_r5E",
        "colab_type": "code",
        "colab": {
          "base_uri": "https://localhost:8080/",
          "height": 273
        },
        "outputId": "93a320c4-070c-4d9f-ee29-9b25b76b02bf"
      },
      "source": [
        "model = Sequential()\n",
        "model.add(Dense(50, activation='relu', input_shape=(1,), name='input_l'))\n",
        "model.add(Dense(50, activation='relu', name='hidden_l'))\n",
        "model.add(Dense(num_classes, activation='relu', name='output_l'))\n",
        "\n",
        "model.summary()"
      ],
      "execution_count": 30,
      "outputs": [
        {
          "output_type": "stream",
          "text": [
            "Model: \"sequential\"\n",
            "_________________________________________________________________\n",
            "Layer (type)                 Output Shape              Param #   \n",
            "=================================================================\n",
            "input_l (Dense)              (None, 50)                100       \n",
            "_________________________________________________________________\n",
            "hidden_l (Dense)             (None, 50)                2550      \n",
            "_________________________________________________________________\n",
            "output_l (Dense)             (None, 1)                 51        \n",
            "=================================================================\n",
            "Total params: 2,701\n",
            "Trainable params: 2,701\n",
            "Non-trainable params: 0\n",
            "_________________________________________________________________\n"
          ],
          "name": "stdout"
        }
      ]
    },
    {
      "cell_type": "code",
      "metadata": {
        "ExecuteTime": {
          "end_time": "2019-02-12T07:34:53.337575Z",
          "start_time": "2019-02-12T07:34:53.317596Z"
        },
        "hidden": true,
        "id": "H-wuxmI5_r5H",
        "colab_type": "code",
        "colab": {}
      },
      "source": [
        "def mean_squared_error(y_pred, y_true):\n",
        "    return K.mean(K.pow((y_true - y_pred), 2))\n",
        "\n",
        "def cross_entropy_loss(y_pred, y_true):\n",
        "    return -(K.sum(y_true * K.log(y_pred)))"
      ],
      "execution_count": 31,
      "outputs": []
    },
    {
      "cell_type": "code",
      "metadata": {
        "hidden": true,
        "id": "7WSHDUgL_r5K",
        "colab_type": "code",
        "colab": {}
      },
      "source": [
        "model.compile(loss=mean_squared_error,\n",
        "              optimizer='sgd',metrics=['accuracy'])"
      ],
      "execution_count": 32,
      "outputs": []
    },
    {
      "cell_type": "code",
      "metadata": {
        "hidden": true,
        "id": "cdsS5wyn_r5N",
        "colab_type": "code",
        "colab": {
          "base_uri": "https://localhost:8080/",
          "height": 1000
        },
        "outputId": "f1580611-5fe6-4d37-8121-c2394611b517"
      },
      "source": [
        "history = model.fit(x_train, y_train,validation_data =(x_test,y_test),\n",
        "                    batch_size=batch_size,\n",
        "                    epochs=epochs,\n",
        "                    verbose=1)"
      ],
      "execution_count": 33,
      "outputs": [
        {
          "output_type": "stream",
          "text": [
            "Epoch 1/80\n",
            "2/2 [==============================] - 0s 75ms/step - loss: 0.3203 - accuracy: 0.0000e+00 - val_loss: 0.2958 - val_accuracy: 0.0000e+00\n",
            "Epoch 2/80\n",
            "2/2 [==============================] - 0s 10ms/step - loss: 0.3143 - accuracy: 0.0000e+00 - val_loss: 0.2915 - val_accuracy: 0.0000e+00\n",
            "Epoch 3/80\n",
            "2/2 [==============================] - 0s 10ms/step - loss: 0.3093 - accuracy: 0.0000e+00 - val_loss: 0.2878 - val_accuracy: 0.0000e+00\n",
            "Epoch 4/80\n",
            "2/2 [==============================] - 0s 10ms/step - loss: 0.3042 - accuracy: 0.0000e+00 - val_loss: 0.2836 - val_accuracy: 0.0000e+00\n",
            "Epoch 5/80\n",
            "2/2 [==============================] - 0s 11ms/step - loss: 0.2983 - accuracy: 0.0000e+00 - val_loss: 0.2800 - val_accuracy: 0.0000e+00\n",
            "Epoch 6/80\n",
            "2/2 [==============================] - 0s 9ms/step - loss: 0.2934 - accuracy: 0.0000e+00 - val_loss: 0.2775 - val_accuracy: 0.0000e+00\n",
            "Epoch 7/80\n",
            "2/2 [==============================] - 0s 11ms/step - loss: 0.2895 - accuracy: 0.0000e+00 - val_loss: 0.2749 - val_accuracy: 0.0000e+00\n",
            "Epoch 8/80\n",
            "2/2 [==============================] - 0s 10ms/step - loss: 0.2855 - accuracy: 0.0000e+00 - val_loss: 0.2724 - val_accuracy: 0.0000e+00\n",
            "Epoch 9/80\n",
            "2/2 [==============================] - 0s 11ms/step - loss: 0.2818 - accuracy: 0.0000e+00 - val_loss: 0.2705 - val_accuracy: 0.0000e+00\n",
            "Epoch 10/80\n",
            "2/2 [==============================] - 0s 10ms/step - loss: 0.2787 - accuracy: 0.0000e+00 - val_loss: 0.2683 - val_accuracy: 0.0000e+00\n",
            "Epoch 11/80\n",
            "2/2 [==============================] - 0s 11ms/step - loss: 0.2753 - accuracy: 0.0000e+00 - val_loss: 0.2666 - val_accuracy: 0.0000e+00\n",
            "Epoch 12/80\n",
            "2/2 [==============================] - 0s 11ms/step - loss: 0.2719 - accuracy: 0.0000e+00 - val_loss: 0.2639 - val_accuracy: 0.0000e+00\n",
            "Epoch 13/80\n",
            "2/2 [==============================] - 0s 10ms/step - loss: 0.2675 - accuracy: 0.0000e+00 - val_loss: 0.2620 - val_accuracy: 0.0000e+00\n",
            "Epoch 14/80\n",
            "2/2 [==============================] - 0s 9ms/step - loss: 0.2643 - accuracy: 0.0000e+00 - val_loss: 0.2599 - val_accuracy: 0.0000e+00\n",
            "Epoch 15/80\n",
            "2/2 [==============================] - 0s 10ms/step - loss: 0.2610 - accuracy: 0.0000e+00 - val_loss: 0.2582 - val_accuracy: 0.0000e+00\n",
            "Epoch 16/80\n",
            "2/2 [==============================] - 0s 12ms/step - loss: 0.2577 - accuracy: 0.0000e+00 - val_loss: 0.2563 - val_accuracy: 0.0000e+00\n",
            "Epoch 17/80\n",
            "2/2 [==============================] - 0s 10ms/step - loss: 0.2539 - accuracy: 0.0000e+00 - val_loss: 0.2547 - val_accuracy: 0.0000e+00\n",
            "Epoch 18/80\n",
            "2/2 [==============================] - 0s 10ms/step - loss: 0.2503 - accuracy: 0.0000e+00 - val_loss: 0.2533 - val_accuracy: 0.0000e+00\n",
            "Epoch 19/80\n",
            "2/2 [==============================] - 0s 11ms/step - loss: 0.2464 - accuracy: 0.0000e+00 - val_loss: 0.2515 - val_accuracy: 0.0000e+00\n",
            "Epoch 20/80\n",
            "2/2 [==============================] - 0s 12ms/step - loss: 0.2415 - accuracy: 0.0000e+00 - val_loss: 0.2503 - val_accuracy: 0.0000e+00\n",
            "Epoch 21/80\n",
            "2/2 [==============================] - 0s 11ms/step - loss: 0.2379 - accuracy: 0.0000e+00 - val_loss: 0.2483 - val_accuracy: 0.0000e+00\n",
            "Epoch 22/80\n",
            "2/2 [==============================] - 0s 11ms/step - loss: 0.2333 - accuracy: 0.0000e+00 - val_loss: 0.2467 - val_accuracy: 0.0000e+00\n",
            "Epoch 23/80\n",
            "2/2 [==============================] - 0s 10ms/step - loss: 0.2293 - accuracy: 0.0000e+00 - val_loss: 0.2457 - val_accuracy: 0.0000e+00\n",
            "Epoch 24/80\n",
            "2/2 [==============================] - 0s 9ms/step - loss: 0.2254 - accuracy: 0.0000e+00 - val_loss: 0.2448 - val_accuracy: 0.0000e+00\n",
            "Epoch 25/80\n",
            "2/2 [==============================] - 0s 12ms/step - loss: 0.2211 - accuracy: 0.0000e+00 - val_loss: 0.2440 - val_accuracy: 0.0000e+00\n",
            "Epoch 26/80\n",
            "2/2 [==============================] - 0s 10ms/step - loss: 0.2171 - accuracy: 0.0000e+00 - val_loss: 0.2436 - val_accuracy: 0.0000e+00\n",
            "Epoch 27/80\n",
            "2/2 [==============================] - 0s 10ms/step - loss: 0.2143 - accuracy: 0.0000e+00 - val_loss: 0.2433 - val_accuracy: 0.0000e+00\n",
            "Epoch 28/80\n",
            "2/2 [==============================] - 0s 10ms/step - loss: 0.2121 - accuracy: 0.0000e+00 - val_loss: 0.2427 - val_accuracy: 0.0000e+00\n",
            "Epoch 29/80\n",
            "2/2 [==============================] - 0s 10ms/step - loss: 0.2102 - accuracy: 0.0000e+00 - val_loss: 0.2424 - val_accuracy: 0.0000e+00\n",
            "Epoch 30/80\n",
            "2/2 [==============================] - 0s 9ms/step - loss: 0.2085 - accuracy: 0.0000e+00 - val_loss: 0.2421 - val_accuracy: 0.0000e+00\n",
            "Epoch 31/80\n",
            "2/2 [==============================] - 0s 9ms/step - loss: 0.2068 - accuracy: 0.0000e+00 - val_loss: 0.2420 - val_accuracy: 0.0000e+00\n",
            "Epoch 32/80\n",
            "2/2 [==============================] - 0s 9ms/step - loss: 0.2058 - accuracy: 0.0000e+00 - val_loss: 0.2419 - val_accuracy: 0.0000e+00\n",
            "Epoch 33/80\n",
            "2/2 [==============================] - 0s 11ms/step - loss: 0.2047 - accuracy: 0.0000e+00 - val_loss: 0.2418 - val_accuracy: 0.0000e+00\n",
            "Epoch 34/80\n",
            "2/2 [==============================] - 0s 10ms/step - loss: 0.2037 - accuracy: 0.0000e+00 - val_loss: 0.2416 - val_accuracy: 0.0000e+00\n",
            "Epoch 35/80\n",
            "2/2 [==============================] - 0s 11ms/step - loss: 0.2026 - accuracy: 0.0000e+00 - val_loss: 0.2417 - val_accuracy: 0.0000e+00\n",
            "Epoch 36/80\n",
            "2/2 [==============================] - 0s 10ms/step - loss: 0.2020 - accuracy: 0.0000e+00 - val_loss: 0.2416 - val_accuracy: 0.0000e+00\n",
            "Epoch 37/80\n",
            "2/2 [==============================] - 0s 11ms/step - loss: 0.2011 - accuracy: 0.0000e+00 - val_loss: 0.2416 - val_accuracy: 0.0000e+00\n",
            "Epoch 38/80\n",
            "2/2 [==============================] - 0s 10ms/step - loss: 0.2006 - accuracy: 0.0000e+00 - val_loss: 0.2417 - val_accuracy: 0.0000e+00\n",
            "Epoch 39/80\n",
            "2/2 [==============================] - 0s 10ms/step - loss: 0.1999 - accuracy: 0.0000e+00 - val_loss: 0.2420 - val_accuracy: 0.0000e+00\n",
            "Epoch 40/80\n",
            "2/2 [==============================] - 0s 10ms/step - loss: 0.1992 - accuracy: 0.0000e+00 - val_loss: 0.2422 - val_accuracy: 0.0000e+00\n",
            "Epoch 41/80\n",
            "2/2 [==============================] - 0s 10ms/step - loss: 0.1988 - accuracy: 0.0000e+00 - val_loss: 0.2422 - val_accuracy: 0.0000e+00\n",
            "Epoch 42/80\n",
            "2/2 [==============================] - 0s 11ms/step - loss: 0.1986 - accuracy: 0.0000e+00 - val_loss: 0.2422 - val_accuracy: 0.0000e+00\n",
            "Epoch 43/80\n",
            "2/2 [==============================] - 0s 10ms/step - loss: 0.1984 - accuracy: 0.0000e+00 - val_loss: 0.2425 - val_accuracy: 0.0000e+00\n",
            "Epoch 44/80\n",
            "2/2 [==============================] - 0s 11ms/step - loss: 0.1983 - accuracy: 0.0000e+00 - val_loss: 0.2422 - val_accuracy: 0.0000e+00\n",
            "Epoch 45/80\n",
            "2/2 [==============================] - 0s 11ms/step - loss: 0.1981 - accuracy: 0.0000e+00 - val_loss: 0.2424 - val_accuracy: 0.0000e+00\n",
            "Epoch 46/80\n",
            "2/2 [==============================] - 0s 11ms/step - loss: 0.1978 - accuracy: 0.0000e+00 - val_loss: 0.2429 - val_accuracy: 0.0000e+00\n",
            "Epoch 47/80\n",
            "2/2 [==============================] - 0s 11ms/step - loss: 0.1971 - accuracy: 0.0000e+00 - val_loss: 0.2431 - val_accuracy: 0.0000e+00\n",
            "Epoch 48/80\n",
            "2/2 [==============================] - 0s 10ms/step - loss: 0.1970 - accuracy: 0.0000e+00 - val_loss: 0.2430 - val_accuracy: 0.0000e+00\n",
            "Epoch 49/80\n",
            "2/2 [==============================] - 0s 10ms/step - loss: 0.1968 - accuracy: 0.0000e+00 - val_loss: 0.2432 - val_accuracy: 0.0000e+00\n",
            "Epoch 50/80\n",
            "2/2 [==============================] - 0s 10ms/step - loss: 0.1966 - accuracy: 0.0000e+00 - val_loss: 0.2434 - val_accuracy: 0.0000e+00\n",
            "Epoch 51/80\n",
            "2/2 [==============================] - 0s 9ms/step - loss: 0.1964 - accuracy: 0.0000e+00 - val_loss: 0.2434 - val_accuracy: 0.0000e+00\n",
            "Epoch 52/80\n",
            "2/2 [==============================] - 0s 9ms/step - loss: 0.1962 - accuracy: 0.0000e+00 - val_loss: 0.2434 - val_accuracy: 0.0000e+00\n",
            "Epoch 53/80\n",
            "2/2 [==============================] - 0s 13ms/step - loss: 0.1961 - accuracy: 0.0000e+00 - val_loss: 0.2434 - val_accuracy: 0.0000e+00\n",
            "Epoch 54/80\n",
            "2/2 [==============================] - 0s 14ms/step - loss: 0.1959 - accuracy: 0.0000e+00 - val_loss: 0.2435 - val_accuracy: 0.0000e+00\n",
            "Epoch 55/80\n",
            "2/2 [==============================] - 0s 9ms/step - loss: 0.1957 - accuracy: 0.0000e+00 - val_loss: 0.2438 - val_accuracy: 0.0000e+00\n",
            "Epoch 56/80\n",
            "2/2 [==============================] - 0s 11ms/step - loss: 0.1955 - accuracy: 0.0000e+00 - val_loss: 0.2442 - val_accuracy: 0.0000e+00\n",
            "Epoch 57/80\n",
            "2/2 [==============================] - 0s 10ms/step - loss: 0.1953 - accuracy: 0.0000e+00 - val_loss: 0.2443 - val_accuracy: 0.0000e+00\n",
            "Epoch 58/80\n",
            "2/2 [==============================] - 0s 10ms/step - loss: 0.1951 - accuracy: 0.0000e+00 - val_loss: 0.2445 - val_accuracy: 0.0000e+00\n",
            "Epoch 59/80\n",
            "2/2 [==============================] - 0s 10ms/step - loss: 0.1950 - accuracy: 0.0000e+00 - val_loss: 0.2442 - val_accuracy: 0.0000e+00\n",
            "Epoch 60/80\n",
            "2/2 [==============================] - 0s 10ms/step - loss: 0.1948 - accuracy: 0.0000e+00 - val_loss: 0.2442 - val_accuracy: 0.0000e+00\n",
            "Epoch 61/80\n",
            "2/2 [==============================] - 0s 9ms/step - loss: 0.1946 - accuracy: 0.0000e+00 - val_loss: 0.2443 - val_accuracy: 0.0000e+00\n",
            "Epoch 62/80\n",
            "2/2 [==============================] - 0s 10ms/step - loss: 0.1945 - accuracy: 0.0000e+00 - val_loss: 0.2444 - val_accuracy: 0.0000e+00\n",
            "Epoch 63/80\n",
            "2/2 [==============================] - 0s 9ms/step - loss: 0.1944 - accuracy: 0.0000e+00 - val_loss: 0.2444 - val_accuracy: 0.0000e+00\n",
            "Epoch 64/80\n",
            "2/2 [==============================] - 0s 10ms/step - loss: 0.1942 - accuracy: 0.0000e+00 - val_loss: 0.2445 - val_accuracy: 0.0000e+00\n",
            "Epoch 65/80\n",
            "2/2 [==============================] - 0s 10ms/step - loss: 0.1941 - accuracy: 0.0000e+00 - val_loss: 0.2446 - val_accuracy: 0.0000e+00\n",
            "Epoch 66/80\n",
            "2/2 [==============================] - 0s 10ms/step - loss: 0.1939 - accuracy: 0.0000e+00 - val_loss: 0.2449 - val_accuracy: 0.0000e+00\n",
            "Epoch 67/80\n",
            "2/2 [==============================] - 0s 9ms/step - loss: 0.1938 - accuracy: 0.0000e+00 - val_loss: 0.2447 - val_accuracy: 0.0000e+00\n",
            "Epoch 68/80\n",
            "2/2 [==============================] - 0s 10ms/step - loss: 0.1937 - accuracy: 0.0000e+00 - val_loss: 0.2451 - val_accuracy: 0.0000e+00\n",
            "Epoch 69/80\n",
            "2/2 [==============================] - 0s 9ms/step - loss: 0.1936 - accuracy: 0.0000e+00 - val_loss: 0.2456 - val_accuracy: 0.0000e+00\n",
            "Epoch 70/80\n",
            "2/2 [==============================] - 0s 9ms/step - loss: 0.1934 - accuracy: 0.0000e+00 - val_loss: 0.2462 - val_accuracy: 0.0000e+00\n",
            "Epoch 71/80\n",
            "2/2 [==============================] - 0s 10ms/step - loss: 0.1933 - accuracy: 0.0000e+00 - val_loss: 0.2459 - val_accuracy: 0.0000e+00\n",
            "Epoch 72/80\n",
            "2/2 [==============================] - 0s 9ms/step - loss: 0.1932 - accuracy: 0.0000e+00 - val_loss: 0.2464 - val_accuracy: 0.0000e+00\n",
            "Epoch 73/80\n",
            "2/2 [==============================] - 0s 9ms/step - loss: 0.1930 - accuracy: 0.0000e+00 - val_loss: 0.2462 - val_accuracy: 0.0000e+00\n",
            "Epoch 74/80\n",
            "2/2 [==============================] - 0s 9ms/step - loss: 0.1929 - accuracy: 0.0000e+00 - val_loss: 0.2463 - val_accuracy: 0.0000e+00\n",
            "Epoch 75/80\n",
            "2/2 [==============================] - 0s 10ms/step - loss: 0.1928 - accuracy: 0.0000e+00 - val_loss: 0.2462 - val_accuracy: 0.0000e+00\n",
            "Epoch 76/80\n",
            "2/2 [==============================] - 0s 9ms/step - loss: 0.1927 - accuracy: 0.0000e+00 - val_loss: 0.2463 - val_accuracy: 0.0000e+00\n",
            "Epoch 77/80\n",
            "2/2 [==============================] - 0s 9ms/step - loss: 0.1926 - accuracy: 0.0000e+00 - val_loss: 0.2463 - val_accuracy: 0.0000e+00\n",
            "Epoch 78/80\n",
            "2/2 [==============================] - 0s 10ms/step - loss: 0.1926 - accuracy: 0.0000e+00 - val_loss: 0.2468 - val_accuracy: 0.0000e+00\n",
            "Epoch 79/80\n",
            "2/2 [==============================] - 0s 11ms/step - loss: 0.1924 - accuracy: 0.0000e+00 - val_loss: 0.2468 - val_accuracy: 0.0000e+00\n",
            "Epoch 80/80\n",
            "2/2 [==============================] - 0s 9ms/step - loss: 0.1923 - accuracy: 0.0000e+00 - val_loss: 0.2473 - val_accuracy: 0.0000e+00\n"
          ],
          "name": "stdout"
        }
      ]
    },
    {
      "cell_type": "code",
      "metadata": {
        "hidden": true,
        "id": "Ks8oZkSh_r5R",
        "colab_type": "code",
        "colab": {
          "base_uri": "https://localhost:8080/",
          "height": 293
        },
        "outputId": "ccdbde16-c114-445f-d942-837f14725619"
      },
      "source": [
        "h = pd.DataFrame(history.history)\n",
        "\n",
        "h[['val_loss','loss']].plot();\n",
        "plt.gca().set_xlabel('Epoch');\n",
        "plt.gca().set_ylabel('MSE');\n",
        "plt.gca().set_title(f'{rollnumber}');"
      ],
      "execution_count": 34,
      "outputs": [
        {
          "output_type": "display_data",
          "data": {
            "image/png": "[encoded data removed]",
            "text/plain": [
              "<Figure size 432x288 with 1 Axes>"
            ]
          },
          "metadata": {
            "tags": [],
            "needs_background": "light"
          }
        }
      ]
    },
    {
      "cell_type": "code",
      "metadata": {
        "hidden": true,
        "id": "bw9w8sWt_r5U",
        "colab_type": "code",
        "colab": {
          "base_uri": "https://localhost:8080/",
          "height": 71
        },
        "outputId": "72440635-8cb8-426a-ff8b-992eb71b6396"
      },
      "source": [
        "score = model.evaluate(x_test, y_test, \n",
        "                       verbose=1)\n",
        "print('Test loss:', score[0])\n",
        "print('Test accuracy:', score[1])"
      ],
      "execution_count": 35,
      "outputs": [
        {
          "output_type": "stream",
          "text": [
            "2/2 [==============================] - 0s 2ms/step - loss: 0.2473 - accuracy: 0.0000e+00\n",
            "Test loss: 0.24733476340770721\n",
            "Test accuracy: 0.0\n"
          ],
          "name": "stdout"
        }
      ]
    },
    {
      "cell_type": "code",
      "metadata": {
        "hidden": true,
        "id": "wRJi-YTK_r5X",
        "colab_type": "code",
        "colab": {
          "base_uri": "https://localhost:8080/",
          "height": 35
        },
        "outputId": "28d63a85-25cd-4e35-bdab-562510e3a0d7"
      },
      "source": [
        "d = np.arange(-1.5, 2.5, 0.1).reshape((40,1))\n",
        "preds = model.predict(d, verbose=1)"
      ],
      "execution_count": 36,
      "outputs": [
        {
          "output_type": "stream",
          "text": [
            "2/2 [==============================] - 0s 3ms/step\n"
          ],
          "name": "stdout"
        }
      ]
    },
    {
      "cell_type": "code",
      "metadata": {
        "hidden": true,
        "id": "-jbaLd9Y_r5b",
        "colab_type": "code",
        "colab": {
          "base_uri": "https://localhost:8080/",
          "height": 293
        },
        "outputId": "c40f4538-eea9-4a54-89bf-b4e592e4c165"
      },
      "source": [
        "fig, ax = plt.subplots()\n",
        "ax.scatter(data_x[:,0].reshape((200,1)), data_x[:,1].reshape((200,1)));\n",
        "ax.plot(d.flatten(), preds.flatten(), c='tab:red', label='Prediction');\n",
        "ax.set(xlabel='Input', ylabel='Output', title=f'Neural Network Regression {rollnumber}');\n",
        "ax.legend();"
      ],
      "execution_count": 37,
      "outputs": [
        {
          "output_type": "display_data",
          "data": {
            "image/png": "[encoded data removed]",
            "text/plain": [
              "<Figure size 432x288 with 1 Axes>"
            ]
          },
          "metadata": {
            "tags": [],
            "needs_background": "light"
          }
        }
      ]
    },
    {
      "cell_type": "markdown",
      "metadata": {
        "heading_collapsed": true,
        "hidden": true,
        "id": "yftEFgEW_r5e",
        "colab_type": "text"
      },
      "source": [
        "### Classification"
      ]
    },
    {
      "cell_type": "code",
      "metadata": {
        "hidden": true,
        "id": "U6m4wj5p_r5e",
        "colab_type": "code",
        "colab": {}
      },
      "source": [
        "batch_size = 128\n",
        "num_classes = 2\n",
        "class_labels = np.arange(0,num_classes,1)\n",
        "epochs = 80"
      ],
      "execution_count": 46,
      "outputs": []
    },
    {
      "cell_type": "code",
      "metadata": {
        "ExecuteTime": {
          "end_time": "2019-02-12T07:33:36.497335Z",
          "start_time": "2019-02-12T07:33:36.487451Z"
        },
        "hidden": true,
        "id": "aAHDrCpW_r5i",
        "colab_type": "code",
        "colab": {
          "base_uri": "https://localhost:8080/",
          "height": 296
        },
        "outputId": "1d38ebee-ce24-4a93-df29-522e09023467"
      },
      "source": [
        "data_x, data_y = make_moons(200, noise=0.20)\n",
        "out = []\n",
        "\n",
        "#print(data_y[200-1])\n",
        "for i in range(200):\n",
        "    label = np.zeros((num_classes,), dtype='int')\n",
        "   # print(label.shape)\n",
        "    label[data_y[i]]=1\n",
        "    out.append(label)\n",
        "#print(np.array(out).shape) \n",
        "out=np.array(out)\n",
        "\n",
        "print(data_y.shape)\n",
        "plt.scatter(data_x[:,0], data_x[:,1], c=data_y, cmap=plt.cm.Spectral);\n",
        "x_train, x_test, y_train, y_test = train_test_split(data_x, out, test_size=0.2, shuffle=True)\n",
        "#print(y_train)\n",
        "plt.gca().set(xlabel='Feature 1', ylabel='Feature 2');"
      ],
      "execution_count": 47,
      "outputs": [
        {
          "output_type": "stream",
          "text": [
            "(200,)\n"
          ],
          "name": "stdout"
        },
        {
          "output_type": "display_data",
          "data": {
            "image/png": "[encoded data removed]",
            "text/plain": [
              "<Figure size 432x288 with 1 Axes>"
            ]
          },
          "metadata": {
            "tags": [],
            "needs_background": "light"
          }
        }
      ]
    },
    {
      "cell_type": "code",
      "metadata": {
        "hidden": true,
        "id": "oOQhvyou_r5n",
        "colab_type": "code",
        "colab": {
          "base_uri": "https://localhost:8080/",
          "height": 273
        },
        "outputId": "d8ba9d0f-d6dd-4893-d4f9-9ddca0ae9e1b"
      },
      "source": [
        "model = Sequential()\n",
        "model.add(Dense(50, activation='relu', input_shape=(2,), name='input_l'))\n",
        "model.add(Dense(50, activation='relu', name='hidden_l'))\n",
        "model.add(Dense(num_classes, activation='softmax', name='output_l'))\n",
        "\n",
        "model.summary()"
      ],
      "execution_count": 48,
      "outputs": [
        {
          "output_type": "stream",
          "text": [
            "Model: \"sequential_3\"\n",
            "_________________________________________________________________\n",
            "Layer (type)                 Output Shape              Param #   \n",
            "=================================================================\n",
            "input_l (Dense)              (None, 50)                150       \n",
            "_________________________________________________________________\n",
            "hidden_l (Dense)             (None, 50)                2550      \n",
            "_________________________________________________________________\n",
            "output_l (Dense)             (None, 2)                 102       \n",
            "=================================================================\n",
            "Total params: 2,802\n",
            "Trainable params: 2,802\n",
            "Non-trainable params: 0\n",
            "_________________________________________________________________\n"
          ],
          "name": "stdout"
        }
      ]
    },
    {
      "cell_type": "code",
      "metadata": {
        "ExecuteTime": {
          "end_time": "2019-02-12T07:34:53.337575Z",
          "start_time": "2019-02-12T07:34:53.317596Z"
        },
        "hidden": true,
        "id": "3qEbiLpq_r5s",
        "colab_type": "code",
        "colab": {}
      },
      "source": [
        "def mean_squared_error(y_pred, y_true):\n",
        "    return K.mean(K.pow(y_true - y_pred, 2))\n",
        "\n",
        "def cross_entropy_loss(y_pred, y_true):\n",
        "    return -(K.sum(y_true * K.log(y_pred+0.0001)))\n",
        "    #return -(y_true * np.log(y_pred)).sum()"
      ],
      "execution_count": 49,
      "outputs": []
    },
    {
      "cell_type": "code",
      "metadata": {
        "hidden": true,
        "id": "anxsDm4l_r51",
        "colab_type": "code",
        "colab": {}
      },
      "source": [
        "model.compile(loss=cross_entropy_loss,\n",
        "              optimizer='sgd',\n",
        "              metrics=['accuracy'])"
      ],
      "execution_count": 50,
      "outputs": []
    },
    {
      "cell_type": "code",
      "metadata": {
        "hidden": true,
        "id": "tZWzCsk6_r54",
        "colab_type": "code",
        "colab": {}
      },
      "source": [
        "print(data_y.shape)\n",
        "history = model.fit(x_train, y_train,batch_size=batch_size,epochs=epochs,verbose=1, validation_data=(x_test, y_test) )"
      ],
      "execution_count": null,
      "outputs": []
    },
    {
      "cell_type": "code",
      "metadata": {
        "hidden": true,
        "id": "QQbXm-jx_r5-",
        "colab_type": "code",
        "colab": {}
      },
      "source": [
        "h = pd.DataFrame(history.history)\n",
        "\n",
        "h[['val_loss','loss']].plot();\n",
        "plt.gca().set_xlabel('Epoch');\n",
        "plt.gca().set_ylabel('Crossentropy');\n",
        "plt.gca().set_title(f'{rollnumber}');\n",
        "\n",
        "h[['val_acc','acc']].plot();\n",
        "plt.gca().set_xlabel('Epoch');\n",
        "plt.gca().set_ylabel('Accuracy');\n",
        "plt.gca().set_title(f'{rollnumber}');"
      ],
      "execution_count": null,
      "outputs": []
    },
    {
      "cell_type": "code",
      "metadata": {
        "hidden": true,
        "id": "5wqraNj3_r6D",
        "colab_type": "code",
        "colab": {}
      },
      "source": [
        "score = model.evaluate(x_test, y_test, \n",
        "                       verbose=1)\n",
        "print('Test loss:', score[0])\n",
        "print('Test accuracy:', score[1])"
      ],
      "execution_count": null,
      "outputs": []
    },
    {
      "cell_type": "code",
      "metadata": {
        "hidden": true,
        "id": "-o6eWXHv_r6I",
        "colab_type": "code",
        "colab": {}
      },
      "source": [
        "fig, ax = plt.subplots()\n",
        "x_min, x_max = data_x[:, 0].min() - .5, data_x[:, 0].max() + .5\n",
        "y_min, y_max = data_x[:, 1].min() - .5, data_x[:, 1].max() + .5\n",
        "plot_decision_boundary(lambda x: model.predict(x).argmax(axis=1), \n",
        "                       x_min, x_max, y_min, y_max, \n",
        "                       plt.cm.Spectral, ax)\n",
        "ax.scatter(data_x[:,0], data_x[:,1], c=data_y, cmap=plt.cm.Spectral);\n",
        "ax.set(xlabel='Feature 1', ylabel='Feature 2', title=f'Neural Network Classifier {rollnumber}');"
      ],
      "execution_count": null,
      "outputs": []
    },
    {
      "cell_type": "code",
      "metadata": {
        "id": "qRWJlYiq_r6M",
        "colab_type": "code",
        "colab": {}
      },
      "source": [
        ""
      ],
      "execution_count": 54,
      "outputs": []
    }
  ]
}